{
 "cells": [
  {
   "cell_type": "code",
   "execution_count": 1,
   "metadata": {},
   "outputs": [],
   "source": [
    "from IPython.core.interactiveshell import InteractiveShell\n",
    "InteractiveShell.ast_node_interactivity = 'all'"
   ]
  },
  {
   "cell_type": "code",
   "execution_count": 2,
   "metadata": {},
   "outputs": [],
   "source": [
    "import numpy as np\n",
    "import matplotlib.pyplot as plt\n",
    "%matplotlib inline\n",
    "import deap\n",
    "from deap import algorithms,base,creator,tools\n",
    "import numpy as np\n",
    "from numpy import random\n"
   ]
  },
  {
   "cell_type": "markdown",
   "metadata": {},
   "source": [
    "### Manual gradient_descent as an objective function for GA"
   ]
  },
  {
   "cell_type": "code",
   "execution_count": 3,
   "metadata": {},
   "outputs": [],
   "source": [
    "def dea_graid(m_b_curr):\n",
    "    x = np.array([1,2,3,4,5])\n",
    "    y = np.array([5,7,9,11,13])\n",
    "    n = len(x)\n",
    "    y_pred = m_b_curr[0] * x + m_b_curr[1]\n",
    "    cost = 1/n * sum([val**2 for val in (y-y_pred)])\n",
    "    return cost,"
   ]
  },
  {
   "cell_type": "markdown",
   "metadata": {},
   "source": [
    "#Above fucntion  Returns the cost function value "
   ]
  },
  {
   "cell_type": "code",
   "execution_count": 4,
   "metadata": {},
   "outputs": [
    {
     "data": {
      "text/plain": [
       "(78.37092655090225,)"
      ]
     },
     "execution_count": 4,
     "metadata": {},
     "output_type": "execute_result"
    }
   ],
   "source": [
    "dea_graid([0.12726272000000183, 0.1709260800000001])"
   ]
  },
  {
   "cell_type": "markdown",
   "metadata": {},
   "source": [
    "### Using Deap version 1.3"
   ]
  },
  {
   "cell_type": "code",
   "execution_count": 5,
   "metadata": {},
   "outputs": [
    {
     "data": {
      "text/plain": [
       "'1.3'"
      ]
     },
     "execution_count": 5,
     "metadata": {},
     "output_type": "execute_result"
    }
   ],
   "source": [
    "deap.__version__"
   ]
  },
  {
   "cell_type": "markdown",
   "metadata": {},
   "source": [
    "## Algo"
   ]
  },
  {
   "cell_type": "code",
   "execution_count": 6,
   "metadata": {},
   "outputs": [],
   "source": [
    "# Minimizing the Fitness function (cost function from gradient_descent)"
   ]
  },
  {
   "cell_type": "code",
   "execution_count": 7,
   "metadata": {},
   "outputs": [
    {
     "data": {
      "text/plain": [
       "0.35678559579448166"
      ]
     },
     "execution_count": 7,
     "metadata": {},
     "output_type": "execute_result"
    }
   ],
   "source": [
    "creator.create(\"FitnessMin\", base.Fitness, weights=(-1.0,)) # -1 to  minimum the cost function\n",
    "creator.create(\"Individual\", list, fitness=creator.FitnessMin)\n",
    "toolbox = base.Toolbox()\n",
    "toolbox.register(\"attr_bool\",np.random.rand)\n",
    "toolbox.attr_bool()"
   ]
  },
  {
   "cell_type": "markdown",
   "metadata": {},
   "source": [
    "#### Creating 2 indivisuals one is m and b from the equation y = mx+b"
   ]
  },
  {
   "cell_type": "code",
   "execution_count": 8,
   "metadata": {},
   "outputs": [
    {
     "data": {
      "text/plain": [
       "[0.9820684625268074, 0.15912859125493362]"
      ]
     },
     "execution_count": 8,
     "metadata": {},
     "output_type": "execute_result"
    }
   ],
   "source": [
    "toolbox.register(\"individual\", tools.initRepeat, creator.Individual, toolbox.attr_bool, 2)\n",
    "toolbox.register(\"population\", tools.initRepeat, list, toolbox.individual)\n",
    "toolbox.individual()"
   ]
  },
  {
   "cell_type": "code",
   "execution_count": 9,
   "metadata": {},
   "outputs": [
    {
     "data": {
      "text/plain": [
       "[0.46416076178534504, 0.11361304410330064]"
      ]
     },
     "execution_count": 9,
     "metadata": {},
     "output_type": "execute_result"
    }
   ],
   "source": [
    "ind = toolbox.individual()\n",
    "ind"
   ]
  },
  {
   "cell_type": "code",
   "execution_count": 10,
   "metadata": {},
   "outputs": [],
   "source": [
    "#registering the objective function\n",
    "toolbox.register(\"evaluate\", dea_graid)"
   ]
  },
  {
   "cell_type": "code",
   "execution_count": 11,
   "metadata": {},
   "outputs": [],
   "source": [
    "toolbox.register(\"mate\", tools.cxTwoPoint)\n",
    "toolbox.register(\"mutate\", tools.mutUniformInt, low=0, up=100, indpb=0.2) # Independent probability  : for each attribute to be mutated.# low~up rondom int\n",
    "toolbox.register(\"select\", tools.selTournament, tournsize=3)"
   ]
  },
  {
   "cell_type": "code",
   "execution_count": 12,
   "metadata": {},
   "outputs": [],
   "source": [
    "pop = toolbox.population(n=500)"
   ]
  },
  {
   "cell_type": "code",
   "execution_count": 13,
   "metadata": {},
   "outputs": [],
   "source": [
    "hof = tools.ParetoFront()"
   ]
  },
  {
   "cell_type": "code",
   "execution_count": 14,
   "metadata": {},
   "outputs": [],
   "source": [
    "stats = tools.Statistics(lambda ind: ind.fitness.values)\n",
    "stats.register(\"avg\", np.mean)\n",
    "stats.register(\"std\", np.std)\n",
    "stats.register(\"min\", np.min)\n",
    "stats.register(\"max\", np.max)"
   ]
  },
  {
   "cell_type": "code",
   "execution_count": 15,
   "metadata": {},
   "outputs": [
    {
     "name": "stdout",
     "output_type": "stream",
     "text": [
      "gen\tnevals\tavg    \tstd    \tmin    \tmax   \n",
      "0  \t500   \t54.2096\t14.2198\t27.4318\t87.018\n",
      "1  \t288   \t1361.72\t9090.9 \t15.4088\t89605 \n",
      "2  \t298   \t2040.85\t11910.4\t4.69674\t147619\n",
      "3  \t309   \t1964.42\t11471.4\t2.02961\t123784\n",
      "4  \t323   \t1644.04\t9295.14\t2.02961\t104456\n",
      "5  \t322   \t2448.46\t13118.9\t2.00311\t130409\n",
      "6  \t315   \t2037.25\t11578.3\t0      \t124227\n",
      "7  \t306   \t1516.28\t10438  \t0      \t101376\n",
      "8  \t294   \t1843.71\t10921  \t0      \t103499\n",
      "9  \t326   \t1778.7 \t10808.5\t0      \t103499\n",
      "10 \t309   \t1057.66\t8028.22\t0      \t100377\n",
      "11 \t301   \t1571.5 \t10396.1\t0      \t107417\n",
      "12 \t296   \t1962.85\t12619.8\t0      \t152774\n",
      "13 \t300   \t1594.4 \t11094.4\t0      \t167043\n",
      "14 \t285   \t1179.55\t8860.01\t0      \t103499\n",
      "15 \t306   \t1436.29\t8960.17\t0      \t92738 \n",
      "16 \t286   \t2129.48\t13296.8\t0      \t152722\n",
      "17 \t283   \t812.852\t6150.87\t0      \t81356 \n",
      "18 \t323   \t2390.28\t12813  \t0      \t126006\n",
      "19 \t313   \t1512.85\t9927.29\t0      \t99275 \n",
      "20 \t310   \t1323.59\t8778.69\t0      \t112162\n",
      "21 \t280   \t1691.77\t10569.9\t0      \t148808\n",
      "22 \t329   \t1889.74\t11221.6\t0      \t149441\n",
      "23 \t295   \t1769.35\t10520.7\t0      \t113682\n",
      "24 \t310   \t1789.96\t11544.3\t0      \t127692\n",
      "25 \t292   \t1360.56\t9272.56\t0      \t109107\n",
      "26 \t301   \t2201.42\t13396  \t0      \t153121\n",
      "27 \t304   \t1202.6 \t8488.93\t0      \t103499\n",
      "28 \t311   \t1347.26\t8995.47\t0      \t101376\n",
      "29 \t291   \t1241.23\t8590.52\t0      \t104178\n",
      "30 \t326   \t1615.86\t8860.17\t0      \t85184 \n",
      "31 \t317   \t1447.7 \t9070.29\t0      \t97196 \n",
      "32 \t297   \t1847.82\t11610.4\t0      \t103499\n",
      "33 \t307   \t2528.02\t14122.4\t0      \t135547\n",
      "34 \t324   \t2124.73\t12459.6\t0      \t131433\n",
      "35 \t275   \t1216.86\t8511.97\t0      \t103499\n",
      "36 \t332   \t1853.18\t11052.5\t0      \t131172\n",
      "37 \t295   \t1687.9 \t10309.9\t0      \t117275\n",
      "38 \t307   \t1727.88\t9993.22\t0      \t95139 \n",
      "39 \t297   \t1816.74\t11405.6\t0      \t131097\n",
      "40 \t286   \t1421.93\t10089.1\t0      \t105644\n",
      "41 \t284   \t1501.25\t8948.74\t0      \t89100 \n",
      "42 \t277   \t2098.11\t12018.5\t0      \t119467\n",
      "43 \t323   \t1316.73\t7690.42\t0      \t85184 \n",
      "44 \t294   \t1305.93\t9162.87\t0      \t99275 \n",
      "45 \t305   \t1491.42\t8727.48\t0      \t83259 \n",
      "46 \t325   \t2898.81\t14211.9\t0      \t106692\n",
      "47 \t303   \t1922.96\t11253.6\t0      \t105644\n",
      "48 \t286   \t1622.6 \t11250.1\t0      \t128379\n",
      "49 \t269   \t1519.45\t10210.2\t0      \t105644\n",
      "50 \t301   \t1761.81\t9211.05\t0      \t83259 \n"
     ]
    }
   ],
   "source": [
    "pop, log = algorithms.eaSimple(pop, toolbox, cxpb=0.5, mutpb=0.2, ngen=50, stats=stats, halloffame=hof, verbose=True)"
   ]
  },
  {
   "cell_type": "code",
   "execution_count": 16,
   "metadata": {},
   "outputs": [],
   "source": [
    "# we got the best values for m and b from genetic Algos without derivatives"
   ]
  },
  {
   "cell_type": "code",
   "execution_count": 17,
   "metadata": {},
   "outputs": [
    {
     "name": "stdout",
     "output_type": "stream",
     "text": [
      "m_curr is 2 and b_curr is 3\n"
     ]
    }
   ],
   "source": [
    "print ('m_curr is {} and b_curr is {}'.format(hof.items[0][0],hof.items[0][1]))"
   ]
  },
  {
   "cell_type": "markdown",
   "metadata": {},
   "source": [
    "### Using the derivative lets see the results "
   ]
  },
  {
   "cell_type": "code",
   "execution_count": 18,
   "metadata": {},
   "outputs": [],
   "source": [
    "def gradient_des(x,y,lr,iteration):\n",
    "    m_curr =b_curr =0\n",
    "    n = len(x)\n",
    "    \n",
    "    m = []\n",
    "    c = []\n",
    "    count = []\n",
    "    cost_fun = []\n",
    "    \n",
    "    for i in range(iteration):\n",
    "        y_pred = m_curr * x + b_curr\n",
    "        m_de = -(2/n) * sum(x * (y - y_pred))\n",
    "        b_de =  -(2/n) * sum(y - y_pred)\n",
    "        m_curr = m_curr - (lr * m_de)\n",
    "        m.append(m_curr)\n",
    "        b_curr = b_curr - (lr * b_de)\n",
    "        c.append(b_curr)\n",
    "        count.append(i)\n",
    "        cost = 1/n * sum([val**2 for val in (y-y_pred)])\n",
    "        cost_fun.append(cost)\n",
    "        print ('values of m_curr {} ,b_curr {},iteration {} ,cost {} '.format(m_curr,b_curr,i,cost))\n",
    "    plt.plot(count,cost_fun)\n",
    "    plt.show()\n",
    "\n",
    "x = np.array([1,2,3,4,5])\n",
    "y = np.array([5,7,9,11,13])\n"
   ]
  },
  {
   "cell_type": "code",
   "execution_count": 19,
   "metadata": {},
   "outputs": [
    {
     "name": "stdout",
     "output_type": "stream",
     "text": [
      "values of m_curr 5.158399999999999 ,b_curr 1.4975999999999998,iteration 0 ,cost 89.0 \n",
      "values of m_curr 0.12726272000000183 ,b_curr 0.1709260800000001,iteration 1 ,cost 83.51652095999997 \n",
      "values of m_curr 4.967394738175998 ,b_curr 1.5765544304639991,iteration 2 ,cost 78.37092655090225 \n",
      "values of m_curr 0.24645943773102186 ,b_curr 0.3320923199373311,iteration 3 ,cost 73.5423947844059 \n",
      "values of m_curr 4.787959596795444 ,b_curr 1.651399606584433,iteration 4 ,cost 69.01138692835892 \n",
      "values of m_curr 0.35809966721411346 ,b_curr 0.48405728132849757,iteration 5 ,cost 64.75956841373237 \n",
      "values of m_curr 4.619392641506214 ,b_curr 1.7223467958421501,iteration 6 ,cost 60.76973461680441 \n",
      "values of m_curr 0.46266083000883906 ,b_curr 0.6273474823741145,iteration 7 ,cost 57.025741216033275 \n",
      "values of m_curr 4.461034583559503 ,b_curr 1.7895965749666494,iteration 8 ,cost 53.512438841623194 \n",
      "values of m_curr 0.560590271588838 ,b_curr 0.7624592407792952,iteration 9 ,cost 50.21561175317162 \n",
      "values of m_curr 4.312266185475605 ,b_curr 1.8533393595364724,iteration 10 ,cost 47.121920297098306 \n",
      "values of m_curr 0.6523071513004504 ,b_curr 0.8898604103201814,iteration 11 ,cost 44.21884691086349 \n",
      "values of m_curr 4.172505824728272 ,b_curr 1.913755908113718,iteration 12 ,cost 41.49464545534486 \n",
      "values of m_curr 0.7382042138152753 ,b_curr 1.009992017299242,iteration 13 ,cost 38.93829367022108 \n",
      "values of m_curr 4.041207205812014 ,b_curr 1.9710178020840627,iteration 14 ,cost 36.539448559856226 \n",
      "values of m_curr 0.8186494494933392 ,b_curr 1.1232698026759174,iteration 15 ,cost 34.28840452904592 \n",
      "values of m_curr 3.917857211644913 ,b_curr 2.0252879023235697,iteration 16 ,cost 32.17605409912206 \n",
      "values of m_curr 0.8939876506101383 ,b_curr 1.2300856753237872,iteration 17 ,cost 30.193851045361495 \n",
      "values of m_curr 3.801973885811707 ,b_curr 2.076720783765328,iteration 18 ,cost 28.333775806449207 \n",
      "values of m_curr 0.9645418699663071 ,b_curr 1.3308090815495734,iteration 19 ,cost 26.5883030259462 \n",
      "values of m_curr 3.6931045376704312 ,b_curr 2.125463148892544,iteration 20 ,cost 24.95037109434638 \n",
      "values of m_curr 1.0306147879913161 ,b_curr 1.4257882957117454,iteration 21 ,cost 23.413353568406933 \n",
      "values of m_curr 3.590823962832707 ,b_curr 2.171654221140046,iteration 22 ,cost 21.97103235203859 \n",
      "values of m_curr 1.0924899940706094 ,b_curr 1.515351636496255,iteration 23 ,cost 20.617572530175025 \n",
      "values of m_curr 3.4947327719848356 ,b_curr 2.21542611914323,iteration 24 ,cost 19.347498753734 \n",
      "values of m_curr 1.1504331874674922 ,b_curr 1.5998086131429665,iteration 25 ,cost 18.155673080063185 \n",
      "values of m_curr 3.4044558214460254 ,b_curr 2.2569042127322048,iteration 26 ,cost 17.03727417915733 \n",
      "values of m_curr 1.2046933028753037 ,b_curr 1.67945100566771,iteration 27 ,cost 15.987777821463446 \n",
      "values of m_curr 3.319640739263027 ,b_curr 2.2962074615292516,iteration 28 ,cost 15.002938568279866 \n",
      "values of m_curr 1.2555035653205797 ,b_curr 1.754553882890681,iteration 29 ,cost 14.078772590624409 \n",
      "values of m_curr 3.2399565410187625 ,b_curr 2.3334487369696384,iteration 30 ,cost 13.211541547016026 \n",
      "values of m_curr 1.303082478842776 ,b_curr 1.8253765618613242,iteration 31 ,cost 12.397737454901842 \n",
      "values of m_curr 3.165092329887786 ,b_curr 2.368735128529286,iteration 32 ,cost 11.634068494484644 \n",
      "values of m_curr 1.347634753099363 ,b_curr 1.89216351206203,iteration 33 ,cost 10.917445687481015 \n",
      "values of m_curr 3.0947560758049235 ,b_curr 2.4021682349077063,iteration 34 ,cost 10.244970396882884 \n",
      "values of m_curr 1.3893521717856652 ,b_curr 1.9551452075772464,iteration 35 ,cost 9.613922597119291 \n",
      "values of m_curr 3.028673468926622 ,b_curr 2.4338444408809883,iteration 36 ,cost 9.02174986713428 \n",
      "values of m_curr 1.428414406515544 ,b_curr 2.014538930230222,iteration 37 ,cost 8.466057061823921 \n",
      "values of m_curr 2.966586842858565 ,b_curr 2.4638551805073536,iteration 38 ,cost 7.944596620021663 \n",
      "values of m_curr 1.4649897795809765 ,b_curr 2.070549526515934,iteration 39 ,cost 7.455259469798742 \n",
      "values of m_curr 2.908254163399203 ,b_curr 2.4922871873368595,iteration 40 ,cost 6.996066494264344 \n",
      "values of m_curr 1.4992359787947414 ,b_curr 2.1233701209951237,iteration 41 ,cost 6.5651605233196655 \n",
      "values of m_curr 2.853448078808081 ,b_curr 2.5192227322472003,iteration 42 ,cost 6.16079881894934 \n",
      "values of m_curr 1.5313007274199668 ,b_curr 2.173182788660272,iteration 43 ,cost 5.78134602363175 \n",
      "values of m_curr 2.8019550278512515 ,b_curr 2.5447398494991553,iteration 44 ,cost 5.425267543324673 \n",
      "values of m_curr 1.5613224120023421 ,b_curr 2.220159188639151,iteration 45 ,cost 5.091123338242152 \n",
      "values of m_curr 2.753574402104591 ,b_curr 2.5689125515780273,iteration 46 ,cost 4.777562096289301 \n",
      "values of m_curr 1.5894306707445967 ,b_curr 2.264461161464832,iteration 47 ,cost 4.483315765570883 \n",
      "values of m_curr 2.7081177592104426 ,b_curr 2.5918110333613815,iteration 48 ,cost 4.207194423843308 \n",
      "values of m_curr 1.6157469448976471 ,b_curr 2.306241292012195,iteration 49 ,cost 3.9480814641435162 \n",
      "values of m_curr 2.665408083984506 ,b_curr 2.61350186612846,iteration 50 ,cost 3.7049290771083694 \n",
      "values of m_curr 1.6403849954879395 ,b_curr 2.345643440079619,iteration 51 ,cost 3.476754011699132 \n",
      "values of m_curr 2.6252790944590694 ,b_curr 2.634048181902791,iteration 52 ,cost 3.2626335971727247 \n",
      "values of m_curr 1.6634513875553152 ,b_curr 2.3828032404801993,iteration 53 ,cost 3.061702010198908 \n",
      "values of m_curr 2.5875745901263505 ,b_curr 2.6535098485966806,iteration 54 ,cost 2.873146772015078 \n",
      "values of m_curr 1.6850459439396155 ,b_curr 2.4178485743991187,iteration 55 ,cost 2.6962054614413975 \n",
      "values of m_curr 2.5521478398125033 ,b_curr 2.6719436364044493,iteration 56 ,cost 2.5301626304529012 \n",
      "values of m_curr 1.7052621705265962 ,b_curr 2.450900013672347,iteration 57 ,cost 2.374346909825118 \n",
      "values of m_curr 2.5188610067694785 ,b_curr 2.6894033758703917,iteration 58 ,cost 2.228128293139182 \n",
      "values of m_curr 1.7241876547441257 ,b_curr 2.4820712395462348,iteration 59 ,cost 2.0909155881543744 \n",
      "values of m_curr 2.487584608718998 ,b_curr 2.7059401080374736,iteration 60 ,cost 1.9621540252335006 \n",
      "values of m_curr 1.7419044389874374 ,b_curr 2.511469437387514,iteration 61 ,cost 1.841323013142258 \n",
      "values of m_curr 2.458197010720985 ,b_curr 2.7216022270637032,iteration 62 ,cost 1.7279340331402702 \n",
      "values of m_curr 1.758489370547093 ,b_curr 2.539195668728387,iteration 63 ,cost 1.6215286628412588 \n",
      "values of m_curr 2.430583948868483 ,b_curr 2.736435615674875,iteration 64 ,cost 1.5216767218450096 \n",
      "values of m_curr 1.7740144295147142 ,b_curr 2.565345221951429,iteration 65 ,cost 1.427974531636804 \n",
      "values of m_curr 2.404638082932828 ,b_curr 2.750483773804966,iteration 66 ,cost 1.3400432827123834 \n",
      "values of m_curr 1.788547036049141 ,b_curr 2.590007942843752,iteration 67 ,cost 1.2575275023205525 \n",
      "values of m_curr 2.3802585761971926 ,b_curr 2.7637879407588204,iteration 68 ,cost 1.1800936166228408 \n",
      "values of m_curr 1.802150338299048 ,b_curr 2.6132685461789142,iteration 69 ,cost 1.1074286014516896 \n",
      "values of m_curr 2.3573507008239565 ,b_curr 2.7763872112158583,iteration 70 ,cost 1.0392387162072776 \n",
      "values of m_curr 1.8148834821968296 ,b_curr 2.6352069094182204,iteration 71 ,cost 0.9752483157696492 \n",
      "values of m_curr 2.3358254672021768 ,b_curr 2.788318645378371,iteration 72 ,cost 0.9151987356184258 \n",
      "values of m_curr 1.8268018642624293 ,b_curr 2.6558983495600836,iteration 73 ,cost 0.8588472456488226 \n",
      "values of m_curr 2.3155992758160853 ,b_curr 2.799617373553481,iteration 74 ,cost 0.8059660684506338 \n",
      "values of m_curr 1.837957368484425 ,b_curr 2.675413884106792,iteration 75 ,cost 0.7563414580777382 \n",
      "values of m_curr 2.296593590264423 ,b_curr 2.810316695443997,iteration 76 ,cost 0.7097728355805846 \n",
      "values of m_curr 1.84839858827878 ,b_curr 2.6938204770621157,iteration 77 ,cost 0.6660719778037197 \n",
      "values of m_curr 2.2787346301438935 ,b_curr 2.820448174410213,iteration 78 ,cost 0.625062256166085 \n",
      "values of m_curr 1.8581710344629323 ,b_curr 2.711181270820522,iteration 79 ,cost 0.5865779223440292 \n",
      "values of m_curr 2.2619530825883767 ,b_curr 2.8300417269520914,iteration 80 ,cost 0.5504634379668465 \n",
      "values of m_curr 1.867317330124128 ,b_curr 2.7275558047591457,iteration 81 ,cost 0.5165728456127291 \n",
      "values of m_curr 2.2461838313291587 ,b_curr 2.8391257076492593,iteration 82 ,cost 0.4847691785601629 \n",
      "values of m_curr 1.8758773932057564 ,b_curr 2.7430002212969065,iteration 83 ,cost 0.4549239069066566 \n",
      "values of m_curr 2.231365702210524 ,b_curr 2.8477269897847877,iteration 84 ,cost 0.4269164178138516 \n",
      "values of m_curr 1.8838886075838148 ,b_curr 2.7575674601411055,iteration 85 ,cost 0.40063352777614303 \n",
      "values of m_curr 2.2174412241599604 ,b_curr 2.8558710418677853,iteration 86 ,cost 0.37596902493956474 \n",
      "values of m_curr 1.8913859833571705 ,b_curr 2.7713074414003334,iteration 87 ,cost 0.3528232396192708 \n",
      "values of m_curr 2.2043564046731587 ,b_curr 2.8635820002594183,iteration 88 ,cost 0.3311026412780517 \n",
      "values of m_curr 1.8984023070299072 ,b_curr 2.78426723820341,iteration 89 ,cost 0.3107194603354248 \n",
      "values of m_curr 2.1920605189312226 ,b_curr 2.870882738097033,iteration 90 ,cost 0.2915913332772821 \n",
      "values of m_curr 1.9049682822214737 ,b_curr 2.7964912394272208,iteration 91 ,cost 0.27364096963038087 \n",
      "values of m_curr 2.1805059117212195 ,b_curr 2.8777949307015716,iteration 92 ,cost 0.2567958394544411 \n",
      "values of m_curr 1.9111126615004745 ,b_curr 2.8080213031015973,iteration 93 ,cost 0.24098788008762423 \n",
      "values of m_curr 2.1696478113816884 ,b_curr 2.8843391176444544,iteration 94 ,cost 0.22615322095906687 \n",
      "values of m_curr 1.916862369900534 ,b_curr 2.8188969010266782,iteration 95 ,cost 0.21223192535527036 \n",
      "values of m_curr 2.159444155042079 ,b_curr 2.8905347616414923,iteration 96 ,cost 0.19916774809571877 \n",
      "values of m_curr 1.922242620641625 ,b_curr 2.829155255107342,iteration 97 ,cost 0.18690790813747993 \n",
      "values of m_curr 2.1498554244696093 ,b_curr 2.896400304433181,iteration 98 ,cost 0.17540287518896128 \n",
      "values of m_curr 1.9272770235473924 ,b_curr 2.8388314658802707,iteration 99 ,cost 0.16460616946964457 \n",
      "values of m_curr 2.140844491878814 ,b_curr 2.901953219802935,iteration 100 ,cost 0.15447417380583636 \n",
      "values of m_curr 1.9319876866182073 ,b_curr 2.847958633681823,iteration 101 ,cost 0.14496595730237025 \n",
      "values of m_curr 2.1323764750982748 ,b_curr 2.9072100638773586,iteration 102 ,cost 0.13604310987703996 \n",
      "values of m_curr 1.9363953111908154 ,b_curr 2.8565679728791076,iteration 103 ,cost 0.1276695869884734 \n",
      "values of m_curr 2.1244186015258966 ,b_curr 2.9121865228455692,iteration 104 ,cost 0.11981156392942333 \n",
      "values of m_curr 1.9405192810883873 ,b_curr 2.864688919562339,iteration 105 ,cost 0.11243729909612675 \n",
      "values of m_curr 2.1169400803386837 ,b_curr 2.916897458227843,iteration 106 ,cost 0.10551700568070702 \n",
      "values of m_curr 1.9443777461394178 ,b_curr 2.872349233073659,iteration 107 ,cost 0.0990227312676799 \n",
      "values of m_curr 2.109911982455457 ,b_curr 2.9213569498174046,iteration 108 ,cost 0.09292824484757434 \n",
      "values of m_curr 1.9479877004201402 ,b_curr 2.8795750917260245,iteration 109 ,cost 0.08720893079071929 \n",
      "values of m_curr 2.103307127781484 ,b_curr 2.92557833641308,iteration 110 ,cost 0.08184168935237007 \n",
      "values of m_curr 1.951365055552846 ,b_curr 2.8863911830454265,iteration 111 ,cost 0.07680484330679616 \n",
      "values of m_curr 2.0970999792926404 ,b_curr 2.9295742544546868,iteration 112 ,cost 0.07207805033272906 \n",
      "values of m_curr 1.9545247093716116 ,b_curr 2.892820788850541,iteration 113 ,cost 0.06764222079584432 \n",
      "values of m_curr 2.0912665435436235 ,b_curr 2.933356674667502,iteration 114 ,cost 0.06347944059577876 \n",
      "values of m_curr 1.9574806102473579 ,b_curr 2.898885865465853,iteration 115 ,cost 0.05957289876567286 \n",
      "values of m_curr 2.08578427721004 ,b_curr 2.936936936816854,iteration 116 ,cost 0.05590681953144824 \n",
      "values of m_curr 1.9602458173458088 ,b_curr 2.9046071193472773,iteration 117 ,cost 0.05246639855607713 \n",
      "values of m_curr 2.0806319992978795 ,b_curr 2.9403257826688627,iteration 118 ,cost 0.049237743111022074 \n",
      "values of m_curr 1.962832557074745 ,b_curr 2.9100040783832624,iteration 119 ,cost 0.046207815932914564 \n",
      "values of m_curr 2.075789808676207 ,b_curr 2.943533387248575,iteration 120 ,cost 0.04336438253844397 \n",
      "values of m_curr 1.9652522759607889 ,b_curr 2.9150951591192493,iteration 121 ,cost 0.04069596178441251 \n",
      "values of m_curr 2.071239006609831 ,b_curr 2.9465693884821804,iteration 122 ,cost 0.03819177947304693 \n",
      "values of m_curr 1.967515690180892 ,b_curr 2.919897730139118,iteration 123 ,cost 0.03584172481496766 \n",
      "values of m_curr 2.0669620239883395 ,b_curr 2.949442915305667,iteration 124 ,cost 0.033636309573775613 \n",
      "values of m_curr 1.9696328319594938 ,b_curr 2.924428171823825,iteration 125 ,cost 0.031566629727059835 \n",
      "values of m_curr 2.0629423529663833 ,b_curr 2.9521626143181616,iteration 126 ,cost 0.029624329488818192 \n",
      "values of m_curr 1.971613093029089 ,b_curr 2.928701932694801,iteration 127 ,cost 0.02780156754781391 \n",
      "values of m_curr 2.0591644827474 ,b_curr 2.954736675054265,iteration 128 ,cost 0.02609098538537405 \n",
      "values of m_curr 1.97346526533947 ,b_curr 2.9327335825377334,iteration 129 ,cost 0.02448567754453304 \n",
      "values of m_curr 2.055613839259267 ,b_curr 2.957172853945991,iteration 130 ,cost 0.022979163730313935 \n",
      "values of m_curr 1.9751975791892658 ,b_curr 2.936536862491152,iteration 131 ,cost 0.021565362628358203 \n",
      "values of m_curr 2.0522767284856505 ,b_curr 2.959478497041343,iteration 132 ,cost 0.020238567336050724 \n",
      "values of m_curr 1.9768177389424775 ,b_curr 2.940124732273627,iteration 133 ,cost 0.018993422306813834 \n",
      "values of m_curr 2.049140283231172 ,b_curr 2.961660561543211,iteration 134 ,cost 0.017824901714366095 \n",
      "values of m_curr 1.9783329564824643 ,b_curr 2.9435094147134198,iteration 135 ,cost 0.01672828914947526 \n",
      "values of m_curr 2.0461924131120224 ,b_curr 2.9637256362290607,iteration 136 ,cost 0.015699158567131378 \n",
      "values of m_curr 1.9797499825462295 ,b_curr 2.9467024377350235,iteration 137 ,cost 0.01473335640711751 \n",
      "values of m_curr 2.0434217575762874 ,b_curr 2.965679960808838,iteration 138 ,cost 0.013826984815702326 \n",
      "values of m_curr 1.981075136072879 ,b_curr 2.9497146739481646,iteration 139 ,cost 0.01297638590063157 \n",
      "values of m_curr 2.0408176417701576 ,b_curr 2.9675294442756086,iteration 140 ,cost 0.012178126955771194 \n",
      "values of m_curr 1.9823143316916771 ,b_curr 2.9525563779764847,iteration 141 ,cost 0.011428986595680033 \n",
      "values of m_curr 2.0383700350773704 ,b_curr 2.9692796823007126,iteration 142 ,cost 0.010725941744062412 \n",
      "values of m_curr 1.983473105467236 ,b_curr 2.955237221655251,iteration 143 ,cost 0.010066155423512342 \n",
      "values of m_curr 2.0360695121697057 ,b_curr 2.970935973722573,iteration 144 ,cost 0.009446965297192168 \n",
      "values of m_curr 1.9845566390119678 ,b_curr 2.95776632722002,iteration 145 ,cost 0.008865872916135232 \n",
      "values of m_curr 2.033907216416228 ,b_curr 2.9725033361758344,iteration 146 ,cost 0.00832053362870989 \n",
      "values of m_curr 1.985569782068988 ,b_curr 2.9601522986011943,iteration 147 ,cost 0.007808747111463801 \n",
      "values of m_curr 2.031874825508196 ,b_curr 2.973986520905117,iteration 148 ,cost 0.007328448483077812 \n",
      "values of m_curr 1.9865170736621596 ,b_curr 2.9624032509328138,iteration 149 ,cost 0.006877699965514381 \n",
      "values of m_curr 2.029964519165282 ,b_curr 2.9753900268054436,iteration 150 ,cost 0.006454683058659727 \n",
      "values of m_curr 1.987402761903872 ,b_curr 2.964526838377709,iteration 151 ,cost 0.006057691196836759 \n",
      "values of m_curr 2.0281689487968726 ,b_curr 2.976718113729245,iteration 152 ,cost 0.005685122857507665 \n",
      "values of m_curr 1.988230822545438 ,b_curr 2.9665302803653,iteration 153 ,cost 0.00533547509432043 \n",
      "values of m_curr 2.0264812089999102 ,b_curr 2.9779748150978316,iteration 154 ,cost 0.005007337468363425 \n",
      "values of m_curr 1.9890049763496371 ,b_curr 2.9684203863327974,iteration 155 ,cost 0.00469938635310494 \n",
      "values of m_curr 2.024894810781929 ,b_curr 2.979163949853281,iteration 156 ,cost 0.004410379590003548 \n",
      "values of m_curr 1.9897287053599284 ,b_curr 2.9702035790553563,iteration 157 ,cost 0.004139151473192938 \n",
      "values of m_curr 2.0234036564046813 ,b_curr 2.980289133784869,iteration 158 ,cost 0.0038846080429774015 \n",
      "values of m_curr 1.9904052681361462 ,b_curr 2.97188591664585,iteration 159 ,cost 0.003645722669117553 \n",
      "values of m_curr 2.022002015750136 ,b_curr 2.9813537902624163,iteration 160 ,cost 0.0034215319060625204 \n",
      "values of m_curr 1.9910377140220892 ,b_curr 2.9734731133002823,iteration 161 ,cost 0.003211131603379522 \n",
      "values of m_curr 2.020684504116556 ,b_curr 2.9823611604072884,iteration 162 ,cost 0.003013673255667144 \n",
      "values of m_curr 1.9916288965062934 ,b_curr 2.9749705588605306,iteration 163 ,cost 0.00282836057720323 \n",
      "values of m_curr 2.019446061357997 ,b_curr 2.983314312730197,iteration 164 ,cost 0.002654446287488816 \n",
      "values of m_curr 1.9921814857334048 ,b_curr 2.97638333726198,iteration 165 ,cost 0.002491229094700908 \n",
      "values of m_curr 2.0182819322858 ,b_curr 2.9842161522634707,iteration 166 ,cost 0.002338050864867319 \n",
      "values of m_curr 1.992697980219947 ,b_curr 2.9777162439297578,iteration 167 ,cost 0.0021942939653267104 \n",
      "values of m_curr 2.017187648255621 ,b_curr 2.9850694292140485,iteration 168 ,cost 0.0020593787717419344 \n",
      "values of m_curr 1.9931807178248793 ,b_curr 2.9789738021836247,iteration 169 ,cost 0.0019327613285952784 \n",
      "values of m_curr 2.016159009868155 ,b_curr 2.9858767471620897,iteration 170 ,cost 0.0018139311537151163 \n",
      "values of m_curr 1.993631886022169 ,b_curr 2.980160278708135,iteration 171 ,cost 0.0017024091779645598 \n",
      "values of m_curr 2.0151920707160897 ,b_curr 2.9866405708288344,iteration 172 ,cost 0.0015977458117699993 \n",
      "values of m_curr 1.9940535315196048 ,b_curr 2.9812796981414444,iteration 173 ,cost 0.0014995191306791367 \n",
      "values of m_curr 2.0142831221139113 ,b_curr 2.9873632334361213,iteration 174 ,cost 0.0014073331726194211 \n",
      "values of m_curr 1.9944475692652965 ,b_curr 2.982335856833086,iteration 175 ,cost 0.0013208163399786286 \n",
      "values of m_curr 2.0134286787510214 ,b_curr 2.9880469436788246,iteration 176 ,cost 0.00123961990005475 \n",
      "values of m_curr 1.9948157908806827 ,b_curr 2.9833323358181585,iteration 177 ,cost 0.001163416577817073 \n",
      "values of m_curr 2.0126254652122566 ,b_curr 2.98869379233038,iteration 178 ,cost 0.0010918992352949312 \n",
      "values of m_curr 1.9951598725564164 ,b_curr 2.9842725130526464,iteration 179 ,cost 0.0010247796322614907 \n",
      "values of m_curr 2.011870403313271 ,b_curr 2.989305758500523,iteration 180 ,cost 0.0009617872632055677 \n",
      "values of m_curr 1.995481382445199 ,b_curr 2.985159574952051,iteration 181 ,cost 0.0009026682658960823 \n",
      "values of m_curr 2.0111606002014426 ,b_curr 2.9898847155633863,iteration 182 ,cost 0.0008471843971301123 \n",
      "values of m_curr 1.9957817875834796 ,b_curr 2.9859965272730786,iteration 183 ,cost 0.000795112071528927 \n",
      "values of m_curr 2.0104933371759577 ,b_curr 2.9904324367731654,iteration 184 ,cost 0.0007462414595000139 \n",
      "values of m_curr 1.9960624603719206 ,b_curr 2.9867862053758727,iteration 185 ,cost 0.0007003756407223613 \n",
      "values of m_curr 2.0098660591835213 ,b_curr 2.990950600583665,iteration 186 ,cost 0.0006573298097370841 \n",
      "values of m_curr 1.9963246846426386 ,b_curr 2.987531283902129,iteration 187 ,cost 0.0006169305304352354 \n",
      "values of m_curr 2.00927636494881 ,b_curr 2.9914407956872098,iteration 188 ,cost 0.0005790150364324341 \n",
      "values of m_curr 1.996569661339453 ,b_curr 2.9882342859024122,iteration 189 ,cost 0.00054343057450549 \n",
      "values of m_curr 2.0087219977012336 ,b_curr 2.991904525787596,iteration 190 ,cost 0.0005100337884400132 \n",
      "values of m_curr 1.9967985138357276 ,b_curr 2.988897591444084,iteration 191 ,cost 0.0004786901408013746 \n",
      "values of m_curr 2.008200836461925 ,b_curr 2.9923432141209934,iteration 192 ,cost 0.0004492733702939793 \n",
      "values of m_curr 1.9970122929128178 ,b_curr 2.9895234457294673,iteration 193 ,cost 0.0004216649825183038 \n",
      "values of m_curr 2.007710887857046 ,b_curr 2.9927582077380053,iteration 194 ,cost 0.0003957537720701151 \n",
      "values of m_curr 1.997211981420697 ,b_curr 2.990113966752164,iteration 195 ,cost 0.00037143537405161627 \n",
      "values of m_curr 2.007250278425573 ,b_curr 2.9931507815593923,iteration 196 ,cost 0.0003486118431846868 \n",
      "values of m_curr 1.997398498640956 ,b_curr 2.9906711525178635,iteration 197 ,cost 0.0003271912588268891 \n",
      "values of m_curr 2.0068172473916324 ,b_curr 2.993522142217326,iteration 198 ,cost 0.00030708735429568404 \n",
      "values of m_curr 1.9975727043710991 ,b_curr 2.99119688785446,iteration 199 ,cost 0.0002882191690046632 \n"
     ]
    },
    {
     "data": {
      "image/png": "[encoded data removed]",
      "text/plain": [
       "<Figure size 432x288 with 1 Axes>"
      ]
     },
     "metadata": {
      "needs_background": "light"
     },
     "output_type": "display_data"
    }
   ],
   "source": [
    "gradient_des(x,y,0.0832,200)"
   ]
  },
  {
   "cell_type": "markdown",
   "metadata": {},
   "source": [
    "### The value if m_curr is 1.9975727043710991  and 2.99119688785446"
   ]
  },
  {
   "cell_type": "code",
   "execution_count": null,
   "metadata": {},
   "outputs": [],
   "source": []
  }
 ],
 "metadata": {
  "kernelspec": {
   "display_name": "Python 3",
   "language": "python",
   "name": "python3"
  },
  "language_info": {
   "codemirror_mode": {
    "name": "ipython",
    "version": 3
   },
   "file_extension": ".py",
   "mimetype": "text/x-python",
   "name": "python",
   "nbconvert_exporter": "python",
   "pygments_lexer": "ipython3",
   "version": "3.8.8"
  }
 },
 "nbformat": 4,
 "nbformat_minor": 4
}
