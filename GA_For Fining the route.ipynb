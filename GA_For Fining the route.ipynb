{
 "cells": [
  {
   "cell_type": "code",
   "execution_count": 1,
   "id": "a95111fa-ef69-4635-8509-d9fa97d0b8cf",
   "metadata": {
    "execution": {
     "iopub.execute_input": "2023-07-07T18:49:01.694718Z",
     "iopub.status.busy": "2023-07-07T18:49:01.694241Z",
     "iopub.status.idle": "2023-07-07T18:49:01.701888Z",
     "shell.execute_reply": "2023-07-07T18:49:01.701540Z",
     "shell.execute_reply.started": "2023-07-07T18:49:01.694686Z"
    }
   },
   "outputs": [
    {
     "data": {
      "application/javascript": [
       "IPython.notebook.set_autosave_interval(20000)"
      ]
     },
     "metadata": {},
     "output_type": "display_data"
    },
    {
     "name": "stdout",
     "output_type": "stream",
     "text": [
      "Autosaving every 20 seconds\n"
     ]
    }
   ],
   "source": [
    "from IPython.core.interactiveshell import InteractiveShell\n",
    "InteractiveShell.ast_node_interactivity = 'all'\n",
    "%autosave 20"
   ]
  },
  {
   "cell_type": "code",
   "execution_count": 2,
   "id": "042d275f-7fd2-4724-8e94-78affc581f4e",
   "metadata": {
    "execution": {
     "iopub.execute_input": "2023-07-07T18:49:01.702745Z",
     "iopub.status.busy": "2023-07-07T18:49:01.702609Z",
     "iopub.status.idle": "2023-07-07T18:49:02.246041Z",
     "shell.execute_reply": "2023-07-07T18:49:02.245589Z",
     "shell.execute_reply.started": "2023-07-07T18:49:01.702731Z"
    }
   },
   "outputs": [],
   "source": [
    "import pandas as pd\n",
    "import numpy as np\n",
    "\n",
    "from geopy.geocoders import Nominatim\n",
    "from math import radians, cos, sin, asin, sqrt \n",
    "import folium\n",
    "\n",
    "import matplotlib.pyplot as plt\n",
    "import seaborn as sns\n",
    "\n",
    "from deap import algorithms, base, creator, tools\n"
   ]
  },
  {
   "cell_type": "markdown",
   "id": "d0a41c74-a7bc-43ac-814e-7f8b11c47650",
   "metadata": {},
   "source": [
    "### Reading the Location File"
   ]
  },
  {
   "cell_type": "code",
   "execution_count": 3,
   "id": "ac182f5a-a06f-4223-a821-f60cb73b1ee9",
   "metadata": {
    "execution": {
     "iopub.execute_input": "2023-07-07T18:49:02.246993Z",
     "iopub.status.busy": "2023-07-07T18:49:02.246729Z",
     "iopub.status.idle": "2023-07-07T18:49:02.251775Z",
     "shell.execute_reply": "2023-07-07T18:49:02.251375Z",
     "shell.execute_reply.started": "2023-07-07T18:49:02.246977Z"
    }
   },
   "outputs": [],
   "source": [
    "df_loc = pd.read_csv('Final_location_data.csv')"
   ]
  },
  {
   "cell_type": "code",
   "execution_count": 4,
   "id": "09109390-df5e-4811-bbb5-9aa51777a27b",
   "metadata": {
    "execution": {
     "iopub.execute_input": "2023-07-07T18:49:02.252382Z",
     "iopub.status.busy": "2023-07-07T18:49:02.252261Z",
     "iopub.status.idle": "2023-07-07T18:49:02.287665Z",
     "shell.execute_reply": "2023-07-07T18:49:02.287287Z",
     "shell.execute_reply.started": "2023-07-07T18:49:02.252369Z"
    }
   },
   "outputs": [],
   "source": [
    "df_loc = df_loc[df_loc.State == 'Karnataka']"
   ]
  },
  {
   "cell_type": "code",
   "execution_count": 5,
   "id": "5917f848-2faa-4a18-8a70-7ac0fd6488a7",
   "metadata": {
    "execution": {
     "iopub.execute_input": "2023-07-07T18:49:02.288814Z",
     "iopub.status.busy": "2023-07-07T18:49:02.288692Z",
     "iopub.status.idle": "2023-07-07T18:49:02.291462Z",
     "shell.execute_reply": "2023-07-07T18:49:02.291122Z",
     "shell.execute_reply.started": "2023-07-07T18:49:02.288802Z"
    }
   },
   "outputs": [],
   "source": [
    "df_loc.drop_duplicates('place',inplace = True)\n",
    "df_loc.reset_index(drop = True,inplace = True)"
   ]
  },
  {
   "cell_type": "markdown",
   "id": "a1e2f87c-56a7-42d2-9072-41a812e75905",
   "metadata": {},
   "source": [
    "### Making the Ratings based on Number of ratings given and Rating overall"
   ]
  },
  {
   "cell_type": "code",
   "execution_count": 6,
   "id": "4baf962c-5272-45d5-89bd-b6f8018b01a1",
   "metadata": {
    "execution": {
     "iopub.execute_input": "2023-07-07T18:49:02.292164Z",
     "iopub.status.busy": "2023-07-07T18:49:02.292051Z",
     "iopub.status.idle": "2023-07-07T18:49:02.296183Z",
     "shell.execute_reply": "2023-07-07T18:49:02.295559Z",
     "shell.execute_reply.started": "2023-07-07T18:49:02.292152Z"
    }
   },
   "outputs": [],
   "source": [
    "df_loc['Rating'] = (df_loc.Popularity/df_loc.Popularity.max()) *df_loc.Rating"
   ]
  },
  {
   "cell_type": "code",
   "execution_count": 7,
   "id": "e1cd2ff8-4ea8-4625-a4a8-0f837fc0be37",
   "metadata": {
    "execution": {
     "iopub.execute_input": "2023-07-07T18:49:02.297201Z",
     "iopub.status.busy": "2023-07-07T18:49:02.296990Z",
     "iopub.status.idle": "2023-07-07T18:49:02.572397Z",
     "shell.execute_reply": "2023-07-07T18:49:02.571912Z",
     "shell.execute_reply.started": "2023-07-07T18:49:02.297178Z"
    }
   },
   "outputs": [
    {
     "data": {
      "image/png": "[encoded data removed]",
      "text/plain": [
       "<Figure size 640x480 with 1 Axes>"
      ]
     },
     "metadata": {},
     "output_type": "display_data"
    }
   ],
   "source": [
    "_ = sns.histplot(df_loc.Rating)"
   ]
  },
  {
   "cell_type": "code",
   "execution_count": null,
   "id": "ec5eddd2-f4e0-419e-b060-d4b45321e3b8",
   "metadata": {},
   "outputs": [],
   "source": []
  },
  {
   "cell_type": "code",
   "execution_count": 8,
   "id": "6b31c6e4-1db8-4353-a73e-dee739fff407",
   "metadata": {
    "execution": {
     "iopub.execute_input": "2023-07-07T18:49:02.573149Z",
     "iopub.status.busy": "2023-07-07T18:49:02.573014Z",
     "iopub.status.idle": "2023-07-07T18:49:02.580230Z",
     "shell.execute_reply": "2023-07-07T18:49:02.579872Z",
     "shell.execute_reply.started": "2023-07-07T18:49:02.573136Z"
    }
   },
   "outputs": [
    {
     "data": {
      "text/html": [
       "<div>\n",
       "<style scoped>\n",
       "    .dataframe tbody tr th:only-of-type {\n",
       "        vertical-align: middle;\n",
       "    }\n",
       "\n",
       "    .dataframe tbody tr th {\n",
       "        vertical-align: top;\n",
       "    }\n",
       "\n",
       "    .dataframe thead th {\n",
       "        text-align: right;\n",
       "    }\n",
       "</style>\n",
       "<table border=\"1\" class=\"dataframe\">\n",
       "  <thead>\n",
       "    <tr style=\"text-align: right;\">\n",
       "      <th></th>\n",
       "      <th>place</th>\n",
       "      <th>Rating</th>\n",
       "      <th>Popularity</th>\n",
       "      <th>latitude</th>\n",
       "      <th>longitude</th>\n",
       "      <th>State</th>\n",
       "    </tr>\n",
       "  </thead>\n",
       "  <tbody>\n",
       "    <tr>\n",
       "      <th>59</th>\n",
       "      <td>Dharmaraya Swamy Temple</td>\n",
       "      <td>0.016801</td>\n",
       "      <td>26.0</td>\n",
       "      <td>12.965521</td>\n",
       "      <td>77.583187</td>\n",
       "      <td>Karnataka</td>\n",
       "    </tr>\n",
       "    <tr>\n",
       "      <th>34</th>\n",
       "      <td>Sri Someshwara Swamy Temple</td>\n",
       "      <td>0.045800</td>\n",
       "      <td>63.0</td>\n",
       "      <td>12.969466</td>\n",
       "      <td>77.579482</td>\n",
       "      <td>Karnataka</td>\n",
       "    </tr>\n",
       "    <tr>\n",
       "      <th>107</th>\n",
       "      <td>Safina Plaza</td>\n",
       "      <td>0.009693</td>\n",
       "      <td>15.0</td>\n",
       "      <td>12.979697</td>\n",
       "      <td>77.606794</td>\n",
       "      <td>Karnataka</td>\n",
       "    </tr>\n",
       "    <tr>\n",
       "      <th>63</th>\n",
       "      <td>Sri Ranganatha Swamy Temple</td>\n",
       "      <td>0.006543</td>\n",
       "      <td>9.0</td>\n",
       "      <td>12.425079</td>\n",
       "      <td>76.679295</td>\n",
       "      <td>Karnataka</td>\n",
       "    </tr>\n",
       "    <tr>\n",
       "      <th>30</th>\n",
       "      <td>Kynkyny Art</td>\n",
       "      <td>0.023263</td>\n",
       "      <td>32.0</td>\n",
       "      <td>12.983394</td>\n",
       "      <td>77.593893</td>\n",
       "      <td>Karnataka</td>\n",
       "    </tr>\n",
       "  </tbody>\n",
       "</table>\n",
       "</div>"
      ],
      "text/plain": [
       "                            place    Rating  Popularity   latitude  longitude   \n",
       "59        Dharmaraya Swamy Temple  0.016801        26.0  12.965521  77.583187  \\\n",
       "34    Sri Someshwara Swamy Temple  0.045800        63.0  12.969466  77.579482   \n",
       "107                  Safina Plaza  0.009693        15.0  12.979697  77.606794   \n",
       "63    Sri Ranganatha Swamy Temple  0.006543         9.0  12.425079  76.679295   \n",
       "30                    Kynkyny Art  0.023263        32.0  12.983394  77.593893   \n",
       "\n",
       "         State  \n",
       "59   Karnataka  \n",
       "34   Karnataka  \n",
       "107  Karnataka  \n",
       "63   Karnataka  \n",
       "30   Karnataka  "
      ]
     },
     "execution_count": 8,
     "metadata": {},
     "output_type": "execute_result"
    }
   ],
   "source": [
    "df_loc.sample(5)"
   ]
  },
  {
   "cell_type": "code",
   "execution_count": null,
   "id": "d954eaf2-c142-4f68-9e9e-c0e66d2f6524",
   "metadata": {},
   "outputs": [],
   "source": []
  },
  {
   "cell_type": "code",
   "execution_count": 9,
   "id": "5c14e802-e96d-4fd5-bcff-25a8b9776ae3",
   "metadata": {
    "execution": {
     "iopub.execute_input": "2023-07-07T18:49:02.580854Z",
     "iopub.status.busy": "2023-07-07T18:49:02.580730Z",
     "iopub.status.idle": "2023-07-07T18:49:02.702267Z",
     "shell.execute_reply": "2023-07-07T18:49:02.701822Z",
     "shell.execute_reply.started": "2023-07-07T18:49:02.580842Z"
    },
    "scrolled": true
   },
   "outputs": [
    {
     "data": {
      "text/plain": [
       "<folium.map.Marker at 0x7fd7c1f337f0>"
      ]
     },
     "execution_count": 9,
     "metadata": {},
     "output_type": "execute_result"
    },
    {
     "data": {
      "text/plain": [
       "<folium.map.Marker at 0x7fd7c1f2d9a0>"
      ]
     },
     "execution_count": 9,
     "metadata": {},
     "output_type": "execute_result"
    },
    {
     "data": {
      "text/plain": [
       "<folium.map.Marker at 0x7fd7c1f33bb0>"
      ]
     },
     "execution_count": 9,
     "metadata": {},
     "output_type": "execute_result"
    },
    {
     "data": {
      "text/plain": [
       "<folium.map.Marker at 0x7fd7c1f338b0>"
      ]
     },
     "execution_count": 9,
     "metadata": {},
     "output_type": "execute_result"
    },
    {
     "data": {
      "text/plain": [
       "<folium.map.Marker at 0x7fd7c1f33f10>"
      ]
     },
     "execution_count": 9,
     "metadata": {},
     "output_type": "execute_result"
    },
    {
     "data": {
      "text/plain": [
       "<folium.map.Marker at 0x7fd7c1f336d0>"
      ]
     },
     "execution_count": 9,
     "metadata": {},
     "output_type": "execute_result"
    },
    {
     "data": {
      "text/plain": [
       "<folium.map.Marker at 0x7fd7c1f335b0>"
      ]
     },
     "execution_count": 9,
     "metadata": {},
     "output_type": "execute_result"
    },
    {
     "data": {
      "text/plain": [
       "<folium.map.Marker at 0x7fd7c1f33520>"
      ]
     },
     "execution_count": 9,
     "metadata": {},
     "output_type": "execute_result"
    },
    {
     "data": {
      "text/plain": [
       "<folium.map.Marker at 0x7fd7c1f33370>"
      ]
     },
     "execution_count": 9,
     "metadata": {},
     "output_type": "execute_result"
    },
    {
     "data": {
      "text/plain": [
       "<folium.map.Marker at 0x7fd7c1f33400>"
      ]
     },
     "execution_count": 9,
     "metadata": {},
     "output_type": "execute_result"
    },
    {
     "data": {
      "text/plain": [
       "<folium.map.Marker at 0x7fd7c1ffa8e0>"
      ]
     },
     "execution_count": 9,
     "metadata": {},
     "output_type": "execute_result"
    },
    {
     "data": {
      "text/plain": [
       "<folium.map.Marker at 0x7fd7c1feb400>"
      ]
     },
     "execution_count": 9,
     "metadata": {},
     "output_type": "execute_result"
    },
    {
     "data": {
      "text/plain": [
       "<folium.map.Marker at 0x7fd7c2030220>"
      ]
     },
     "execution_count": 9,
     "metadata": {},
     "output_type": "execute_result"
    },
    {
     "data": {
      "text/plain": [
       "<folium.map.Marker at 0x7fd7c29e57f0>"
      ]
     },
     "execution_count": 9,
     "metadata": {},
     "output_type": "execute_result"
    },
    {
     "data": {
      "text/plain": [
       "<folium.map.Marker at 0x7fd7c1f332e0>"
      ]
     },
     "execution_count": 9,
     "metadata": {},
     "output_type": "execute_result"
    },
    {
     "data": {
      "text/plain": [
       "<folium.map.Marker at 0x7fd7c29e5ca0>"
      ]
     },
     "execution_count": 9,
     "metadata": {},
     "output_type": "execute_result"
    },
    {
     "data": {
      "text/plain": [
       "<folium.map.Marker at 0x7fd7c29e5d90>"
      ]
     },
     "execution_count": 9,
     "metadata": {},
     "output_type": "execute_result"
    },
    {
     "data": {
      "text/plain": [
       "<folium.map.Marker at 0x7fd7c2aee220>"
      ]
     },
     "execution_count": 9,
     "metadata": {},
     "output_type": "execute_result"
    },
    {
     "data": {
      "text/plain": [
       "<folium.map.Marker at 0x7fd7c1f86b80>"
      ]
     },
     "execution_count": 9,
     "metadata": {},
     "output_type": "execute_result"
    },
    {
     "data": {
      "text/plain": [
       "<folium.map.Marker at 0x7fd7c1f861f0>"
      ]
     },
     "execution_count": 9,
     "metadata": {},
     "output_type": "execute_result"
    },
    {
     "data": {
      "text/plain": [
       "<folium.map.Marker at 0x7fd7c21dc3a0>"
      ]
     },
     "execution_count": 9,
     "metadata": {},
     "output_type": "execute_result"
    },
    {
     "data": {
      "text/plain": [
       "<folium.map.Marker at 0x7fd7fc75d790>"
      ]
     },
     "execution_count": 9,
     "metadata": {},
     "output_type": "execute_result"
    },
    {
     "data": {
      "text/plain": [
       "<folium.map.Marker at 0x7fd7c2030280>"
      ]
     },
     "execution_count": 9,
     "metadata": {},
     "output_type": "execute_result"
    },
    {
     "data": {
      "text/plain": [
       "<folium.map.Marker at 0x7fd7c1f51220>"
      ]
     },
     "execution_count": 9,
     "metadata": {},
     "output_type": "execute_result"
    },
    {
     "data": {
      "text/plain": [
       "<folium.map.Marker at 0x7fd7c1f512e0>"
      ]
     },
     "execution_count": 9,
     "metadata": {},
     "output_type": "execute_result"
    },
    {
     "data": {
      "text/plain": [
       "<folium.map.Marker at 0x7fd7c1f51400>"
      ]
     },
     "execution_count": 9,
     "metadata": {},
     "output_type": "execute_result"
    },
    {
     "data": {
      "text/plain": [
       "<folium.map.Marker at 0x7fd7c1f51520>"
      ]
     },
     "execution_count": 9,
     "metadata": {},
     "output_type": "execute_result"
    },
    {
     "data": {
      "text/plain": [
       "<folium.map.Marker at 0x7fd7c1f51640>"
      ]
     },
     "execution_count": 9,
     "metadata": {},
     "output_type": "execute_result"
    },
    {
     "data": {
      "text/plain": [
       "<folium.map.Marker at 0x7fd7c1f51760>"
      ]
     },
     "execution_count": 9,
     "metadata": {},
     "output_type": "execute_result"
    },
    {
     "data": {
      "text/plain": [
       "<folium.map.Marker at 0x7fd7c1f51850>"
      ]
     },
     "execution_count": 9,
     "metadata": {},
     "output_type": "execute_result"
    },
    {
     "data": {
      "text/plain": [
       "<folium.map.Marker at 0x7fd7c1f51a90>"
      ]
     },
     "execution_count": 9,
     "metadata": {},
     "output_type": "execute_result"
    },
    {
     "data": {
      "text/plain": [
       "<folium.map.Marker at 0x7fd7c1f51820>"
      ]
     },
     "execution_count": 9,
     "metadata": {},
     "output_type": "execute_result"
    },
    {
     "data": {
      "text/plain": [
       "<folium.map.Marker at 0x7fd7c1f51be0>"
      ]
     },
     "execution_count": 9,
     "metadata": {},
     "output_type": "execute_result"
    },
    {
     "data": {
      "text/plain": [
       "<folium.map.Marker at 0x7fd7c1f51cd0>"
      ]
     },
     "execution_count": 9,
     "metadata": {},
     "output_type": "execute_result"
    },
    {
     "data": {
      "text/plain": [
       "<folium.map.Marker at 0x7fd7c1f51e20>"
      ]
     },
     "execution_count": 9,
     "metadata": {},
     "output_type": "execute_result"
    },
    {
     "data": {
      "text/plain": [
       "<folium.map.Marker at 0x7fd7c1f51f40>"
      ]
     },
     "execution_count": 9,
     "metadata": {},
     "output_type": "execute_result"
    },
    {
     "data": {
      "text/plain": [
       "<folium.map.Marker at 0x7fd7c1f51a60>"
      ]
     },
     "execution_count": 9,
     "metadata": {},
     "output_type": "execute_result"
    },
    {
     "data": {
      "text/plain": [
       "<folium.map.Marker at 0x7fd7c1ee4190>"
      ]
     },
     "execution_count": 9,
     "metadata": {},
     "output_type": "execute_result"
    },
    {
     "data": {
      "text/plain": [
       "<folium.map.Marker at 0x7fd7c1ee42e0>"
      ]
     },
     "execution_count": 9,
     "metadata": {},
     "output_type": "execute_result"
    },
    {
     "data": {
      "text/plain": [
       "<folium.map.Marker at 0x7fd7c1ee4400>"
      ]
     },
     "execution_count": 9,
     "metadata": {},
     "output_type": "execute_result"
    },
    {
     "data": {
      "text/plain": [
       "<folium.map.Marker at 0x7fd7c1ee4610>"
      ]
     },
     "execution_count": 9,
     "metadata": {},
     "output_type": "execute_result"
    },
    {
     "data": {
      "text/plain": [
       "<folium.map.Marker at 0x7fd7c1ee4430>"
      ]
     },
     "execution_count": 9,
     "metadata": {},
     "output_type": "execute_result"
    },
    {
     "data": {
      "text/plain": [
       "<folium.map.Marker at 0x7fd7c1ee4760>"
      ]
     },
     "execution_count": 9,
     "metadata": {},
     "output_type": "execute_result"
    },
    {
     "data": {
      "text/plain": [
       "<folium.map.Marker at 0x7fd7c1ee4880>"
      ]
     },
     "execution_count": 9,
     "metadata": {},
     "output_type": "execute_result"
    },
    {
     "data": {
      "text/plain": [
       "<folium.map.Marker at 0x7fd7c1ee49a0>"
      ]
     },
     "execution_count": 9,
     "metadata": {},
     "output_type": "execute_result"
    },
    {
     "data": {
      "text/plain": [
       "<folium.map.Marker at 0x7fd7c1ee4ac0>"
      ]
     },
     "execution_count": 9,
     "metadata": {},
     "output_type": "execute_result"
    },
    {
     "data": {
      "text/plain": [
       "<folium.map.Marker at 0x7fd7c1ee4be0>"
      ]
     },
     "execution_count": 9,
     "metadata": {},
     "output_type": "execute_result"
    },
    {
     "data": {
      "text/plain": [
       "<folium.map.Marker at 0x7fd7c1ee4cd0>"
      ]
     },
     "execution_count": 9,
     "metadata": {},
     "output_type": "execute_result"
    },
    {
     "data": {
      "text/plain": [
       "<folium.map.Marker at 0x7fd7c1ee4e20>"
      ]
     },
     "execution_count": 9,
     "metadata": {},
     "output_type": "execute_result"
    },
    {
     "data": {
      "text/plain": [
       "<folium.map.Marker at 0x7fd7c29adf10>"
      ]
     },
     "execution_count": 9,
     "metadata": {},
     "output_type": "execute_result"
    },
    {
     "data": {
      "text/plain": [
       "<folium.map.Marker at 0x7fd7c1ee49d0>"
      ]
     },
     "execution_count": 9,
     "metadata": {},
     "output_type": "execute_result"
    },
    {
     "data": {
      "text/plain": [
       "<folium.map.Marker at 0x7fd7c1ef81c0>"
      ]
     },
     "execution_count": 9,
     "metadata": {},
     "output_type": "execute_result"
    },
    {
     "data": {
      "text/plain": [
       "<folium.map.Marker at 0x7fd7c1ef82b0>"
      ]
     },
     "execution_count": 9,
     "metadata": {},
     "output_type": "execute_result"
    },
    {
     "data": {
      "text/plain": [
       "<folium.map.Marker at 0x7fd7c1ef8400>"
      ]
     },
     "execution_count": 9,
     "metadata": {},
     "output_type": "execute_result"
    },
    {
     "data": {
      "text/plain": [
       "<folium.map.Marker at 0x7fd7c1ef8520>"
      ]
     },
     "execution_count": 9,
     "metadata": {},
     "output_type": "execute_result"
    },
    {
     "data": {
      "text/plain": [
       "<folium.map.Marker at 0x7fd7c1ef86d0>"
      ]
     },
     "execution_count": 9,
     "metadata": {},
     "output_type": "execute_result"
    },
    {
     "data": {
      "text/plain": [
       "<folium.map.Marker at 0x7fd7c1ef8760>"
      ]
     },
     "execution_count": 9,
     "metadata": {},
     "output_type": "execute_result"
    },
    {
     "data": {
      "text/plain": [
       "<folium.map.Marker at 0x7fd7c1ef8640>"
      ]
     },
     "execution_count": 9,
     "metadata": {},
     "output_type": "execute_result"
    },
    {
     "data": {
      "text/plain": [
       "<folium.map.Marker at 0x7fd7c1ef87c0>"
      ]
     },
     "execution_count": 9,
     "metadata": {},
     "output_type": "execute_result"
    },
    {
     "data": {
      "text/plain": [
       "<folium.map.Marker at 0x7fd7c1ef88b0>"
      ]
     },
     "execution_count": 9,
     "metadata": {},
     "output_type": "execute_result"
    },
    {
     "data": {
      "text/plain": [
       "<folium.map.Marker at 0x7fd7c1f86520>"
      ]
     },
     "execution_count": 9,
     "metadata": {},
     "output_type": "execute_result"
    },
    {
     "data": {
      "text/plain": [
       "<folium.map.Marker at 0x7fd7c1ef8d60>"
      ]
     },
     "execution_count": 9,
     "metadata": {},
     "output_type": "execute_result"
    },
    {
     "data": {
      "text/plain": [
       "<folium.map.Marker at 0x7fd7c1ef8c70>"
      ]
     },
     "execution_count": 9,
     "metadata": {},
     "output_type": "execute_result"
    },
    {
     "data": {
      "text/plain": [
       "<folium.map.Marker at 0x7fd7c1ef8fd0>"
      ]
     },
     "execution_count": 9,
     "metadata": {},
     "output_type": "execute_result"
    },
    {
     "data": {
      "text/plain": [
       "<folium.map.Marker at 0x7fd7c1ef8ee0>"
      ]
     },
     "execution_count": 9,
     "metadata": {},
     "output_type": "execute_result"
    },
    {
     "data": {
      "text/plain": [
       "<folium.map.Marker at 0x7fd7c1f05220>"
      ]
     },
     "execution_count": 9,
     "metadata": {},
     "output_type": "execute_result"
    },
    {
     "data": {
      "text/plain": [
       "<folium.map.Marker at 0x7fd7c1f052e0>"
      ]
     },
     "execution_count": 9,
     "metadata": {},
     "output_type": "execute_result"
    },
    {
     "data": {
      "text/plain": [
       "<folium.map.Marker at 0x7fd7c1f05400>"
      ]
     },
     "execution_count": 9,
     "metadata": {},
     "output_type": "execute_result"
    },
    {
     "data": {
      "text/plain": [
       "<folium.map.Marker at 0x7fd7c1f05520>"
      ]
     },
     "execution_count": 9,
     "metadata": {},
     "output_type": "execute_result"
    },
    {
     "data": {
      "text/plain": [
       "<folium.map.Marker at 0x7fd7c1f05640>"
      ]
     },
     "execution_count": 9,
     "metadata": {},
     "output_type": "execute_result"
    },
    {
     "data": {
      "text/plain": [
       "<folium.map.Marker at 0x7fd7c1f05760>"
      ]
     },
     "execution_count": 9,
     "metadata": {},
     "output_type": "execute_result"
    },
    {
     "data": {
      "text/plain": [
       "<folium.map.Marker at 0x7fd7c1f05970>"
      ]
     },
     "execution_count": 9,
     "metadata": {},
     "output_type": "execute_result"
    },
    {
     "data": {
      "text/plain": [
       "<folium.map.Marker at 0x7fd7c1f05430>"
      ]
     },
     "execution_count": 9,
     "metadata": {},
     "output_type": "execute_result"
    },
    {
     "data": {
      "text/plain": [
       "<folium.map.Marker at 0x7fd7c1f05ac0>"
      ]
     },
     "execution_count": 9,
     "metadata": {},
     "output_type": "execute_result"
    },
    {
     "data": {
      "text/plain": [
       "<folium.map.Marker at 0x7fd7c1f05d00>"
      ]
     },
     "execution_count": 9,
     "metadata": {},
     "output_type": "execute_result"
    },
    {
     "data": {
      "text/plain": [
       "<folium.map.Marker at 0x7fd7c1f05a60>"
      ]
     },
     "execution_count": 9,
     "metadata": {},
     "output_type": "execute_result"
    },
    {
     "data": {
      "text/plain": [
       "<folium.map.Marker at 0x7fd7c1ef8f70>"
      ]
     },
     "execution_count": 9,
     "metadata": {},
     "output_type": "execute_result"
    },
    {
     "data": {
      "text/plain": [
       "<folium.map.Marker at 0x7fd7c1ef8fa0>"
      ]
     },
     "execution_count": 9,
     "metadata": {},
     "output_type": "execute_result"
    },
    {
     "data": {
      "text/plain": [
       "<folium.map.Marker at 0x7fd7c1f05fa0>"
      ]
     },
     "execution_count": 9,
     "metadata": {},
     "output_type": "execute_result"
    },
    {
     "data": {
      "text/plain": [
       "<folium.map.Marker at 0x7fd7c1e9d1f0>"
      ]
     },
     "execution_count": 9,
     "metadata": {},
     "output_type": "execute_result"
    },
    {
     "data": {
      "text/plain": [
       "<folium.map.Marker at 0x7fd7c1e9d310>"
      ]
     },
     "execution_count": 9,
     "metadata": {},
     "output_type": "execute_result"
    },
    {
     "data": {
      "text/plain": [
       "<folium.map.Marker at 0x7fd7c1e9d430>"
      ]
     },
     "execution_count": 9,
     "metadata": {},
     "output_type": "execute_result"
    },
    {
     "data": {
      "text/plain": [
       "<folium.map.Marker at 0x7fd7c1e9d550>"
      ]
     },
     "execution_count": 9,
     "metadata": {},
     "output_type": "execute_result"
    },
    {
     "data": {
      "text/plain": [
       "<folium.map.Marker at 0x7fd7c1e9d670>"
      ]
     },
     "execution_count": 9,
     "metadata": {},
     "output_type": "execute_result"
    },
    {
     "data": {
      "text/plain": [
       "<folium.map.Marker at 0x7fd7c1e9d880>"
      ]
     },
     "execution_count": 9,
     "metadata": {},
     "output_type": "execute_result"
    },
    {
     "data": {
      "text/plain": [
       "<folium.map.Marker at 0x7fd7c1e9d7c0>"
      ]
     },
     "execution_count": 9,
     "metadata": {},
     "output_type": "execute_result"
    },
    {
     "data": {
      "text/plain": [
       "<folium.map.Marker at 0x7fd7c1e9d9d0>"
      ]
     },
     "execution_count": 9,
     "metadata": {},
     "output_type": "execute_result"
    },
    {
     "data": {
      "text/plain": [
       "<folium.map.Marker at 0x7fd7c1e9daf0>"
      ]
     },
     "execution_count": 9,
     "metadata": {},
     "output_type": "execute_result"
    },
    {
     "data": {
      "text/plain": [
       "<folium.map.Marker at 0x7fd7c1e9dd00>"
      ]
     },
     "execution_count": 9,
     "metadata": {},
     "output_type": "execute_result"
    },
    {
     "data": {
      "text/plain": [
       "<folium.map.Marker at 0x7fd7c1e9db20>"
      ]
     },
     "execution_count": 9,
     "metadata": {},
     "output_type": "execute_result"
    },
    {
     "data": {
      "text/plain": [
       "<folium.map.Marker at 0x7fd7c1f05ee0>"
      ]
     },
     "execution_count": 9,
     "metadata": {},
     "output_type": "execute_result"
    },
    {
     "data": {
      "text/plain": [
       "<folium.map.Marker at 0x7fd7c1f51f70>"
      ]
     },
     "execution_count": 9,
     "metadata": {},
     "output_type": "execute_result"
    },
    {
     "data": {
      "text/plain": [
       "<folium.map.Marker at 0x7fd7c1e9dfa0>"
      ]
     },
     "execution_count": 9,
     "metadata": {},
     "output_type": "execute_result"
    },
    {
     "data": {
      "text/plain": [
       "<folium.map.Marker at 0x7fd7c1ead280>"
      ]
     },
     "execution_count": 9,
     "metadata": {},
     "output_type": "execute_result"
    },
    {
     "data": {
      "text/plain": [
       "<folium.map.Marker at 0x7fd7c1ead340>"
      ]
     },
     "execution_count": 9,
     "metadata": {},
     "output_type": "execute_result"
    },
    {
     "data": {
      "text/plain": [
       "<folium.map.Marker at 0x7fd7c1ead460>"
      ]
     },
     "execution_count": 9,
     "metadata": {},
     "output_type": "execute_result"
    },
    {
     "data": {
      "text/plain": [
       "<folium.map.Marker at 0x7fd7c1ead580>"
      ]
     },
     "execution_count": 9,
     "metadata": {},
     "output_type": "execute_result"
    },
    {
     "data": {
      "text/plain": [
       "<folium.map.Marker at 0x7fd7c1ead790>"
      ]
     },
     "execution_count": 9,
     "metadata": {},
     "output_type": "execute_result"
    },
    {
     "data": {
      "text/plain": [
       "<folium.map.Marker at 0x7fd7c1ead520>"
      ]
     },
     "execution_count": 9,
     "metadata": {},
     "output_type": "execute_result"
    },
    {
     "data": {
      "text/plain": [
       "<folium.map.Marker at 0x7fd7c1ead8e0>"
      ]
     },
     "execution_count": 9,
     "metadata": {},
     "output_type": "execute_result"
    },
    {
     "data": {
      "text/plain": [
       "<folium.map.Marker at 0x7fd7c1eada00>"
      ]
     },
     "execution_count": 9,
     "metadata": {},
     "output_type": "execute_result"
    },
    {
     "data": {
      "text/plain": [
       "<folium.map.Marker at 0x7fd7c1eadaf0>"
      ]
     },
     "execution_count": 9,
     "metadata": {},
     "output_type": "execute_result"
    },
    {
     "data": {
      "text/plain": [
       "<folium.map.Marker at 0x7fd7c1eadd30>"
      ]
     },
     "execution_count": 9,
     "metadata": {},
     "output_type": "execute_result"
    },
    {
     "data": {
      "text/plain": [
       "<folium.map.Marker at 0x7fd7c1eadc70>"
      ]
     },
     "execution_count": 9,
     "metadata": {},
     "output_type": "execute_result"
    },
    {
     "data": {
      "text/plain": [
       "<folium.map.Marker at 0x7fd7c1eade80>"
      ]
     },
     "execution_count": 9,
     "metadata": {},
     "output_type": "execute_result"
    },
    {
     "data": {
      "text/plain": [
       "<folium.map.Marker at 0x7fd7c1eadfa0>"
      ]
     },
     "execution_count": 9,
     "metadata": {},
     "output_type": "execute_result"
    },
    {
     "data": {
      "text/plain": [
       "<folium.map.Marker at 0x7fd7c1ec2100>"
      ]
     },
     "execution_count": 9,
     "metadata": {},
     "output_type": "execute_result"
    },
    {
     "data": {
      "text/plain": [
       "<folium.map.Marker at 0x7fd7c1ec2220>"
      ]
     },
     "execution_count": 9,
     "metadata": {},
     "output_type": "execute_result"
    },
    {
     "data": {
      "text/plain": [
       "<folium.map.Marker at 0x7fd7c1ec2340>"
      ]
     },
     "execution_count": 9,
     "metadata": {},
     "output_type": "execute_result"
    },
    {
     "data": {
      "text/plain": [
       "<folium.map.Marker at 0x7fd7c1ec2460>"
      ]
     },
     "execution_count": 9,
     "metadata": {},
     "output_type": "execute_result"
    },
    {
     "data": {
      "text/plain": [
       "<folium.map.Marker at 0x7fd7c1ec2550>"
      ]
     },
     "execution_count": 9,
     "metadata": {},
     "output_type": "execute_result"
    },
    {
     "data": {
      "text/plain": [
       "<folium.map.Marker at 0x7fd7c1ec26a0>"
      ]
     },
     "execution_count": 9,
     "metadata": {},
     "output_type": "execute_result"
    },
    {
     "data": {
      "text/plain": [
       "<folium.map.Marker at 0x7fd7c1ec27c0>"
      ]
     },
     "execution_count": 9,
     "metadata": {},
     "output_type": "execute_result"
    },
    {
     "data": {
      "text/plain": [
       "<folium.map.Marker at 0x7fd7c1ec28b0>"
      ]
     },
     "execution_count": 9,
     "metadata": {},
     "output_type": "execute_result"
    },
    {
     "data": {
      "text/plain": [
       "<folium.map.Marker at 0x7fd7c1ec2a90>"
      ]
     },
     "execution_count": 9,
     "metadata": {},
     "output_type": "execute_result"
    },
    {
     "data": {
      "text/plain": [
       "<folium.map.Marker at 0x7fd7c1ec2b50>"
      ]
     },
     "execution_count": 9,
     "metadata": {},
     "output_type": "execute_result"
    },
    {
     "data": {
      "text/plain": [
       "<folium.map.Marker at 0x7fd7c1ec2c70>"
      ]
     },
     "execution_count": 9,
     "metadata": {},
     "output_type": "execute_result"
    },
    {
     "data": {
      "text/plain": [
       "<folium.map.Marker at 0x7fd7c1ec2d90>"
      ]
     },
     "execution_count": 9,
     "metadata": {},
     "output_type": "execute_result"
    },
    {
     "data": {
      "text/plain": [
       "<folium.map.Marker at 0x7fd7c1ec2eb0>"
      ]
     },
     "execution_count": 9,
     "metadata": {},
     "output_type": "execute_result"
    },
    {
     "data": {
      "text/plain": [
       "<folium.map.Marker at 0x7fd7c1ec2fa0>"
      ]
     },
     "execution_count": 9,
     "metadata": {},
     "output_type": "execute_result"
    },
    {
     "data": {
      "text/plain": [
       "<folium.map.Marker at 0x7fd7c1ed0130>"
      ]
     },
     "execution_count": 9,
     "metadata": {},
     "output_type": "execute_result"
    },
    {
     "data": {
      "text/plain": [
       "<folium.map.Marker at 0x7fd7c1ed0250>"
      ]
     },
     "execution_count": 9,
     "metadata": {},
     "output_type": "execute_result"
    },
    {
     "data": {
      "text/plain": [
       "<folium.map.Marker at 0x7fd7c1ed0370>"
      ]
     },
     "execution_count": 9,
     "metadata": {},
     "output_type": "execute_result"
    },
    {
     "data": {
      "text/plain": [
       "<folium.map.Marker at 0x7fd7c1ed0490>"
      ]
     },
     "execution_count": 9,
     "metadata": {},
     "output_type": "execute_result"
    },
    {
     "data": {
      "text/plain": [
       "<folium.map.Marker at 0x7fd7c1ed05b0>"
      ]
     },
     "execution_count": 9,
     "metadata": {},
     "output_type": "execute_result"
    },
    {
     "data": {
      "text/plain": [
       "<folium.map.Marker at 0x7fd7c1ed06d0>"
      ]
     },
     "execution_count": 9,
     "metadata": {},
     "output_type": "execute_result"
    },
    {
     "data": {
      "text/plain": [
       "<folium.map.Marker at 0x7fd7c1ed07f0>"
      ]
     },
     "execution_count": 9,
     "metadata": {},
     "output_type": "execute_result"
    },
    {
     "data": {
      "text/plain": [
       "<folium.map.Marker at 0x7fd7c1ed0910>"
      ]
     },
     "execution_count": 9,
     "metadata": {},
     "output_type": "execute_result"
    },
    {
     "data": {
      "text/plain": [
       "<folium.map.Marker at 0x7fd7c1ed0a30>"
      ]
     },
     "execution_count": 9,
     "metadata": {},
     "output_type": "execute_result"
    },
    {
     "data": {
      "text/plain": [
       "<folium.map.Marker at 0x7fd7c1ed0b50>"
      ]
     },
     "execution_count": 9,
     "metadata": {},
     "output_type": "execute_result"
    },
    {
     "data": {
      "text/plain": [
       "<folium.map.Marker at 0x7fd7c1ed0c70>"
      ]
     },
     "execution_count": 9,
     "metadata": {},
     "output_type": "execute_result"
    },
    {
     "data": {
      "text/plain": [
       "<folium.map.Marker at 0x7fd7c1ed0e80>"
      ]
     },
     "execution_count": 9,
     "metadata": {},
     "output_type": "execute_result"
    },
    {
     "data": {
      "text/plain": [
       "<folium.map.Marker at 0x7fd7c1ed0a60>"
      ]
     },
     "execution_count": 9,
     "metadata": {},
     "output_type": "execute_result"
    },
    {
     "data": {
      "text/plain": [
       "<folium.map.Marker at 0x7fd7c1eade20>"
      ]
     },
     "execution_count": 9,
     "metadata": {},
     "output_type": "execute_result"
    }
   ],
   "source": [
    "MAP = folium.Map(location=[np.mean(df_loc.latitude), np.mean(df_loc.longitude)], zoom_start=5, tiles='Stamen Toner')\n",
    "for index, row in df_loc.iterrows():\n",
    "    popup_txt = \"%s // Score : %s \" % (row.place, row.Rating)\n",
    "    folium.Marker([row.latitude, row.longitude], popup=popup_txt).add_to(MAP)"
   ]
  },
  {
   "cell_type": "code",
   "execution_count": 10,
   "id": "d3a8cbdb-50c9-4b7f-a06b-4022e57979de",
   "metadata": {
    "execution": {
     "iopub.execute_input": "2023-07-07T18:49:02.702943Z",
     "iopub.status.busy": "2023-07-07T18:49:02.702810Z",
     "iopub.status.idle": "2023-07-07T18:49:02.820780Z",
     "shell.execute_reply": "2023-07-07T18:49:02.820369Z",
     "shell.execute_reply.started": "2023-07-07T18:49:02.702929Z"
    }
   },
   "outputs": [
    {
     "data": {
      "text/html": [
       "<div style=\"width:100%;\"><div style=\"position:relative;width:100%;height:0;padding-bottom:60%;\"><span style=\"color:#565656\">Make this Notebook Trusted to load map: File -> Trust Notebook</span><iframe srcdoc=\"&lt;!DOCTYPE html&gt;\n",
       "&lt;html&gt;\n",
       "&lt;head&gt;\n",
       "    \n",
       "    &lt;meta http-equiv=&quot;content-type&quot; content=&quot;text/html; charset=UTF-8&quot; /&gt;\n",
       "    \n",
       "        &lt;script&gt;\n",
       "            L_NO_TOUCH = false;\n",
       "            L_DISABLE_3D = false;\n",
       "        &lt;/script&gt;\n",
       "    \n",
       "    &lt;style&gt;html, body {width: 100%;height: 100%;margin: 0;padding: 0;}&lt;/style&gt;\n",
       "    &lt;style&gt;#map {position:absolute;top:0;bottom:0;right:0;left:0;}&lt;/style&gt;\n",
       "    &lt;script src=&quot;https://cdn.jsdelivr.net/npm/leaflet@1.9.3/dist/leaflet.js&quot;&gt;&lt;/script&gt;\n",
       "    &lt;script src=&quot;https://code.jquery.com/jquery-1.12.4.min.js&quot;&gt;&lt;/script&gt;\n",
       "    &lt;script src=&quot;https://cdn.jsdelivr.net/npm/bootstrap@5.2.2/dist/js/bootstrap.bundle.min.js&quot;&gt;&lt;/script&gt;\n",
       "    &lt;script src=&quot;https://cdnjs.cloudflare.com/ajax/libs/Leaflet.awesome-markers/2.0.2/leaflet.awesome-markers.js&quot;&gt;&lt;/script&gt;\n",
       "    &lt;link rel=&quot;stylesheet&quot; href=&quot;https://cdn.jsdelivr.net/npm/leaflet@1.9.3/dist/leaflet.css&quot;/&gt;\n",
       "    &lt;link rel=&quot;stylesheet&quot; href=&quot;https://cdn.jsdelivr.net/npm/bootstrap@5.2.2/dist/css/bootstrap.min.css&quot;/&gt;\n",
       "    &lt;link rel=&quot;stylesheet&quot; href=&quot;https://netdna.bootstrapcdn.com/bootstrap/3.0.0/css/bootstrap.min.css&quot;/&gt;\n",
       "    &lt;link rel=&quot;stylesheet&quot; href=&quot;https://cdn.jsdelivr.net/npm/@fortawesome/fontawesome-free@6.2.0/css/all.min.css&quot;/&gt;\n",
       "    &lt;link rel=&quot;stylesheet&quot; href=&quot;https://cdnjs.cloudflare.com/ajax/libs/Leaflet.awesome-markers/2.0.2/leaflet.awesome-markers.css&quot;/&gt;\n",
       "    &lt;link rel=&quot;stylesheet&quot; href=&quot;https://cdn.jsdelivr.net/gh/python-visualization/folium/folium/templates/leaflet.awesome.rotate.min.css&quot;/&gt;\n",
       "    \n",
       "            &lt;meta name=&quot;viewport&quot; content=&quot;width=device-width,\n",
       "                initial-scale=1.0, maximum-scale=1.0, user-scalable=no&quot; /&gt;\n",
       "            &lt;style&gt;\n",
       "                #map_d0a5d0e3f13fc654cac50ac8d91d658d {\n",
       "                    position: relative;\n",
       "                    width: 100.0%;\n",
       "                    height: 100.0%;\n",
       "                    left: 0.0%;\n",
       "                    top: 0.0%;\n",
       "                }\n",
       "                .leaflet-container { font-size: 1rem; }\n",
       "            &lt;/style&gt;\n",
       "        \n",
       "&lt;/head&gt;\n",
       "&lt;body&gt;\n",
       "    \n",
       "    \n",
       "            &lt;div class=&quot;folium-map&quot; id=&quot;map_d0a5d0e3f13fc654cac50ac8d91d658d&quot; &gt;&lt;/div&gt;\n",
       "        \n",
       "&lt;/body&gt;\n",
       "&lt;script&gt;\n",
       "    \n",
       "    \n",
       "            var map_d0a5d0e3f13fc654cac50ac8d91d658d = L.map(\n",
       "                &quot;map_d0a5d0e3f13fc654cac50ac8d91d658d&quot;,\n",
       "                {\n",
       "                    center: [13.035799007835822, 77.52559955181108],\n",
       "                    crs: L.CRS.EPSG3857,\n",
       "                    zoom: 5,\n",
       "                    zoomControl: true,\n",
       "                    preferCanvas: false,\n",
       "                }\n",
       "            );\n",
       "\n",
       "            \n",
       "\n",
       "        \n",
       "    \n",
       "            var tile_layer_79ff3cd5f0c68213b1bc7a763be8c582 = L.tileLayer(\n",
       "                &quot;https://stamen-tiles-{s}.a.ssl.fastly.net/toner/{z}/{x}/{y}.png&quot;,\n",
       "                {&quot;attribution&quot;: &quot;Map tiles by \\u003ca target=\\&quot;_blank\\&quot; href=\\&quot;http://stamen.com\\&quot;\\u003eStamen Design\\u003c/a\\u003e, under \\u003ca target=\\&quot;_blank\\&quot; href=\\&quot;http://creativecommons.org/licenses/by/3.0\\&quot;\\u003eCC BY 3.0\\u003c/a\\u003e. Data by \\u0026copy; \\u003ca target=\\&quot;_blank\\&quot; href=\\&quot;http://openstreetmap.org\\&quot;\\u003eOpenStreetMap\\u003c/a\\u003e, under \\u003ca target=\\&quot;_blank\\&quot; href=\\&quot;http://www.openstreetmap.org/copyright\\&quot;\\u003eODbL\\u003c/a\\u003e.&quot;, &quot;detectRetina&quot;: false, &quot;maxNativeZoom&quot;: 18, &quot;maxZoom&quot;: 18, &quot;minZoom&quot;: 0, &quot;noWrap&quot;: false, &quot;opacity&quot;: 1, &quot;subdomains&quot;: &quot;abc&quot;, &quot;tms&quot;: false}\n",
       "            ).addTo(map_d0a5d0e3f13fc654cac50ac8d91d658d);\n",
       "        \n",
       "    \n",
       "            var marker_14c6a52386e08f070c42c4ad373603a5 = L.marker(\n",
       "                [15.40417305, 75.06941224495768],\n",
       "                {}\n",
       "            ).addTo(map_d0a5d0e3f13fc654cac50ac8d91d658d);\n",
       "        \n",
       "    \n",
       "        var popup_8a3e7b99826aa2e9fa9d3862a77035c3 = L.popup({&quot;maxWidth&quot;: &quot;100%&quot;});\n",
       "\n",
       "        \n",
       "            \n",
       "                var html_cdb6f85280d3653d6aac51fe6c659e49 = $(`&lt;div id=&quot;html_cdb6f85280d3653d6aac51fe6c659e49&quot; style=&quot;width: 100.0%; height: 100.0%;&quot;&gt; ISKCON Temple Bangalore // Score : 3.5163974151857835 &lt;/div&gt;`)[0];\n",
       "                popup_8a3e7b99826aa2e9fa9d3862a77035c3.setContent(html_cdb6f85280d3653d6aac51fe6c659e49);\n",
       "            \n",
       "        \n",
       "\n",
       "        marker_14c6a52386e08f070c42c4ad373603a5.bindPopup(popup_8a3e7b99826aa2e9fa9d3862a77035c3)\n",
       "        ;\n",
       "\n",
       "        \n",
       "    \n",
       "    \n",
       "            var marker_e5073eafe180e62f989b6f390b8b7887 = L.marker(\n",
       "                [12.9489367, 77.58698687897964],\n",
       "                {}\n",
       "            ).addTo(map_d0a5d0e3f13fc654cac50ac8d91d658d);\n",
       "        \n",
       "    \n",
       "        var popup_2e02adfe158982aae40869c818e30df6 = L.popup({&quot;maxWidth&quot;: &quot;100%&quot;});\n",
       "\n",
       "        \n",
       "            \n",
       "                var html_64523a42b80eafaee402442a11a79c2d = $(`&lt;div id=&quot;html_64523a42b80eafaee402442a11a79c2d&quot; style=&quot;width: 100.0%; height: 100.0%;&quot;&gt; Lalbagh Botanical Garden // Score : 4.0 &lt;/div&gt;`)[0];\n",
       "                popup_2e02adfe158982aae40869c818e30df6.setContent(html_64523a42b80eafaee402442a11a79c2d);\n",
       "            \n",
       "        \n",
       "\n",
       "        marker_e5073eafe180e62f989b6f390b8b7887.bindPopup(popup_2e02adfe158982aae40869c818e30df6)\n",
       "        ;\n",
       "\n",
       "        \n",
       "    \n",
       "    \n",
       "            var marker_284a3e36df5aa94c41ba512c50bc1adb = L.marker(\n",
       "                [12.9723336, 77.59611365584038],\n",
       "                {}\n",
       "            ).addTo(map_d0a5d0e3f13fc654cac50ac8d91d658d);\n",
       "        \n",
       "    \n",
       "        var popup_28f50782dc6d9efb1de20722150da85c = L.popup({&quot;maxWidth&quot;: &quot;100%&quot;});\n",
       "\n",
       "        \n",
       "            \n",
       "                var html_15829eb8e5898280f4b421ac12bff303 = $(`&lt;div id=&quot;html_15829eb8e5898280f4b421ac12bff303&quot; style=&quot;width: 100.0%; height: 100.0%;&quot;&gt; UB City // Score : 2.0369951534733444 &lt;/div&gt;`)[0];\n",
       "                popup_28f50782dc6d9efb1de20722150da85c.setContent(html_15829eb8e5898280f4b421ac12bff303);\n",
       "            \n",
       "        \n",
       "\n",
       "        marker_284a3e36df5aa94c41ba512c50bc1adb.bindPopup(popup_28f50782dc6d9efb1de20722150da85c)\n",
       "        ;\n",
       "\n",
       "        \n",
       "    \n",
       "    \n",
       "            var marker_3a94f23620e1644620f8afab5aa8feaa = L.marker(\n",
       "                [12.53290595, 77.54619068920488],\n",
       "                {}\n",
       "            ).addTo(map_d0a5d0e3f13fc654cac50ac8d91d658d);\n",
       "        \n",
       "    \n",
       "        var popup_d3467917bb06ea8259d52799f75e5c78 = L.popup({&quot;maxWidth&quot;: &quot;100%&quot;});\n",
       "\n",
       "        \n",
       "            \n",
       "                var html_84b55fc5fa7825246fe2b6a44ff37867 = $(`&lt;div id=&quot;html_84b55fc5fa7825246fe2b6a44ff37867&quot; style=&quot;width: 100.0%; height: 100.0%;&quot;&gt; Bannerghatta National Park // Score : 1.904361873990307 &lt;/div&gt;`)[0];\n",
       "                popup_d3467917bb06ea8259d52799f75e5c78.setContent(html_84b55fc5fa7825246fe2b6a44ff37867);\n",
       "            \n",
       "        \n",
       "\n",
       "        marker_3a94f23620e1644620f8afab5aa8feaa.bindPopup(popup_d3467917bb06ea8259d52799f75e5c78)\n",
       "        ;\n",
       "\n",
       "        \n",
       "    \n",
       "    \n",
       "            var marker_420300bc81beddcb2d69bff05b33a96d = L.marker(\n",
       "                [12.97424405, 77.59219502919655],\n",
       "                {}\n",
       "            ).addTo(map_d0a5d0e3f13fc654cac50ac8d91d658d);\n",
       "        \n",
       "    \n",
       "        var popup_5f9fa482d83031b7f25c36d15aa5fe5f = L.popup({&quot;maxWidth&quot;: &quot;100%&quot;});\n",
       "\n",
       "        \n",
       "            \n",
       "                var html_d4cb96fcab787cb5bddbb6dab6d2585f = $(`&lt;div id=&quot;html_d4cb96fcab787cb5bddbb6dab6d2585f&quot; style=&quot;width: 100.0%; height: 100.0%;&quot;&gt; Cubbon Park // Score : 1.6135702746365106 &lt;/div&gt;`)[0];\n",
       "                popup_5f9fa482d83031b7f25c36d15aa5fe5f.setContent(html_d4cb96fcab787cb5bddbb6dab6d2585f);\n",
       "            \n",
       "        \n",
       "\n",
       "        marker_420300bc81beddcb2d69bff05b33a96d.bindPopup(popup_5f9fa482d83031b7f25c36d15aa5fe5f)\n",
       "        ;\n",
       "\n",
       "        \n",
       "    \n",
       "    \n",
       "            var marker_e49b95c3a3139e7f8e29b7183624e795 = L.marker(\n",
       "                [12.97528365, 77.59628434047809],\n",
       "                {}\n",
       "            ).addTo(map_d0a5d0e3f13fc654cac50ac8d91d658d);\n",
       "        \n",
       "    \n",
       "        var popup_b3cd03b31b9d7e79ee5908f297df2844 = L.popup({&quot;maxWidth&quot;: &quot;100%&quot;});\n",
       "\n",
       "        \n",
       "            \n",
       "                var html_7cc89861512dee7311beba2243bdd8f4 = $(`&lt;div id=&quot;html_7cc89861512dee7311beba2243bdd8f4&quot; style=&quot;width: 100.0%; height: 100.0%;&quot;&gt; Visvesvaraya Industrial and Technological Museum // Score : 1.2838449111470112 &lt;/div&gt;`)[0];\n",
       "                popup_b3cd03b31b9d7e79ee5908f297df2844.setContent(html_7cc89861512dee7311beba2243bdd8f4);\n",
       "            \n",
       "        \n",
       "\n",
       "        marker_e49b95c3a3139e7f8e29b7183624e795.bindPopup(popup_b3cd03b31b9d7e79ee5908f297df2844)\n",
       "        ;\n",
       "\n",
       "        \n",
       "    \n",
       "    \n",
       "            var marker_e0ecd54d25aa8dec6ef2e809ac715e20 = L.marker(\n",
       "                [13.3693722, 77.6860634],\n",
       "                {}\n",
       "            ).addTo(map_d0a5d0e3f13fc654cac50ac8d91d658d);\n",
       "        \n",
       "    \n",
       "        var popup_2dd5f93232edc5f105d70ca4928623cc = L.popup({&quot;maxWidth&quot;: &quot;100%&quot;});\n",
       "\n",
       "        \n",
       "            \n",
       "                var html_729cc5024ab0ebe8583a1e3ac4abafbb = $(`&lt;div id=&quot;html_729cc5024ab0ebe8583a1e3ac4abafbb&quot; style=&quot;width: 100.0%; height: 100.0%;&quot;&gt; Bull Temple // Score : 0.5292407108239096 &lt;/div&gt;`)[0];\n",
       "                popup_2dd5f93232edc5f105d70ca4928623cc.setContent(html_729cc5024ab0ebe8583a1e3ac4abafbb);\n",
       "            \n",
       "        \n",
       "\n",
       "        marker_e0ecd54d25aa8dec6ef2e809ac715e20.bindPopup(popup_2dd5f93232edc5f105d70ca4928623cc)\n",
       "        ;\n",
       "\n",
       "        \n",
       "    \n",
       "    \n",
       "            var marker_deebd0b9ce5213592119359ccd3f5bfa = L.marker(\n",
       "                [12.9985954, 77.59200860232801],\n",
       "                {}\n",
       "            ).addTo(map_d0a5d0e3f13fc654cac50ac8d91d658d);\n",
       "        \n",
       "    \n",
       "        var popup_b2c80791579c9948207c7b71b41d7d24 = L.popup({&quot;maxWidth&quot;: &quot;100%&quot;});\n",
       "\n",
       "        \n",
       "            \n",
       "                var html_6458ad99d1bdc21dd9b33642e88388bc = $(`&lt;div id=&quot;html_6458ad99d1bdc21dd9b33642e88388bc&quot; style=&quot;width: 100.0%; height: 100.0%;&quot;&gt; Bangalore Palace // Score : 0.9617932148626818 &lt;/div&gt;`)[0];\n",
       "                popup_b2c80791579c9948207c7b71b41d7d24.setContent(html_6458ad99d1bdc21dd9b33642e88388bc);\n",
       "            \n",
       "        \n",
       "\n",
       "        marker_deebd0b9ce5213592119359ccd3f5bfa.bindPopup(popup_b2c80791579c9948207c7b71b41d7d24)\n",
       "        ;\n",
       "\n",
       "        \n",
       "    \n",
       "    \n",
       "            var marker_10315950e5ccf1a83139bda23e60ea87 = L.marker(\n",
       "                [13.0027353, 77.5703253],\n",
       "                {}\n",
       "            ).addTo(map_d0a5d0e3f13fc654cac50ac8d91d658d);\n",
       "        \n",
       "    \n",
       "        var popup_8cf030794396cb0339ee78c01b5933eb = L.popup({&quot;maxWidth&quot;: &quot;100%&quot;});\n",
       "\n",
       "        \n",
       "            \n",
       "                var html_2097330f1bf026186319352e02ba9a90 = $(`&lt;div id=&quot;html_2097330f1bf026186319352e02ba9a90&quot; style=&quot;width: 100.0%; height: 100.0%;&quot;&gt; Malleswaram // Score : 0.3736672051696284 &lt;/div&gt;`)[0];\n",
       "                popup_8cf030794396cb0339ee78c01b5933eb.setContent(html_2097330f1bf026186319352e02ba9a90);\n",
       "            \n",
       "        \n",
       "\n",
       "        marker_10315950e5ccf1a83139bda23e60ea87.bindPopup(popup_8cf030794396cb0339ee78c01b5933eb)\n",
       "        ;\n",
       "\n",
       "        \n",
       "    \n",
       "    \n",
       "            var marker_fb58919a883f8859a0ee85b62fa8fc52 = L.marker(\n",
       "                [13.0366327, 77.3215413],\n",
       "                {}\n",
       "            ).addTo(map_d0a5d0e3f13fc654cac50ac8d91d658d);\n",
       "        \n",
       "    \n",
       "        var popup_e50786fa03186c81bf5e7a10e52d3a5c = L.popup({&quot;maxWidth&quot;: &quot;100%&quot;});\n",
       "\n",
       "        \n",
       "            \n",
       "                var html_ce6359caa1c905cf38b742d79d80a8eb = $(`&lt;div id=&quot;html_ce6359caa1c905cf38b742d79d80a8eb&quot; style=&quot;width: 100.0%; height: 100.0%;&quot;&gt; Omthara Kala Kuteera // Score : 0.0654281098546042 &lt;/div&gt;`)[0];\n",
       "                popup_e50786fa03186c81bf5e7a10e52d3a5c.setContent(html_ce6359caa1c905cf38b742d79d80a8eb);\n",
       "            \n",
       "        \n",
       "\n",
       "        marker_fb58919a883f8859a0ee85b62fa8fc52.bindPopup(popup_e50786fa03186c81bf5e7a10e52d3a5c)\n",
       "        ;\n",
       "\n",
       "        \n",
       "    \n",
       "    \n",
       "            var marker_933ad4da8f76ad548946c9aead1fd54c = L.marker(\n",
       "                [12.8918025, 77.5835797],\n",
       "                {}\n",
       "            ).addTo(map_d0a5d0e3f13fc654cac50ac8d91d658d);\n",
       "        \n",
       "    \n",
       "        var popup_1c1463add6f5ddae9389ac881b5aea57 = L.popup({&quot;maxWidth&quot;: &quot;100%&quot;});\n",
       "\n",
       "        \n",
       "            \n",
       "                var html_e0dafbe4b4b0d988d30180930cadc28b = $(`&lt;div id=&quot;html_e0dafbe4b4b0d988d30180930cadc28b&quot; style=&quot;width: 100.0%; height: 100.0%;&quot;&gt; Indian Music Experience Museum // Score : 0.07512116316639741 &lt;/div&gt;`)[0];\n",
       "                popup_1c1463add6f5ddae9389ac881b5aea57.setContent(html_e0dafbe4b4b0d988d30180930cadc28b);\n",
       "            \n",
       "        \n",
       "\n",
       "        marker_933ad4da8f76ad548946c9aead1fd54c.bindPopup(popup_1c1463add6f5ddae9389ac881b5aea57)\n",
       "        ;\n",
       "\n",
       "        \n",
       "    \n",
       "    \n",
       "            var marker_4556b4a08dffbb619a8b893512fede4e = L.marker(\n",
       "                [12.7000841, 77.4939319],\n",
       "                {}\n",
       "            ).addTo(map_d0a5d0e3f13fc654cac50ac8d91d658d);\n",
       "        \n",
       "    \n",
       "        var popup_eda7d67d659aee0de8844c741345c101 = L.popup({&quot;maxWidth&quot;: &quot;100%&quot;});\n",
       "\n",
       "        \n",
       "            \n",
       "                var html_bd911c753536ebe74ee45a5b9d8bbb2f = $(`&lt;div id=&quot;html_bd911c753536ebe74ee45a5b9d8bbb2f&quot; style=&quot;width: 100.0%; height: 100.0%;&quot;&gt; Pyramid Valley International // Score : 0.24426494345718902 &lt;/div&gt;`)[0];\n",
       "                popup_eda7d67d659aee0de8844c741345c101.setContent(html_bd911c753536ebe74ee45a5b9d8bbb2f);\n",
       "            \n",
       "        \n",
       "\n",
       "        marker_4556b4a08dffbb619a8b893512fede4e.bindPopup(popup_eda7d67d659aee0de8844c741345c101)\n",
       "        ;\n",
       "\n",
       "        \n",
       "    \n",
       "    \n",
       "            var marker_dbb921adc9c99e5fdcd41bd87b38bba6 = L.marker(\n",
       "                [12.9892808, 77.58074846081426],\n",
       "                {}\n",
       "            ).addTo(map_d0a5d0e3f13fc654cac50ac8d91d658d);\n",
       "        \n",
       "    \n",
       "        var popup_afae543009bd2aa1b97f21d011230b4c = L.popup({&quot;maxWidth&quot;: &quot;100%&quot;});\n",
       "\n",
       "        \n",
       "            \n",
       "                var html_b2f992975c752365e779e9572fcacd97 = $(`&lt;div id=&quot;html_b2f992975c752365e779e9572fcacd97&quot; style=&quot;width: 100.0%; height: 100.0%;&quot;&gt; Karnataka Chitrakala Parishat // Score : 0.15775444264943458 &lt;/div&gt;`)[0];\n",
       "                popup_afae543009bd2aa1b97f21d011230b4c.setContent(html_b2f992975c752365e779e9572fcacd97);\n",
       "            \n",
       "        \n",
       "\n",
       "        marker_dbb921adc9c99e5fdcd41bd87b38bba6.bindPopup(popup_afae543009bd2aa1b97f21d011230b4c)\n",
       "        ;\n",
       "\n",
       "        \n",
       "    \n",
       "    \n",
       "            var marker_b4977f91de72026d1072731729b68625 = L.marker(\n",
       "                [12.9788243, 77.60038607501548],\n",
       "                {}\n",
       "            ).addTo(map_d0a5d0e3f13fc654cac50ac8d91d658d);\n",
       "        \n",
       "    \n",
       "        var popup_e2184b4ffab85cabaae6be7f8f912bea = L.popup({&quot;maxWidth&quot;: &quot;100%&quot;});\n",
       "\n",
       "        \n",
       "            \n",
       "                var html_3b7b8ee226e9497a707b4fe552c56f8f = $(`&lt;div id=&quot;html_3b7b8ee226e9497a707b4fe552c56f8f&quot; style=&quot;width: 100.0%; height: 100.0%;&quot;&gt; M Chinnaswamy Stadium // Score : 0.5139741518578352 &lt;/div&gt;`)[0];\n",
       "                popup_e2184b4ffab85cabaae6be7f8f912bea.setContent(html_3b7b8ee226e9497a707b4fe552c56f8f);\n",
       "            \n",
       "        \n",
       "\n",
       "        marker_b4977f91de72026d1072731729b68625.bindPopup(popup_e2184b4ffab85cabaae6be7f8f912bea)\n",
       "        ;\n",
       "\n",
       "        \n",
       "    \n",
       "    \n",
       "            var marker_c0e277801e6aba86144e2295eff4f2f9 = L.marker(\n",
       "                [12.95784015, 77.65636716770405],\n",
       "                {}\n",
       "            ).addTo(map_d0a5d0e3f13fc654cac50ac8d91d658d);\n",
       "        \n",
       "    \n",
       "        var popup_939959810dbb0a75536ae157f15fac91 = L.popup({&quot;maxWidth&quot;: &quot;100%&quot;});\n",
       "\n",
       "        \n",
       "            \n",
       "                var html_73b441eb09456dbe3712e4db271cf243 = $(`&lt;div id=&quot;html_73b441eb09456dbe3712e4db271cf243&quot; style=&quot;width: 100.0%; height: 100.0%;&quot;&gt; Shivoham Shiva Temple // Score : 0.42180936995153473 &lt;/div&gt;`)[0];\n",
       "                popup_939959810dbb0a75536ae157f15fac91.setContent(html_73b441eb09456dbe3712e4db271cf243);\n",
       "            \n",
       "        \n",
       "\n",
       "        marker_c0e277801e6aba86144e2295eff4f2f9.bindPopup(popup_939959810dbb0a75536ae157f15fac91)\n",
       "        ;\n",
       "\n",
       "        \n",
       "    \n",
       "    \n",
       "            var marker_25a0ec5affcf13480e10570e6efa8833 = L.marker(\n",
       "                [12.9417261, 77.5755021],\n",
       "                {}\n",
       "            ).addTo(map_d0a5d0e3f13fc654cac50ac8d91d658d);\n",
       "        \n",
       "    \n",
       "        var popup_1dab85ed3bbbce5b200bf2984626c36a = L.popup({&quot;maxWidth&quot;: &quot;100%&quot;});\n",
       "\n",
       "        \n",
       "            \n",
       "                var html_8b6c25c423854b48f7c636507acc9a97 = $(`&lt;div id=&quot;html_8b6c25c423854b48f7c636507acc9a97&quot; style=&quot;width: 100.0%; height: 100.0%;&quot;&gt; Basavanagudi // Score : 0.35331179321486267 &lt;/div&gt;`)[0];\n",
       "                popup_1dab85ed3bbbce5b200bf2984626c36a.setContent(html_8b6c25c423854b48f7c636507acc9a97);\n",
       "            \n",
       "        \n",
       "\n",
       "        marker_25a0ec5affcf13480e10570e6efa8833.bindPopup(popup_1dab85ed3bbbce5b200bf2984626c36a)\n",
       "        ;\n",
       "\n",
       "        \n",
       "    \n",
       "    \n",
       "            var marker_7611ec8f1fe817e3e35b54c25e367255 = L.marker(\n",
       "                [12.99156925, 77.57078886504445],\n",
       "                {}\n",
       "            ).addTo(map_d0a5d0e3f13fc654cac50ac8d91d658d);\n",
       "        \n",
       "    \n",
       "        var popup_432b40639cb14e940652f23817a6218b = L.popup({&quot;maxWidth&quot;: &quot;100%&quot;});\n",
       "\n",
       "        \n",
       "            \n",
       "                var html_bff3f7ad3fd52bc799dc0626b612675b = $(`&lt;div id=&quot;html_bff3f7ad3fd52bc799dc0626b612675b&quot; style=&quot;width: 100.0%; height: 100.0%;&quot;&gt; Mantri Square // Score : 0.1541195476575121 &lt;/div&gt;`)[0];\n",
       "                popup_432b40639cb14e940652f23817a6218b.setContent(html_bff3f7ad3fd52bc799dc0626b612675b);\n",
       "            \n",
       "        \n",
       "\n",
       "        marker_7611ec8f1fe817e3e35b54c25e367255.bindPopup(popup_432b40639cb14e940652f23817a6218b)\n",
       "        ;\n",
       "\n",
       "        \n",
       "    \n",
       "    \n",
       "            var marker_be6deff6aefea7135178ccdb7e642f03 = L.marker(\n",
       "                [13.00988795, 77.57400429244788],\n",
       "                {}\n",
       "            ).addTo(map_d0a5d0e3f13fc654cac50ac8d91d658d);\n",
       "        \n",
       "    \n",
       "        var popup_62d8e40b70f57d7ef931f4026b387879 = L.popup({&quot;maxWidth&quot;: &quot;100%&quot;});\n",
       "\n",
       "        \n",
       "            \n",
       "                var html_4f7b8b6a86c789f5fc98befc4421d029 = $(`&lt;div id=&quot;html_4f7b8b6a86c789f5fc98befc4421d029&quot; style=&quot;width: 100.0%; height: 100.0%;&quot;&gt; Sankey Tank // Score : 0.2429725363489499 &lt;/div&gt;`)[0];\n",
       "                popup_62d8e40b70f57d7ef931f4026b387879.setContent(html_4f7b8b6a86c789f5fc98befc4421d029);\n",
       "            \n",
       "        \n",
       "\n",
       "        marker_be6deff6aefea7135178ccdb7e642f03.bindPopup(popup_62d8e40b70f57d7ef931f4026b387879)\n",
       "        ;\n",
       "\n",
       "        \n",
       "    \n",
       "    \n",
       "            var marker_25ed503f477e946a675f6803321dc012 = L.marker(\n",
       "                [13.408538, 77.5281425],\n",
       "                {}\n",
       "            ).addTo(map_d0a5d0e3f13fc654cac50ac8d91d658d);\n",
       "        \n",
       "    \n",
       "        var popup_f58f5f37ad02cef2b5232c83839c9457 = L.popup({&quot;maxWidth&quot;: &quot;100%&quot;});\n",
       "\n",
       "        \n",
       "            \n",
       "                var html_0e63ce9617231303133fa5a1f3e4bf2d = $(`&lt;div id=&quot;html_0e63ce9617231303133fa5a1f3e4bf2d&quot; style=&quot;width: 100.0%; height: 100.0%;&quot;&gt; Ghati Subramanya Temple // Score : 0.11413570274636511 &lt;/div&gt;`)[0];\n",
       "                popup_f58f5f37ad02cef2b5232c83839c9457.setContent(html_0e63ce9617231303133fa5a1f3e4bf2d);\n",
       "            \n",
       "        \n",
       "\n",
       "        marker_25ed503f477e946a675f6803321dc012.bindPopup(popup_f58f5f37ad02cef2b5232c83839c9457)\n",
       "        ;\n",
       "\n",
       "        \n",
       "    \n",
       "    \n",
       "            var marker_abf664ccd586a81da70428c2894473d3 = L.marker(\n",
       "                [12.8998646, 77.50593160851712],\n",
       "                {}\n",
       "            ).addTo(map_d0a5d0e3f13fc654cac50ac8d91d658d);\n",
       "        \n",
       "    \n",
       "        var popup_c637a7a2efaa55be0d873a64eca29276 = L.popup({&quot;maxWidth&quot;: &quot;100%&quot;});\n",
       "\n",
       "        \n",
       "            \n",
       "                var html_a872ec13e08fdd82b7324e86e1c9a649 = $(`&lt;div id=&quot;html_a872ec13e08fdd82b7324e86e1c9a649&quot; style=&quot;width: 100.0%; height: 100.0%;&quot;&gt; Dwadasha Jyotirlinga // Score : 0.061793214862681745 &lt;/div&gt;`)[0];\n",
       "                popup_c637a7a2efaa55be0d873a64eca29276.setContent(html_a872ec13e08fdd82b7324e86e1c9a649);\n",
       "            \n",
       "        \n",
       "\n",
       "        marker_abf664ccd586a81da70428c2894473d3.bindPopup(popup_c637a7a2efaa55be0d873a64eca29276)\n",
       "        ;\n",
       "\n",
       "        \n",
       "    \n",
       "    \n",
       "            var marker_3f630d39f84f7c89a750f3185b492bf2 = L.marker(\n",
       "                [12.98519975, 77.5918593563158],\n",
       "                {}\n",
       "            ).addTo(map_d0a5d0e3f13fc654cac50ac8d91d658d);\n",
       "        \n",
       "    \n",
       "        var popup_58ee456aa244a4e7015134c2c373baa0 = L.popup({&quot;maxWidth&quot;: &quot;100%&quot;});\n",
       "\n",
       "        \n",
       "            \n",
       "                var html_d1d7bc390b48aaaabf52a6ca8ec47617 = $(`&lt;div id=&quot;html_d1d7bc390b48aaaabf52a6ca8ec47617&quot; style=&quot;width: 100.0%; height: 100.0%;&quot;&gt; Indira Gandhi Musical Fountain // Score : 0.14991922455573506 &lt;/div&gt;`)[0];\n",
       "                popup_58ee456aa244a4e7015134c2c373baa0.setContent(html_d1d7bc390b48aaaabf52a6ca8ec47617);\n",
       "            \n",
       "        \n",
       "\n",
       "        marker_3f630d39f84f7c89a750f3185b492bf2.bindPopup(popup_58ee456aa244a4e7015134c2c373baa0)\n",
       "        ;\n",
       "\n",
       "        \n",
       "    \n",
       "    \n",
       "            var marker_41d37ae4e2885c134265df3f03156635 = L.marker(\n",
       "                [12.9642064, 77.5768931],\n",
       "                {}\n",
       "            ).addTo(map_d0a5d0e3f13fc654cac50ac8d91d658d);\n",
       "        \n",
       "    \n",
       "        var popup_20c3b432a53058df29eb227ea804c0e0 = L.popup({&quot;maxWidth&quot;: &quot;100%&quot;});\n",
       "\n",
       "        \n",
       "            \n",
       "                var html_d098c20cad66b5c4d67d262384dcca94 = $(`&lt;div id=&quot;html_d098c20cad66b5c4d67d262384dcca94&quot; style=&quot;width: 100.0%; height: 100.0%;&quot;&gt; KR Market // Score : 0.10468497576736673 &lt;/div&gt;`)[0];\n",
       "                popup_20c3b432a53058df29eb227ea804c0e0.setContent(html_d098c20cad66b5c4d67d262384dcca94);\n",
       "            \n",
       "        \n",
       "\n",
       "        marker_41d37ae4e2885c134265df3f03156635.bindPopup(popup_20c3b432a53058df29eb227ea804c0e0)\n",
       "        ;\n",
       "\n",
       "        \n",
       "    \n",
       "    \n",
       "            var marker_1d5ac9451544b76d1793fab3ed4ad337 = L.marker(\n",
       "                [12.9096173, 77.3956405],\n",
       "                {}\n",
       "            ).addTo(map_d0a5d0e3f13fc654cac50ac8d91d658d);\n",
       "        \n",
       "    \n",
       "        var popup_27e1a6a29a16af8472ccf1b83d1fc7db = L.popup({&quot;maxWidth&quot;: &quot;100%&quot;});\n",
       "\n",
       "        \n",
       "            \n",
       "                var html_6459da6fd535eea563707b6311db3f80 = $(`&lt;div id=&quot;html_6459da6fd535eea563707b6311db3f80&quot; style=&quot;width: 100.0%; height: 100.0%;&quot;&gt; Big Banyan Tree // Score : 0.1594507269789984 &lt;/div&gt;`)[0];\n",
       "                popup_27e1a6a29a16af8472ccf1b83d1fc7db.setContent(html_6459da6fd535eea563707b6311db3f80);\n",
       "            \n",
       "        \n",
       "\n",
       "        marker_1d5ac9451544b76d1793fab3ed4ad337.bindPopup(popup_27e1a6a29a16af8472ccf1b83d1fc7db)\n",
       "        ;\n",
       "\n",
       "        \n",
       "    \n",
       "    \n",
       "            var marker_106bf2475f03acf5b9c6a6a66aae2320 = L.marker(\n",
       "                [12.9165317, 77.5923697],\n",
       "                {}\n",
       "            ).addTo(map_d0a5d0e3f13fc654cac50ac8d91d658d);\n",
       "        \n",
       "    \n",
       "        var popup_e85ac8e270987fc139454c988ea068a5 = L.popup({&quot;maxWidth&quot;: &quot;100%&quot;});\n",
       "\n",
       "        \n",
       "            \n",
       "                var html_ba5d1700b15929eaf354c4f0082f76c0 = $(`&lt;div id=&quot;html_ba5d1700b15929eaf354c4f0082f76c0&quot; style=&quot;width: 100.0%; height: 100.0%;&quot;&gt; Bangalore Central Mall // Score : 0.11502423263327949 &lt;/div&gt;`)[0];\n",
       "                popup_e85ac8e270987fc139454c988ea068a5.setContent(html_ba5d1700b15929eaf354c4f0082f76c0);\n",
       "            \n",
       "        \n",
       "\n",
       "        marker_106bf2475f03acf5b9c6a6a66aae2320.bindPopup(popup_e85ac8e270987fc139454c988ea068a5)\n",
       "        ;\n",
       "\n",
       "        \n",
       "    \n",
       "    \n",
       "            var marker_f42483fc91fa2408a08faac13451d057 = L.marker(\n",
       "                [12.9823891, 77.61916690529843],\n",
       "                {}\n",
       "            ).addTo(map_d0a5d0e3f13fc654cac50ac8d91d658d);\n",
       "        \n",
       "    \n",
       "        var popup_478f7f5ded5908021a71360ae267a247 = L.popup({&quot;maxWidth&quot;: &quot;100%&quot;});\n",
       "\n",
       "        \n",
       "            \n",
       "                var html_aff0d2129c74f37c125b2e37bf5dbe16 = $(`&lt;div id=&quot;html_aff0d2129c74f37c125b2e37bf5dbe16&quot; style=&quot;width: 100.0%; height: 100.0%;&quot;&gt; Ulsoor Lake // Score : 0.19507269789983847 &lt;/div&gt;`)[0];\n",
       "                popup_478f7f5ded5908021a71360ae267a247.setContent(html_aff0d2129c74f37c125b2e37bf5dbe16);\n",
       "            \n",
       "        \n",
       "\n",
       "        marker_f42483fc91fa2408a08faac13451d057.bindPopup(popup_478f7f5ded5908021a71360ae267a247)\n",
       "        ;\n",
       "\n",
       "        \n",
       "    \n",
       "    \n",
       "            var marker_d6e9c7b4b45e593caae30e5ab07bdb4b = L.marker(\n",
       "                [12.9298201, 77.5842754],\n",
       "                {}\n",
       "            ).addTo(map_d0a5d0e3f13fc654cac50ac8d91d658d);\n",
       "        \n",
       "    \n",
       "        var popup_1a1b68765cdd75d5a7b26ebee72cd0a6 = L.popup({&quot;maxWidth&quot;: &quot;100%&quot;});\n",
       "\n",
       "        \n",
       "            \n",
       "                var html_726de2069e9ba626a03bea2932eece67 = $(`&lt;div id=&quot;html_726de2069e9ba626a03bea2932eece67&quot; style=&quot;width: 100.0%; height: 100.0%;&quot;&gt; Jayanagar 4th Block Shopping Complex // Score : 0.023263327948303717 &lt;/div&gt;`)[0];\n",
       "                popup_1a1b68765cdd75d5a7b26ebee72cd0a6.setContent(html_726de2069e9ba626a03bea2932eece67);\n",
       "            \n",
       "        \n",
       "\n",
       "        marker_d6e9c7b4b45e593caae30e5ab07bdb4b.bindPopup(popup_1a1b68765cdd75d5a7b26ebee72cd0a6)\n",
       "        ;\n",
       "\n",
       "        \n",
       "    \n",
       "    \n",
       "            var marker_08676739d38b2ea95f15e55af995b921 = L.marker(\n",
       "                [12.87580525, 77.5956096180229],\n",
       "                {}\n",
       "            ).addTo(map_d0a5d0e3f13fc654cac50ac8d91d658d);\n",
       "        \n",
       "    \n",
       "        var popup_15190879811fef2627d0fc895b6ef259 = L.popup({&quot;maxWidth&quot;: &quot;100%&quot;});\n",
       "\n",
       "        \n",
       "            \n",
       "                var html_88685b5c08433e38bcfde42094dddb57 = $(`&lt;div id=&quot;html_88685b5c08433e38bcfde42094dddb57&quot; style=&quot;width: 100.0%; height: 100.0%;&quot;&gt; Royal Meenakshi Mall // Score : 0.08206785137318255 &lt;/div&gt;`)[0];\n",
       "                popup_15190879811fef2627d0fc895b6ef259.setContent(html_88685b5c08433e38bcfde42094dddb57);\n",
       "            \n",
       "        \n",
       "\n",
       "        marker_08676739d38b2ea95f15e55af995b921.bindPopup(popup_15190879811fef2627d0fc895b6ef259)\n",
       "        ;\n",
       "\n",
       "        \n",
       "    \n",
       "    \n",
       "            var marker_5799e83ab1446224bad8a3287f1eb4d1 = L.marker(\n",
       "                [12.9131869, 77.67220207189462],\n",
       "                {}\n",
       "            ).addTo(map_d0a5d0e3f13fc654cac50ac8d91d658d);\n",
       "        \n",
       "    \n",
       "        var popup_207a8b43da472a9496fa5a4268d7ef25 = L.popup({&quot;maxWidth&quot;: &quot;100%&quot;});\n",
       "\n",
       "        \n",
       "            \n",
       "                var html_4925c8a647be131299248e2cc3855107 = $(`&lt;div id=&quot;html_4925c8a647be131299248e2cc3855107&quot; style=&quot;width: 100.0%; height: 100.0%;&quot;&gt; Kaikondrahalli Lake // Score : 0.10032310177705978 &lt;/div&gt;`)[0];\n",
       "                popup_207a8b43da472a9496fa5a4268d7ef25.setContent(html_4925c8a647be131299248e2cc3855107);\n",
       "            \n",
       "        \n",
       "\n",
       "        marker_5799e83ab1446224bad8a3287f1eb4d1.bindPopup(popup_207a8b43da472a9496fa5a4268d7ef25)\n",
       "        ;\n",
       "\n",
       "        \n",
       "    \n",
       "    \n",
       "            var marker_ec95be807e94751d6102dce9a9f7eaae = L.marker(\n",
       "                [12.97002705, 77.60966586122197],\n",
       "                {}\n",
       "            ).addTo(map_d0a5d0e3f13fc654cac50ac8d91d658d);\n",
       "        \n",
       "    \n",
       "        var popup_3a7b38515610455c2e14f08146376bb0 = L.popup({&quot;maxWidth&quot;: &quot;100%&quot;});\n",
       "\n",
       "        \n",
       "            \n",
       "                var html_5af91f785be8e67e7565aa69c1421c44 = $(`&lt;div id=&quot;html_5af91f785be8e67e7565aa69c1421c44&quot; style=&quot;width: 100.0%; height: 100.0%;&quot;&gt; Garuda Mall // Score : 0.14281098546042004 &lt;/div&gt;`)[0];\n",
       "                popup_3a7b38515610455c2e14f08146376bb0.setContent(html_5af91f785be8e67e7565aa69c1421c44);\n",
       "            \n",
       "        \n",
       "\n",
       "        marker_ec95be807e94751d6102dce9a9f7eaae.bindPopup(popup_3a7b38515610455c2e14f08146376bb0)\n",
       "        ;\n",
       "\n",
       "        \n",
       "    \n",
       "    \n",
       "            var marker_16c5cdb44da8cb18e8b585400a4e4705 = L.marker(\n",
       "                [12.8257439, 77.5106674649764],\n",
       "                {}\n",
       "            ).addTo(map_d0a5d0e3f13fc654cac50ac8d91d658d);\n",
       "        \n",
       "    \n",
       "        var popup_8ab29bd0713216942932d74886e94470 = L.popup({&quot;maxWidth&quot;: &quot;100%&quot;});\n",
       "\n",
       "        \n",
       "            \n",
       "                var html_94492956d7aaec8b52694b59312bb42a = $(`&lt;div id=&quot;html_94492956d7aaec8b52694b59312bb42a&quot; style=&quot;width: 100.0%; height: 100.0%;&quot;&gt; Art of Living International Center // Score : 0.9007269789983845 &lt;/div&gt;`)[0];\n",
       "                popup_8ab29bd0713216942932d74886e94470.setContent(html_94492956d7aaec8b52694b59312bb42a);\n",
       "            \n",
       "        \n",
       "\n",
       "        marker_16c5cdb44da8cb18e8b585400a4e4705.bindPopup(popup_8ab29bd0713216942932d74886e94470)\n",
       "        ;\n",
       "\n",
       "        \n",
       "    \n",
       "    \n",
       "            var marker_7bec059ce661a612e5778b2a2867db50 = L.marker(\n",
       "                [12.983394, 77.593893],\n",
       "                {}\n",
       "            ).addTo(map_d0a5d0e3f13fc654cac50ac8d91d658d);\n",
       "        \n",
       "    \n",
       "        var popup_0c2c52ee6ee7ae214939a8e6e0ee87cb = L.popup({&quot;maxWidth&quot;: &quot;100%&quot;});\n",
       "\n",
       "        \n",
       "            \n",
       "                var html_a8b5a1dfe45542774f53cd4292a3e3d1 = $(`&lt;div id=&quot;html_a8b5a1dfe45542774f53cd4292a3e3d1&quot; style=&quot;width: 100.0%; height: 100.0%;&quot;&gt; Kynkyny Art // Score : 0.023263327948303717 &lt;/div&gt;`)[0];\n",
       "                popup_0c2c52ee6ee7ae214939a8e6e0ee87cb.setContent(html_a8b5a1dfe45542774f53cd4292a3e3d1);\n",
       "            \n",
       "        \n",
       "\n",
       "        marker_7bec059ce661a612e5778b2a2867db50.bindPopup(popup_0c2c52ee6ee7ae214939a8e6e0ee87cb)\n",
       "        ;\n",
       "\n",
       "        \n",
       "    \n",
       "    \n",
       "            var marker_9cfb6173b0d3782058b8f71c54095ce2 = L.marker(\n",
       "                [13.004966, 77.5714462],\n",
       "                {}\n",
       "            ).addTo(map_d0a5d0e3f13fc654cac50ac8d91d658d);\n",
       "        \n",
       "    \n",
       "        var popup_96d71cb6d02e01757671a8b5ed5aa783 = L.popup({&quot;maxWidth&quot;: &quot;100%&quot;});\n",
       "\n",
       "        \n",
       "            \n",
       "                var html_93124b491178dd8053ec15debe312f67 = $(`&lt;div id=&quot;html_93124b491178dd8053ec15debe312f67&quot; style=&quot;width: 100.0%; height: 100.0%;&quot;&gt; Kadu Malleshwara Temple // Score : 0.02980613893376414 &lt;/div&gt;`)[0];\n",
       "                popup_96d71cb6d02e01757671a8b5ed5aa783.setContent(html_93124b491178dd8053ec15debe312f67);\n",
       "            \n",
       "        \n",
       "\n",
       "        marker_9cfb6173b0d3782058b8f71c54095ce2.bindPopup(popup_96d71cb6d02e01757671a8b5ed5aa783)\n",
       "        ;\n",
       "\n",
       "        \n",
       "    \n",
       "    \n",
       "            var marker_7bfaef712c828bd5fbfe451bf134f5aa = L.marker(\n",
       "                [12.99635335, 77.69538988171388],\n",
       "                {}\n",
       "            ).addTo(map_d0a5d0e3f13fc654cac50ac8d91d658d);\n",
       "        \n",
       "    \n",
       "        var popup_5e92e03c9445c2d001cccc687a89b5f3 = L.popup({&quot;maxWidth&quot;: &quot;100%&quot;});\n",
       "\n",
       "        \n",
       "            \n",
       "                var html_597445bb539bfaaa83529924d8b6a57b = $(`&lt;div id=&quot;html_597445bb539bfaaa83529924d8b6a57b&quot; style=&quot;width: 100.0%; height: 100.0%;&quot;&gt; VR Bengaluru // Score : 0.07431340872374798 &lt;/div&gt;`)[0];\n",
       "                popup_5e92e03c9445c2d001cccc687a89b5f3.setContent(html_597445bb539bfaaa83529924d8b6a57b);\n",
       "            \n",
       "        \n",
       "\n",
       "        marker_7bfaef712c828bd5fbfe451bf134f5aa.bindPopup(popup_5e92e03c9445c2d001cccc687a89b5f3)\n",
       "        ;\n",
       "\n",
       "        \n",
       "    \n",
       "    \n",
       "            var marker_f22ac8ad690b8bf4134852862de751f8 = L.marker(\n",
       "                [15.88714135, 75.70465030072234],\n",
       "                {}\n",
       "            ).addTo(map_d0a5d0e3f13fc654cac50ac8d91d658d);\n",
       "        \n",
       "    \n",
       "        var popup_76734a3e5ec7f09407890ca5d13b64c1 = L.popup({&quot;maxWidth&quot;: &quot;100%&quot;});\n",
       "\n",
       "        \n",
       "            \n",
       "                var html_8d7ce45ba431581da6de237db7757e0e = $(`&lt;div id=&quot;html_8d7ce45ba431581da6de237db7757e0e&quot; style=&quot;width: 100.0%; height: 100.0%;&quot;&gt; Banashankari Temple // Score : 0.020355411954765753 &lt;/div&gt;`)[0];\n",
       "                popup_76734a3e5ec7f09407890ca5d13b64c1.setContent(html_8d7ce45ba431581da6de237db7757e0e);\n",
       "            \n",
       "        \n",
       "\n",
       "        marker_f22ac8ad690b8bf4134852862de751f8.bindPopup(popup_76734a3e5ec7f09407890ca5d13b64c1)\n",
       "        ;\n",
       "\n",
       "        \n",
       "    \n",
       "    \n",
       "            var marker_439cb540d06fc7b209128c7c669c0281 = L.marker(\n",
       "                [12.9694658, 77.5794819],\n",
       "                {}\n",
       "            ).addTo(map_d0a5d0e3f13fc654cac50ac8d91d658d);\n",
       "        \n",
       "    \n",
       "        var popup_6b9cdf7bd2c2d3ab3e24b9dc03c7bb09 = L.popup({&quot;maxWidth&quot;: &quot;100%&quot;});\n",
       "\n",
       "        \n",
       "            \n",
       "                var html_3514a9361ff195b4e0c5dfa8fbd10e09 = $(`&lt;div id=&quot;html_3514a9361ff195b4e0c5dfa8fbd10e09&quot; style=&quot;width: 100.0%; height: 100.0%;&quot;&gt; Sri Someshwara Swamy Temple // Score : 0.045799676898222945 &lt;/div&gt;`)[0];\n",
       "                popup_6b9cdf7bd2c2d3ab3e24b9dc03c7bb09.setContent(html_3514a9361ff195b4e0c5dfa8fbd10e09);\n",
       "            \n",
       "        \n",
       "\n",
       "        marker_439cb540d06fc7b209128c7c669c0281.bindPopup(popup_6b9cdf7bd2c2d3ab3e24b9dc03c7bb09)\n",
       "        ;\n",
       "\n",
       "        \n",
       "    \n",
       "    \n",
       "            var marker_40c3673491de2407f7f14f469f811158 = L.marker(\n",
       "                [12.9778852, 77.59267308050954],\n",
       "                {}\n",
       "            ).addTo(map_d0a5d0e3f13fc654cac50ac8d91d658d);\n",
       "        \n",
       "    \n",
       "        var popup_4a8b0dbf72d2f24a7b31915a40c4613a = L.popup({&quot;maxWidth&quot;: &quot;100%&quot;});\n",
       "\n",
       "        \n",
       "            \n",
       "                var html_b8f6cc2435895d348df16112774da6d0 = $(`&lt;div id=&quot;html_b8f6cc2435895d348df16112774da6d0&quot; style=&quot;width: 100.0%; height: 100.0%;&quot;&gt; Karnataka High Court // Score : 0.0801292407108239 &lt;/div&gt;`)[0];\n",
       "                popup_4a8b0dbf72d2f24a7b31915a40c4613a.setContent(html_b8f6cc2435895d348df16112774da6d0);\n",
       "            \n",
       "        \n",
       "\n",
       "        marker_40c3673491de2407f7f14f469f811158.bindPopup(popup_4a8b0dbf72d2f24a7b31915a40c4613a)\n",
       "        ;\n",
       "\n",
       "        \n",
       "    \n",
       "    \n",
       "            var marker_da237c1629b5534aaba6a2b6e2f5f356 = L.marker(\n",
       "                [13.0086735, 77.5428733],\n",
       "                {}\n",
       "            ).addTo(map_d0a5d0e3f13fc654cac50ac8d91d658d);\n",
       "        \n",
       "    \n",
       "        var popup_1b36e508104e2d003bbb789face9e37e = L.popup({&quot;maxWidth&quot;: &quot;100%&quot;});\n",
       "\n",
       "        \n",
       "            \n",
       "                var html_6ad4369f55473d4067faa987baa7082d = $(`&lt;div id=&quot;html_6ad4369f55473d4067faa987baa7082d&quot; style=&quot;width: 100.0%; height: 100.0%;&quot;&gt; Panchamukhi Ganesha Temple // Score : 0.020355411954765753 &lt;/div&gt;`)[0];\n",
       "                popup_1b36e508104e2d003bbb789face9e37e.setContent(html_6ad4369f55473d4067faa987baa7082d);\n",
       "            \n",
       "        \n",
       "\n",
       "        marker_da237c1629b5534aaba6a2b6e2f5f356.bindPopup(popup_1b36e508104e2d003bbb789face9e37e)\n",
       "        ;\n",
       "\n",
       "        \n",
       "    \n",
       "    \n",
       "            var marker_f8b7d605d474e596114889d0f11a8041 = L.marker(\n",
       "                [13.196697, 77.70758655918868],\n",
       "                {}\n",
       "            ).addTo(map_d0a5d0e3f13fc654cac50ac8d91d658d);\n",
       "        \n",
       "    \n",
       "        var popup_5b51717df01a933b3a45708a8c3cc4bd = L.popup({&quot;maxWidth&quot;: &quot;100%&quot;});\n",
       "\n",
       "        \n",
       "            \n",
       "                var html_99bdb48d3f6024869af5f8a778b29a0f = $(`&lt;div id=&quot;html_99bdb48d3f6024869af5f8a778b29a0f&quot; style=&quot;width: 100.0%; height: 100.0%;&quot;&gt; Kempegowda International Airport Bengaluru // Score : 0.05105008077544426 &lt;/div&gt;`)[0];\n",
       "                popup_5b51717df01a933b3a45708a8c3cc4bd.setContent(html_99bdb48d3f6024869af5f8a778b29a0f);\n",
       "            \n",
       "        \n",
       "\n",
       "        marker_f8b7d605d474e596114889d0f11a8041.bindPopup(popup_5b51717df01a933b3a45708a8c3cc4bd)\n",
       "        ;\n",
       "\n",
       "        \n",
       "    \n",
       "    \n",
       "            var marker_6a02efd200c8d6bf73c5c8beb4c72af7 = L.marker(\n",
       "                [12.9432335, 77.5700564],\n",
       "                {}\n",
       "            ).addTo(map_d0a5d0e3f13fc654cac50ac8d91d658d);\n",
       "        \n",
       "    \n",
       "        var popup_4da7474c13c345f9ebb15c7b04ac33e2 = L.popup({&quot;maxWidth&quot;: &quot;100%&quot;});\n",
       "\n",
       "        \n",
       "            \n",
       "                var html_cc4300866714679cd7b134408552844c = $(`&lt;div id=&quot;html_cc4300866714679cd7b134408552844c&quot; style=&quot;width: 100.0%; height: 100.0%;&quot;&gt; Bugle Rock // Score : 0.04717285945072698 &lt;/div&gt;`)[0];\n",
       "                popup_4da7474c13c345f9ebb15c7b04ac33e2.setContent(html_cc4300866714679cd7b134408552844c);\n",
       "            \n",
       "        \n",
       "\n",
       "        marker_6a02efd200c8d6bf73c5c8beb4c72af7.bindPopup(popup_4da7474c13c345f9ebb15c7b04ac33e2)\n",
       "        ;\n",
       "\n",
       "        \n",
       "    \n",
       "    \n",
       "            var marker_3c9435819efb218ec095d864bbec0db2 = L.marker(\n",
       "                [12.9078462, 77.60113103400322],\n",
       "                {}\n",
       "            ).addTo(map_d0a5d0e3f13fc654cac50ac8d91d658d);\n",
       "        \n",
       "    \n",
       "        var popup_9cf61f36ae494c2626492a1148f64888 = L.popup({&quot;maxWidth&quot;: &quot;100%&quot;});\n",
       "\n",
       "        \n",
       "            \n",
       "                var html_e942168bf1612d2c86d5baa9ef49d2ef = $(`&lt;div id=&quot;html_e942168bf1612d2c86d5baa9ef49d2ef&quot; style=&quot;width: 100.0%; height: 100.0%;&quot;&gt; Vega City Mall // Score : 0.0420032310177706 &lt;/div&gt;`)[0];\n",
       "                popup_9cf61f36ae494c2626492a1148f64888.setContent(html_e942168bf1612d2c86d5baa9ef49d2ef);\n",
       "            \n",
       "        \n",
       "\n",
       "        marker_3c9435819efb218ec095d864bbec0db2.bindPopup(popup_9cf61f36ae494c2626492a1148f64888)\n",
       "        ;\n",
       "\n",
       "        \n",
       "    \n",
       "    \n",
       "            var marker_888b0dd92311c20b7832761ea04678c4 = L.marker(\n",
       "                [12.87025045, 77.54264976586106],\n",
       "                {}\n",
       "            ).addTo(map_d0a5d0e3f13fc654cac50ac8d91d658d);\n",
       "        \n",
       "    \n",
       "        var popup_6221aeb693ad63ed2800f14631a9532a = L.popup({&quot;maxWidth&quot;: &quot;100%&quot;});\n",
       "\n",
       "        \n",
       "            \n",
       "                var html_6026a72a6c45628248bfe3545928cdd0 = $(`&lt;div id=&quot;html_6026a72a6c45628248bfe3545928cdd0&quot; style=&quot;width: 100.0%; height: 100.0%;&quot;&gt; Venkateshwara Temple // Score : 0.020355411954765753 &lt;/div&gt;`)[0];\n",
       "                popup_6221aeb693ad63ed2800f14631a9532a.setContent(html_6026a72a6c45628248bfe3545928cdd0);\n",
       "            \n",
       "        \n",
       "\n",
       "        marker_888b0dd92311c20b7832761ea04678c4.bindPopup(popup_6221aeb693ad63ed2800f14631a9532a)\n",
       "        ;\n",
       "\n",
       "        \n",
       "    \n",
       "    \n",
       "            var marker_3023e640c2fce092a9f08e3815881548 = L.marker(\n",
       "                [13.04720245, 77.5867146856506],\n",
       "                {}\n",
       "            ).addTo(map_d0a5d0e3f13fc654cac50ac8d91d658d);\n",
       "        \n",
       "    \n",
       "        var popup_727b7d0a3268caa428b86f4ce5967339 = L.popup({&quot;maxWidth&quot;: &quot;100%&quot;});\n",
       "\n",
       "        \n",
       "            \n",
       "                var html_ff58e9d00603ccde8eae97129a3c7d0d = $(`&lt;div id=&quot;html_ff58e9d00603ccde8eae97129a3c7d0d&quot; style=&quot;width: 100.0%; height: 100.0%;&quot;&gt; Hebbal lake // Score : 0.031663974151857836 &lt;/div&gt;`)[0];\n",
       "                popup_727b7d0a3268caa428b86f4ce5967339.setContent(html_ff58e9d00603ccde8eae97129a3c7d0d);\n",
       "            \n",
       "        \n",
       "\n",
       "        marker_3023e640c2fce092a9f08e3815881548.bindPopup(popup_727b7d0a3268caa428b86f4ce5967339)\n",
       "        ;\n",
       "\n",
       "        \n",
       "    \n",
       "    \n",
       "            var marker_99ba6263259d39307c14330f6bdd37c3 = L.marker(\n",
       "                [12.96934365, 77.59266203936946],\n",
       "                {}\n",
       "            ).addTo(map_d0a5d0e3f13fc654cac50ac8d91d658d);\n",
       "        \n",
       "    \n",
       "        var popup_e45a1d041d659879ee24fd1f8d4c6f0a = L.popup({&quot;maxWidth&quot;: &quot;100%&quot;});\n",
       "\n",
       "        \n",
       "            \n",
       "                var html_2a91be267e58d91baa72d05d39a13f04 = $(`&lt;div id=&quot;html_2a91be267e58d91baa72d05d39a13f04&quot; style=&quot;width: 100.0%; height: 100.0%;&quot;&gt; Sree Kanteerava Stadium // Score : 0.03231017770597738 &lt;/div&gt;`)[0];\n",
       "                popup_e45a1d041d659879ee24fd1f8d4c6f0a.setContent(html_2a91be267e58d91baa72d05d39a13f04);\n",
       "            \n",
       "        \n",
       "\n",
       "        marker_99ba6263259d39307c14330f6bdd37c3.bindPopup(popup_e45a1d041d659879ee24fd1f8d4c6f0a)\n",
       "        ;\n",
       "\n",
       "        \n",
       "    \n",
       "    \n",
       "            var marker_cfa7f4d5961fea5aaaf11ab48c233706 = L.marker(\n",
       "                [12.99295915, 77.66188450418971],\n",
       "                {}\n",
       "            ).addTo(map_d0a5d0e3f13fc654cac50ac8d91d658d);\n",
       "        \n",
       "    \n",
       "        var popup_86ae21350e2e8ad1249a40e07b77ed36 = L.popup({&quot;maxWidth&quot;: &quot;100%&quot;});\n",
       "\n",
       "        \n",
       "            \n",
       "                var html_a5a2e706b36d5a6195460e89eb92a920 = $(`&lt;div id=&quot;html_a5a2e706b36d5a6195460e89eb92a920&quot; style=&quot;width: 100.0%; height: 100.0%;&quot;&gt; Gopalan Signature Mall // Score : 0.048061389337641355 &lt;/div&gt;`)[0];\n",
       "                popup_86ae21350e2e8ad1249a40e07b77ed36.setContent(html_a5a2e706b36d5a6195460e89eb92a920);\n",
       "            \n",
       "        \n",
       "\n",
       "        marker_cfa7f4d5961fea5aaaf11ab48c233706.bindPopup(popup_86ae21350e2e8ad1249a40e07b77ed36)\n",
       "        ;\n",
       "\n",
       "        \n",
       "    \n",
       "    \n",
       "            var marker_629c68ebe8ec20c661f20c98023afc25 = L.marker(\n",
       "                [12.9069355, 77.61352381609713],\n",
       "                {}\n",
       "            ).addTo(map_d0a5d0e3f13fc654cac50ac8d91d658d);\n",
       "        \n",
       "    \n",
       "        var popup_5b64ffe4561fbb797ce687d90f354261 = L.popup({&quot;maxWidth&quot;: &quot;100%&quot;});\n",
       "\n",
       "        \n",
       "            \n",
       "                var html_b412496da1cb1df5269adbeb81d0f6ff = $(`&lt;div id=&quot;html_b412496da1cb1df5269adbeb81d0f6ff&quot; style=&quot;width: 100.0%; height: 100.0%;&quot;&gt; Madiwala Lake // Score : 0.03731825525040388 &lt;/div&gt;`)[0];\n",
       "                popup_5b64ffe4561fbb797ce687d90f354261.setContent(html_b412496da1cb1df5269adbeb81d0f6ff);\n",
       "            \n",
       "        \n",
       "\n",
       "        marker_629c68ebe8ec20c661f20c98023afc25.bindPopup(popup_5b64ffe4561fbb797ce687d90f354261)\n",
       "        ;\n",
       "\n",
       "        \n",
       "    \n",
       "    \n",
       "            var marker_ed6de273651add6eabcae3de63150798 = L.marker(\n",
       "                [12.9775068, 77.5707681],\n",
       "                {}\n",
       "            ).addTo(map_d0a5d0e3f13fc654cac50ac8d91d658d);\n",
       "        \n",
       "    \n",
       "        var popup_d813dad368fc2a8c3d062fe0c6753edb = L.popup({&quot;maxWidth&quot;: &quot;100%&quot;});\n",
       "\n",
       "        \n",
       "            \n",
       "                var html_422dfda4191c1614e83f4528f8f70406 = $(`&lt;div id=&quot;html_422dfda4191c1614e83f4528f8f70406&quot; style=&quot;width: 100.0%; height: 100.0%;&quot;&gt; Bengaluru City Railway Station // Score : 0.02778675282714055 &lt;/div&gt;`)[0];\n",
       "                popup_d813dad368fc2a8c3d062fe0c6753edb.setContent(html_422dfda4191c1614e83f4528f8f70406);\n",
       "            \n",
       "        \n",
       "\n",
       "        marker_ed6de273651add6eabcae3de63150798.bindPopup(popup_d813dad368fc2a8c3d062fe0c6753edb)\n",
       "        ;\n",
       "\n",
       "        \n",
       "    \n",
       "    \n",
       "            var marker_86dd9cfb2c1195da9ff34ed7a898f8d8 = L.marker(\n",
       "                [12.88274975, 77.52557178039638],\n",
       "                {}\n",
       "            ).addTo(map_d0a5d0e3f13fc654cac50ac8d91d658d);\n",
       "        \n",
       "    \n",
       "        var popup_85b2d5d7165f6afa6bb49acaaac7894d = L.popup({&quot;maxWidth&quot;: &quot;100%&quot;});\n",
       "\n",
       "        \n",
       "            \n",
       "                var html_f4a974263c027413d586779ec596f0a3 = $(`&lt;div id=&quot;html_f4a974263c027413d586779ec596f0a3&quot; style=&quot;width: 100.0%; height: 100.0%;&quot;&gt; Turahalli Forest // Score : 0.029725363489499192 &lt;/div&gt;`)[0];\n",
       "                popup_85b2d5d7165f6afa6bb49acaaac7894d.setContent(html_f4a974263c027413d586779ec596f0a3);\n",
       "            \n",
       "        \n",
       "\n",
       "        marker_86dd9cfb2c1195da9ff34ed7a898f8d8.bindPopup(popup_85b2d5d7165f6afa6bb49acaaac7894d)\n",
       "        ;\n",
       "\n",
       "        \n",
       "    \n",
       "    \n",
       "            var marker_46895c21a0398c5272205832376763c0 = L.marker(\n",
       "                [12.98547805, 77.59069929833458],\n",
       "                {}\n",
       "            ).addTo(map_d0a5d0e3f13fc654cac50ac8d91d658d);\n",
       "        \n",
       "    \n",
       "        var popup_c6c21f96481ebd48e7fa00794404fafe = L.popup({&quot;maxWidth&quot;: &quot;100%&quot;});\n",
       "\n",
       "        \n",
       "            \n",
       "                var html_57cd04b9832e8284bed53b156bf356a3 = $(`&lt;div id=&quot;html_57cd04b9832e8284bed53b156bf356a3&quot; style=&quot;width: 100.0%; height: 100.0%;&quot;&gt; National Military Memorial // Score : 0.014862681744749596 &lt;/div&gt;`)[0];\n",
       "                popup_c6c21f96481ebd48e7fa00794404fafe.setContent(html_57cd04b9832e8284bed53b156bf356a3);\n",
       "            \n",
       "        \n",
       "\n",
       "        marker_46895c21a0398c5272205832376763c0.bindPopup(popup_c6c21f96481ebd48e7fa00794404fafe)\n",
       "        ;\n",
       "\n",
       "        \n",
       "    \n",
       "    \n",
       "            var marker_f1ef56f894fe5465bd0bada2c163fd63 = L.marker(\n",
       "                [12.93566795, 77.5176769193037],\n",
       "                {}\n",
       "            ).addTo(map_d0a5d0e3f13fc654cac50ac8d91d658d);\n",
       "        \n",
       "    \n",
       "        var popup_c6dd7220ccff2560fdcf881b36d83f06 = L.popup({&quot;maxWidth&quot;: &quot;100%&quot;});\n",
       "\n",
       "        \n",
       "            \n",
       "                var html_71c7dd103746ee616a3929b2c9a072b7 = $(`&lt;div id=&quot;html_71c7dd103746ee616a3929b2c9a072b7&quot; style=&quot;width: 100.0%; height: 100.0%;&quot;&gt; Gopalan Arcade Mall // Score : 0.023263327948303717 &lt;/div&gt;`)[0];\n",
       "                popup_c6dd7220ccff2560fdcf881b36d83f06.setContent(html_71c7dd103746ee616a3929b2c9a072b7);\n",
       "            \n",
       "        \n",
       "\n",
       "        marker_f1ef56f894fe5465bd0bada2c163fd63.bindPopup(popup_c6dd7220ccff2560fdcf881b36d83f06)\n",
       "        ;\n",
       "\n",
       "        \n",
       "    \n",
       "    \n",
       "            var marker_eca8b023d9fcbdf09712d3e3c8f55ede = L.marker(\n",
       "                [12.9680027, 77.578642],\n",
       "                {}\n",
       "            ).addTo(map_d0a5d0e3f13fc654cac50ac8d91d658d);\n",
       "        \n",
       "    \n",
       "        var popup_0d1c2d89cc45abf8de4ed0a60251dfb0 = L.popup({&quot;maxWidth&quot;: &quot;100%&quot;});\n",
       "\n",
       "        \n",
       "            \n",
       "                var html_9b83af2d2f7a665218eb5585f4bbe8ac = $(`&lt;div id=&quot;html_9b83af2d2f7a665218eb5585f4bbe8ac&quot; style=&quot;width: 100.0%; height: 100.0%;&quot;&gt; Chickpet // Score : 0.005088852988691438 &lt;/div&gt;`)[0];\n",
       "                popup_0d1c2d89cc45abf8de4ed0a60251dfb0.setContent(html_9b83af2d2f7a665218eb5585f4bbe8ac);\n",
       "            \n",
       "        \n",
       "\n",
       "        marker_eca8b023d9fcbdf09712d3e3c8f55ede.bindPopup(popup_0d1c2d89cc45abf8de4ed0a60251dfb0)\n",
       "        ;\n",
       "\n",
       "        \n",
       "    \n",
       "    \n",
       "            var marker_fe833846c652a2b463f018a25bb12a69 = L.marker(\n",
       "                [12.91434585, 77.59948537492562],\n",
       "                {}\n",
       "            ).addTo(map_d0a5d0e3f13fc654cac50ac8d91d658d);\n",
       "        \n",
       "    \n",
       "        var popup_8a3c0696ca1ff7693b630ee86e5f69cb = L.popup({&quot;maxWidth&quot;: &quot;100%&quot;});\n",
       "\n",
       "        \n",
       "            \n",
       "                var html_fe836a159f4dd376cdb4b9f4ba48ff0e = $(`&lt;div id=&quot;html_fe836a159f4dd376cdb4b9f4ba48ff0e&quot; style=&quot;width: 100.0%; height: 100.0%;&quot;&gt; Gopalan Innovation Mall // Score : 0.033925686591276254 &lt;/div&gt;`)[0];\n",
       "                popup_8a3c0696ca1ff7693b630ee86e5f69cb.setContent(html_fe836a159f4dd376cdb4b9f4ba48ff0e);\n",
       "            \n",
       "        \n",
       "\n",
       "        marker_fe833846c652a2b463f018a25bb12a69.bindPopup(popup_8a3c0696ca1ff7693b630ee86e5f69cb)\n",
       "        ;\n",
       "\n",
       "        \n",
       "    \n",
       "    \n",
       "            var marker_c2718be36f6068293b0c23cedb6a44a9 = L.marker(\n",
       "                [12.92032285, 77.64198486791642],\n",
       "                {}\n",
       "            ).addTo(map_d0a5d0e3f13fc654cac50ac8d91d658d);\n",
       "        \n",
       "    \n",
       "        var popup_a2610268afe3425d9b6099b2f61efc99 = L.popup({&quot;maxWidth&quot;: &quot;100%&quot;});\n",
       "\n",
       "        \n",
       "            \n",
       "                var html_262ec443e6a755515abc581ca1c57157 = $(`&lt;div id=&quot;html_262ec443e6a755515abc581ca1c57157&quot; style=&quot;width: 100.0%; height: 100.0%;&quot;&gt; Agara Lake // Score : 0.027140549273021 &lt;/div&gt;`)[0];\n",
       "                popup_a2610268afe3425d9b6099b2f61efc99.setContent(html_262ec443e6a755515abc581ca1c57157);\n",
       "            \n",
       "        \n",
       "\n",
       "        marker_c2718be36f6068293b0c23cedb6a44a9.bindPopup(popup_a2610268afe3425d9b6099b2f61efc99)\n",
       "        ;\n",
       "\n",
       "        \n",
       "    \n",
       "    \n",
       "            var marker_fd0faec4831d9ba3295dc112ad15f1f6 = L.marker(\n",
       "                [12.9735441, 77.55172911895806],\n",
       "                {}\n",
       "            ).addTo(map_d0a5d0e3f13fc654cac50ac8d91d658d);\n",
       "        \n",
       "    \n",
       "        var popup_174e4d4f5cff14ff2a6815e8a1599cfb = L.popup({&quot;maxWidth&quot;: &quot;100%&quot;});\n",
       "\n",
       "        \n",
       "            \n",
       "                var html_d0fe4687dabb16ffe51e63c799b6b708 = $(`&lt;div id=&quot;html_d0fe4687dabb16ffe51e63c799b6b708&quot; style=&quot;width: 100.0%; height: 100.0%;&quot;&gt; GT World Mall // Score : 0.014862681744749596 &lt;/div&gt;`)[0];\n",
       "                popup_174e4d4f5cff14ff2a6815e8a1599cfb.setContent(html_d0fe4687dabb16ffe51e63c799b6b708);\n",
       "            \n",
       "        \n",
       "\n",
       "        marker_fd0faec4831d9ba3295dc112ad15f1f6.bindPopup(popup_174e4d4f5cff14ff2a6815e8a1599cfb)\n",
       "        ;\n",
       "\n",
       "        \n",
       "    \n",
       "    \n",
       "            var marker_f2e9c33332d78dd6626397f4c5860d33 = L.marker(\n",
       "                [12.9762533, 77.60396158863233],\n",
       "                {}\n",
       "            ).addTo(map_d0a5d0e3f13fc654cac50ac8d91d658d);\n",
       "        \n",
       "    \n",
       "        var popup_a3fd5cbe4c15ac820f79e8a4a0326dc1 = L.popup({&quot;maxWidth&quot;: &quot;100%&quot;});\n",
       "\n",
       "        \n",
       "            \n",
       "                var html_a134f9106773da83b423423e563655b4 = $(`&lt;div id=&quot;html_a134f9106773da83b423423e563655b4&quot; style=&quot;width: 100.0%; height: 100.0%;&quot;&gt; Rangoli Metro Art Center // Score : 0.015266558966074314 &lt;/div&gt;`)[0];\n",
       "                popup_a3fd5cbe4c15ac820f79e8a4a0326dc1.setContent(html_a134f9106773da83b423423e563655b4);\n",
       "            \n",
       "        \n",
       "\n",
       "        marker_f2e9c33332d78dd6626397f4c5860d33.bindPopup(popup_a3fd5cbe4c15ac820f79e8a4a0326dc1)\n",
       "        ;\n",
       "\n",
       "        \n",
       "    \n",
       "    \n",
       "            var marker_69706da5d1a29d6f734e7be72604f6f7 = L.marker(\n",
       "                [13.509514, 77.6581051],\n",
       "                {}\n",
       "            ).addTo(map_d0a5d0e3f13fc654cac50ac8d91d658d);\n",
       "        \n",
       "    \n",
       "        var popup_2e43e37aacab14013b3b88cdd1acb80a = L.popup({&quot;maxWidth&quot;: &quot;100%&quot;});\n",
       "\n",
       "        \n",
       "            \n",
       "                var html_1ce4c2f0614f902db22a766530c2e537 = $(`&lt;div id=&quot;html_1ce4c2f0614f902db22a766530c2e537&quot; style=&quot;width: 100.0%; height: 100.0%;&quot;&gt; Dandiganahalli Dam // Score : 0.009046849757673668 &lt;/div&gt;`)[0];\n",
       "                popup_2e43e37aacab14013b3b88cdd1acb80a.setContent(html_1ce4c2f0614f902db22a766530c2e537);\n",
       "            \n",
       "        \n",
       "\n",
       "        marker_69706da5d1a29d6f734e7be72604f6f7.bindPopup(popup_2e43e37aacab14013b3b88cdd1acb80a)\n",
       "        ;\n",
       "\n",
       "        \n",
       "    \n",
       "    \n",
       "            var marker_69a156ca4bbc420d4dc52ca69f150ded = L.marker(\n",
       "                [12.9869854, 77.73641545042327],\n",
       "                {}\n",
       "            ).addTo(map_d0a5d0e3f13fc654cac50ac8d91d658d);\n",
       "        \n",
       "    \n",
       "        var popup_82391365ac3d0d8dfc1f6731e0b39770 = L.popup({&quot;maxWidth&quot;: &quot;100%&quot;});\n",
       "\n",
       "        \n",
       "            \n",
       "                var html_251e3331c19eb3f96bfe76216e799586 = $(`&lt;div id=&quot;html_251e3331c19eb3f96bfe76216e799586&quot; style=&quot;width: 100.0%; height: 100.0%;&quot;&gt; Park Square Mall // Score : 0.020920840064620357 &lt;/div&gt;`)[0];\n",
       "                popup_82391365ac3d0d8dfc1f6731e0b39770.setContent(html_251e3331c19eb3f96bfe76216e799586);\n",
       "            \n",
       "        \n",
       "\n",
       "        marker_69a156ca4bbc420d4dc52ca69f150ded.bindPopup(popup_82391365ac3d0d8dfc1f6731e0b39770)\n",
       "        ;\n",
       "\n",
       "        \n",
       "    \n",
       "    \n",
       "            var marker_0d849292c8d0a87e2aabc30b185118b6 = L.marker(\n",
       "                [12.9667975, 77.64824138028952],\n",
       "                {}\n",
       "            ).addTo(map_d0a5d0e3f13fc654cac50ac8d91d658d);\n",
       "        \n",
       "    \n",
       "        var popup_6fff23082a9bfa61e6f500ed87baac3b = L.popup({&quot;maxWidth&quot;: &quot;100%&quot;});\n",
       "\n",
       "        \n",
       "            \n",
       "                var html_dbb5922dc36b67a8c0eb543963b73705 = $(`&lt;div id=&quot;html_dbb5922dc36b67a8c0eb543963b73705&quot; style=&quot;width: 100.0%; height: 100.0%;&quot;&gt; Lahe Lahe // Score : 0.00888529886914378 &lt;/div&gt;`)[0];\n",
       "                popup_6fff23082a9bfa61e6f500ed87baac3b.setContent(html_dbb5922dc36b67a8c0eb543963b73705);\n",
       "            \n",
       "        \n",
       "\n",
       "        marker_0d849292c8d0a87e2aabc30b185118b6.bindPopup(popup_6fff23082a9bfa61e6f500ed87baac3b)\n",
       "        ;\n",
       "\n",
       "        \n",
       "    \n",
       "    \n",
       "            var marker_56dd2cfb6320b00664bfa602a1a2071f = L.marker(\n",
       "                [13.247256, 77.2173214],\n",
       "                {}\n",
       "            ).addTo(map_d0a5d0e3f13fc654cac50ac8d91d658d);\n",
       "        \n",
       "    \n",
       "        var popup_a99a7d720f25ecc5ed8cd0c7b8dfaf37 = L.popup({&quot;maxWidth&quot;: &quot;100%&quot;});\n",
       "\n",
       "        \n",
       "            \n",
       "                var html_9f1bf49bb41742014ecddccfc214057f = $(`&lt;div id=&quot;html_9f1bf49bb41742014ecddccfc214057f&quot; style=&quot;width: 100.0%; height: 100.0%;&quot;&gt; Nijagal Betta // Score : 0.009046849757673668 &lt;/div&gt;`)[0];\n",
       "                popup_a99a7d720f25ecc5ed8cd0c7b8dfaf37.setContent(html_9f1bf49bb41742014ecddccfc214057f);\n",
       "            \n",
       "        \n",
       "\n",
       "        marker_56dd2cfb6320b00664bfa602a1a2071f.bindPopup(popup_a99a7d720f25ecc5ed8cd0c7b8dfaf37)\n",
       "        ;\n",
       "\n",
       "        \n",
       "    \n",
       "    \n",
       "            var marker_a9ab39c337373cfb91239b785a9c8d47 = L.marker(\n",
       "                [13.0138227, 77.54835439968363],\n",
       "                {}\n",
       "            ).addTo(map_d0a5d0e3f13fc654cac50ac8d91d658d);\n",
       "        \n",
       "    \n",
       "        var popup_0591b2a007db38e9a83ac563d7b7c85a = L.popup({&quot;maxWidth&quot;: &quot;100%&quot;});\n",
       "\n",
       "        \n",
       "            \n",
       "                var html_ddbddb065c301153fdf0715af9b0015d = $(`&lt;div id=&quot;html_ddbddb065c301153fdf0715af9b0015d&quot; style=&quot;width: 100.0%; height: 100.0%;&quot;&gt; Bangalore Creative Circus // Score : 0.005654281098546043 &lt;/div&gt;`)[0];\n",
       "                popup_0591b2a007db38e9a83ac563d7b7c85a.setContent(html_ddbddb065c301153fdf0715af9b0015d);\n",
       "            \n",
       "        \n",
       "\n",
       "        marker_a9ab39c337373cfb91239b785a9c8d47.bindPopup(popup_0591b2a007db38e9a83ac563d7b7c85a)\n",
       "        ;\n",
       "\n",
       "        \n",
       "    \n",
       "    \n",
       "            var marker_3c42603ec69e6c62d1d14e6af6a3d19c = L.marker(\n",
       "                [12.96552105, 77.58318671179347],\n",
       "                {}\n",
       "            ).addTo(map_d0a5d0e3f13fc654cac50ac8d91d658d);\n",
       "        \n",
       "    \n",
       "        var popup_a36ef42a83351fd4d2be18910f1a2d93 = L.popup({&quot;maxWidth&quot;: &quot;100%&quot;});\n",
       "\n",
       "        \n",
       "            \n",
       "                var html_426f65b73c7a80b062a88007a5f11699 = $(`&lt;div id=&quot;html_426f65b73c7a80b062a88007a5f11699&quot; style=&quot;width: 100.0%; height: 100.0%;&quot;&gt; Dharmaraya Swamy Temple // Score : 0.01680129240710824 &lt;/div&gt;`)[0];\n",
       "                popup_a36ef42a83351fd4d2be18910f1a2d93.setContent(html_426f65b73c7a80b062a88007a5f11699);\n",
       "            \n",
       "        \n",
       "\n",
       "        marker_3c42603ec69e6c62d1d14e6af6a3d19c.bindPopup(popup_a36ef42a83351fd4d2be18910f1a2d93)\n",
       "        ;\n",
       "\n",
       "        \n",
       "    \n",
       "    \n",
       "            var marker_3f18228de7cd250a3c9b1f1d65ed2591 = L.marker(\n",
       "                [12.96517505, 77.70840355957928],\n",
       "                {}\n",
       "            ).addTo(map_d0a5d0e3f13fc654cac50ac8d91d658d);\n",
       "        \n",
       "    \n",
       "        var popup_1e8ef98ce35b2df3723640e550bf7970 = L.popup({&quot;maxWidth&quot;: &quot;100%&quot;});\n",
       "\n",
       "        \n",
       "            \n",
       "                var html_d6d116932522ae34e9984ca758aa9f09 = $(`&lt;div id=&quot;html_d6d116932522ae34e9984ca758aa9f09&quot; style=&quot;width: 100.0%; height: 100.0%;&quot;&gt; Chinnappanahalli Lake Park // Score : 0.009046849757673668 &lt;/div&gt;`)[0];\n",
       "                popup_1e8ef98ce35b2df3723640e550bf7970.setContent(html_d6d116932522ae34e9984ca758aa9f09);\n",
       "            \n",
       "        \n",
       "\n",
       "        marker_3f18228de7cd250a3c9b1f1d65ed2591.bindPopup(popup_1e8ef98ce35b2df3723640e550bf7970)\n",
       "        ;\n",
       "\n",
       "        \n",
       "    \n",
       "    \n",
       "            var marker_5b5efe2d30c3dc830d02833b4862a767 = L.marker(\n",
       "                [13.56173, 78.3236633],\n",
       "                {}\n",
       "            ).addTo(map_d0a5d0e3f13fc654cac50ac8d91d658d);\n",
       "        \n",
       "    \n",
       "        var popup_443b76137cccda2eefb2cabeeb2855b7 = L.popup({&quot;maxWidth&quot;: &quot;100%&quot;});\n",
       "\n",
       "        \n",
       "            \n",
       "                var html_a8e41a3d93da6562354b3abb75f6f54d = $(`&lt;div id=&quot;html_a8e41a3d93da6562354b3abb75f6f54d&quot; style=&quot;width: 100.0%; height: 100.0%;&quot;&gt; Gangamma Devi Temple // Score : 0.008723747980613893 &lt;/div&gt;`)[0];\n",
       "                popup_443b76137cccda2eefb2cabeeb2855b7.setContent(html_a8e41a3d93da6562354b3abb75f6f54d);\n",
       "            \n",
       "        \n",
       "\n",
       "        marker_5b5efe2d30c3dc830d02833b4862a767.bindPopup(popup_443b76137cccda2eefb2cabeeb2855b7)\n",
       "        ;\n",
       "\n",
       "        \n",
       "    \n",
       "    \n",
       "            var marker_0c0335dad1853e6a8bc31a84c16ed549 = L.marker(\n",
       "                [12.9717578, 77.6179225],\n",
       "                {}\n",
       "            ).addTo(map_d0a5d0e3f13fc654cac50ac8d91d658d);\n",
       "        \n",
       "    \n",
       "        var popup_cee95414b04e18e997cceacfcf686076 = L.popup({&quot;maxWidth&quot;: &quot;100%&quot;});\n",
       "\n",
       "        \n",
       "            \n",
       "                var html_78d961201b1fcfa52f8da458f5d6aacc = $(`&lt;div id=&quot;html_78d961201b1fcfa52f8da458f5d6aacc&quot; style=&quot;width: 100.0%; height: 100.0%;&quot;&gt; Indian Cartoon Gallery // Score : 0.004523424878836834 &lt;/div&gt;`)[0];\n",
       "                popup_cee95414b04e18e997cceacfcf686076.setContent(html_78d961201b1fcfa52f8da458f5d6aacc);\n",
       "            \n",
       "        \n",
       "\n",
       "        marker_0c0335dad1853e6a8bc31a84c16ed549.bindPopup(popup_cee95414b04e18e997cceacfcf686076)\n",
       "        ;\n",
       "\n",
       "        \n",
       "    \n",
       "    \n",
       "            var marker_7849fb67fafaf56fcdf4723fa38122b8 = L.marker(\n",
       "                [12.4250788, 76.67929497005707],\n",
       "                {}\n",
       "            ).addTo(map_d0a5d0e3f13fc654cac50ac8d91d658d);\n",
       "        \n",
       "    \n",
       "        var popup_aae088c2efec20b4a86fec24134054e2 = L.popup({&quot;maxWidth&quot;: &quot;100%&quot;});\n",
       "\n",
       "        \n",
       "            \n",
       "                var html_1dc1ffdc62fd9a17bd3c7b975b84bab1 = $(`&lt;div id=&quot;html_1dc1ffdc62fd9a17bd3c7b975b84bab1&quot; style=&quot;width: 100.0%; height: 100.0%;&quot;&gt; Sri Ranganatha Swamy Temple // Score : 0.00654281098546042 &lt;/div&gt;`)[0];\n",
       "                popup_aae088c2efec20b4a86fec24134054e2.setContent(html_1dc1ffdc62fd9a17bd3c7b975b84bab1);\n",
       "            \n",
       "        \n",
       "\n",
       "        marker_7849fb67fafaf56fcdf4723fa38122b8.bindPopup(popup_aae088c2efec20b4a86fec24134054e2)\n",
       "        ;\n",
       "\n",
       "        \n",
       "    \n",
       "    \n",
       "            var marker_7e952bfffb4054aab4eb06e2b2ab5059 = L.marker(\n",
       "                [13.0129494, 76.09929244663702],\n",
       "                {}\n",
       "            ).addTo(map_d0a5d0e3f13fc654cac50ac8d91d658d);\n",
       "        \n",
       "    \n",
       "        var popup_d172b6f59855533af01f7a4a9b764e2c = L.popup({&quot;maxWidth&quot;: &quot;100%&quot;});\n",
       "\n",
       "        \n",
       "            \n",
       "                var html_4dc2a43ccab1d222a3f5e30fa9b7ffc1 = $(`&lt;div id=&quot;html_4dc2a43ccab1d222a3f5e30fa9b7ffc1&quot; style=&quot;width: 100.0%; height: 100.0%;&quot;&gt; Sri Shirdi Sai Baba Temple // Score : 0.0032310177705977385 &lt;/div&gt;`)[0];\n",
       "                popup_d172b6f59855533af01f7a4a9b764e2c.setContent(html_4dc2a43ccab1d222a3f5e30fa9b7ffc1);\n",
       "            \n",
       "        \n",
       "\n",
       "        marker_7e952bfffb4054aab4eb06e2b2ab5059.bindPopup(popup_d172b6f59855533af01f7a4a9b764e2c)\n",
       "        ;\n",
       "\n",
       "        \n",
       "    \n",
       "    \n",
       "            var marker_548697441d1f2935b8fba7151a5a869b = L.marker(\n",
       "                [12.9750849, 77.6079337],\n",
       "                {}\n",
       "            ).addTo(map_d0a5d0e3f13fc654cac50ac8d91d658d);\n",
       "        \n",
       "    \n",
       "        var popup_3182a6847f980cde7bfa761e32f636d9 = L.popup({&quot;maxWidth&quot;: &quot;100%&quot;});\n",
       "\n",
       "        \n",
       "            \n",
       "                var html_3d6622d62ab2d6f24ad2fb015824ba3c = $(`&lt;div id=&quot;html_3d6622d62ab2d6f24ad2fb015824ba3c&quot; style=&quot;width: 100.0%; height: 100.0%;&quot;&gt; Brigade Road // Score : 0.004523424878836834 &lt;/div&gt;`)[0];\n",
       "                popup_3182a6847f980cde7bfa761e32f636d9.setContent(html_3d6622d62ab2d6f24ad2fb015824ba3c);\n",
       "            \n",
       "        \n",
       "\n",
       "        marker_548697441d1f2935b8fba7151a5a869b.bindPopup(popup_3182a6847f980cde7bfa761e32f636d9)\n",
       "        ;\n",
       "\n",
       "        \n",
       "    \n",
       "    \n",
       "            var marker_af3db50eeca1e3bf4f92f3b4aad2a7c7 = L.marker(\n",
       "                [13.0937807, 77.59559605652454],\n",
       "                {}\n",
       "            ).addTo(map_d0a5d0e3f13fc654cac50ac8d91d658d);\n",
       "        \n",
       "    \n",
       "        var popup_8679e250f5ad2c0ee1fb129b1cfa98e3 = L.popup({&quot;maxWidth&quot;: &quot;100%&quot;});\n",
       "\n",
       "        \n",
       "            \n",
       "                var html_25d9bdba93924ab828ccdfc356e40592 = $(`&lt;div id=&quot;html_25d9bdba93924ab828ccdfc356e40592&quot; style=&quot;width: 100.0%; height: 100.0%;&quot;&gt; RMZ Galleria // Score : 0.007108239095315024 &lt;/div&gt;`)[0];\n",
       "                popup_8679e250f5ad2c0ee1fb129b1cfa98e3.setContent(html_25d9bdba93924ab828ccdfc356e40592);\n",
       "            \n",
       "        \n",
       "\n",
       "        marker_af3db50eeca1e3bf4f92f3b4aad2a7c7.bindPopup(popup_8679e250f5ad2c0ee1fb129b1cfa98e3)\n",
       "        ;\n",
       "\n",
       "        \n",
       "    \n",
       "    \n",
       "            var marker_351e5f3be8d8b07fb286e117e194bf6d = L.marker(\n",
       "                [13.0490746, 77.59339660252961],\n",
       "                {}\n",
       "            ).addTo(map_d0a5d0e3f13fc654cac50ac8d91d658d);\n",
       "        \n",
       "    \n",
       "        var popup_fde1cbf5476bd6bfa9658f914a25cfc6 = L.popup({&quot;maxWidth&quot;: &quot;100%&quot;});\n",
       "\n",
       "        \n",
       "            \n",
       "                var html_77ae1fc6ac20d1cbea996a16aa96477f = $(`&lt;div id=&quot;html_77ae1fc6ac20d1cbea996a16aa96477f&quot; style=&quot;width: 100.0%; height: 100.0%;&quot;&gt; Esteem Mall // Score : 0.010177705977382876 &lt;/div&gt;`)[0];\n",
       "                popup_fde1cbf5476bd6bfa9658f914a25cfc6.setContent(html_77ae1fc6ac20d1cbea996a16aa96477f);\n",
       "            \n",
       "        \n",
       "\n",
       "        marker_351e5f3be8d8b07fb286e117e194bf6d.bindPopup(popup_fde1cbf5476bd6bfa9658f914a25cfc6)\n",
       "        ;\n",
       "\n",
       "        \n",
       "    \n",
       "    \n",
       "            var marker_e0091d62ec58afbdefd79b67108652ab = L.marker(\n",
       "                [12.97641245, 77.59698654997976],\n",
       "                {}\n",
       "            ).addTo(map_d0a5d0e3f13fc654cac50ac8d91d658d);\n",
       "        \n",
       "    \n",
       "        var popup_f4fb42efa688a0452b2bd53c6d702903 = L.popup({&quot;maxWidth&quot;: &quot;100%&quot;});\n",
       "\n",
       "        \n",
       "            \n",
       "                var html_8340f6736372074d3f0bd28cbdef9bd9 = $(`&lt;div id=&quot;html_8340f6736372074d3f0bd28cbdef9bd9&quot; style=&quot;width: 100.0%; height: 100.0%;&quot;&gt; Jawahar Bal Bhavan // Score : 0.010177705977382876 &lt;/div&gt;`)[0];\n",
       "                popup_f4fb42efa688a0452b2bd53c6d702903.setContent(html_8340f6736372074d3f0bd28cbdef9bd9);\n",
       "            \n",
       "        \n",
       "\n",
       "        marker_e0091d62ec58afbdefd79b67108652ab.bindPopup(popup_f4fb42efa688a0452b2bd53c6d702903)\n",
       "        ;\n",
       "\n",
       "        \n",
       "    \n",
       "    \n",
       "            var marker_7eb7ba8aee8067a42e98486523ece389 = L.marker(\n",
       "                [13.0155149, 77.6430312],\n",
       "                {}\n",
       "            ).addTo(map_d0a5d0e3f13fc654cac50ac8d91d658d);\n",
       "        \n",
       "    \n",
       "        var popup_ad3412cc5ab32f9c1c6a19cb09c600dc = L.popup({&quot;maxWidth&quot;: &quot;100%&quot;});\n",
       "\n",
       "        \n",
       "            \n",
       "                var html_9cc7e128f821979dfae148ed14300b13 = $(`&lt;div id=&quot;html_9cc7e128f821979dfae148ed14300b13&quot; style=&quot;width: 100.0%; height: 100.0%;&quot;&gt; Om Shakthi Temple // Score : 0.0077544426494345715 &lt;/div&gt;`)[0];\n",
       "                popup_ad3412cc5ab32f9c1c6a19cb09c600dc.setContent(html_9cc7e128f821979dfae148ed14300b13);\n",
       "            \n",
       "        \n",
       "\n",
       "        marker_7eb7ba8aee8067a42e98486523ece389.bindPopup(popup_ad3412cc5ab32f9c1c6a19cb09c600dc)\n",
       "        ;\n",
       "\n",
       "        \n",
       "    \n",
       "    \n",
       "            var marker_1932d3787771747911957ad9a048b1a5 = L.marker(\n",
       "                [12.68151565, 77.58867405422633],\n",
       "                {}\n",
       "            ).addTo(map_d0a5d0e3f13fc654cac50ac8d91d658d);\n",
       "        \n",
       "    \n",
       "        var popup_ce68fb273394649dfdb8ca5a7e510710 = L.popup({&quot;maxWidth&quot;: &quot;100%&quot;});\n",
       "\n",
       "        \n",
       "            \n",
       "                var html_0be1919a6a34d5c804984412becb9f48 = $(`&lt;div id=&quot;html_0be1919a6a34d5c804984412becb9f48&quot; style=&quot;width: 100.0%; height: 100.0%;&quot;&gt; Thattekere Lake // Score : 0.007915993537964459 &lt;/div&gt;`)[0];\n",
       "                popup_ce68fb273394649dfdb8ca5a7e510710.setContent(html_0be1919a6a34d5c804984412becb9f48);\n",
       "            \n",
       "        \n",
       "\n",
       "        marker_1932d3787771747911957ad9a048b1a5.bindPopup(popup_ce68fb273394649dfdb8ca5a7e510710)\n",
       "        ;\n",
       "\n",
       "        \n",
       "    \n",
       "    \n",
       "            var marker_ada24d786bd4acef38ff0fcf5da882f5 = L.marker(\n",
       "                [13.161625, 77.49114583333333],\n",
       "                {}\n",
       "            ).addTo(map_d0a5d0e3f13fc654cac50ac8d91d658d);\n",
       "        \n",
       "    \n",
       "        var popup_2234a96fe5e8e49ef6cfc9b23385c50d = L.popup({&quot;maxWidth&quot;: &quot;100%&quot;});\n",
       "\n",
       "        \n",
       "            \n",
       "                var html_8f42e439df5fccb551a9a4dc1525ec23 = $(`&lt;div id=&quot;html_8f42e439df5fccb551a9a4dc1525ec23&quot; style=&quot;width: 100.0%; height: 100.0%;&quot;&gt; Hesaraghatta Lake // Score : 0.007915993537964459 &lt;/div&gt;`)[0];\n",
       "                popup_2234a96fe5e8e49ef6cfc9b23385c50d.setContent(html_8f42e439df5fccb551a9a4dc1525ec23);\n",
       "            \n",
       "        \n",
       "\n",
       "        marker_ada24d786bd4acef38ff0fcf5da882f5.bindPopup(popup_2234a96fe5e8e49ef6cfc9b23385c50d)\n",
       "        ;\n",
       "\n",
       "        \n",
       "    \n",
       "    \n",
       "            var marker_550d198502e150022f257eccbe013fdd = L.marker(\n",
       "                [12.9447798, 77.6191001],\n",
       "                {}\n",
       "            ).addTo(map_d0a5d0e3f13fc654cac50ac8d91d658d);\n",
       "        \n",
       "    \n",
       "        var popup_cb31d3d4c08284be90be662f395abb0d = L.popup({&quot;maxWidth&quot;: &quot;100%&quot;});\n",
       "\n",
       "        \n",
       "            \n",
       "                var html_49d9c06a610339432dc964c3f7c2f05a = $(`&lt;div id=&quot;html_49d9c06a610339432dc964c3f7c2f05a&quot; style=&quot;width: 100.0%; height: 100.0%;&quot;&gt; Sri Srinivasa Temple // Score : 0.004523424878836834 &lt;/div&gt;`)[0];\n",
       "                popup_cb31d3d4c08284be90be662f395abb0d.setContent(html_49d9c06a610339432dc964c3f7c2f05a);\n",
       "            \n",
       "        \n",
       "\n",
       "        marker_550d198502e150022f257eccbe013fdd.bindPopup(popup_cb31d3d4c08284be90be662f395abb0d)\n",
       "        ;\n",
       "\n",
       "        \n",
       "    \n",
       "    \n",
       "            var marker_f3aa462cb95e21c1f5f0502190b2b943 = L.marker(\n",
       "                [13.0607572, 77.47436462032766],\n",
       "                {}\n",
       "            ).addTo(map_d0a5d0e3f13fc654cac50ac8d91d658d);\n",
       "        \n",
       "    \n",
       "        var popup_b159c42ead495f738d5453cb5966e22a = L.popup({&quot;maxWidth&quot;: &quot;100%&quot;});\n",
       "\n",
       "        \n",
       "            \n",
       "                var html_eda4af287dc540c7ef976482a453f35a = $(`&lt;div id=&quot;html_eda4af287dc540c7ef976482a453f35a&quot; style=&quot;width: 100.0%; height: 100.0%;&quot;&gt; Bangalore International Exhibition Centre // Score : 0.006219709208400646 &lt;/div&gt;`)[0];\n",
       "                popup_b159c42ead495f738d5453cb5966e22a.setContent(html_eda4af287dc540c7ef976482a453f35a);\n",
       "            \n",
       "        \n",
       "\n",
       "        marker_f3aa462cb95e21c1f5f0502190b2b943.bindPopup(popup_b159c42ead495f738d5453cb5966e22a)\n",
       "        ;\n",
       "\n",
       "        \n",
       "    \n",
       "    \n",
       "            var marker_ca4fd049e8c20b75b8e156d9587037a6 = L.marker(\n",
       "                [12.9486033, 77.5894041],\n",
       "                {}\n",
       "            ).addTo(map_d0a5d0e3f13fc654cac50ac8d91d658d);\n",
       "        \n",
       "    \n",
       "        var popup_638f74adb223667b3442326b4966a9af = L.popup({&quot;maxWidth&quot;: &quot;100%&quot;});\n",
       "\n",
       "        \n",
       "            \n",
       "                var html_6bbbeab79f1375f640cd174f318d555e = $(`&lt;div id=&quot;html_6bbbeab79f1375f640cd174f318d555e&quot; style=&quot;width: 100.0%; height: 100.0%;&quot;&gt; Kempegowda Tower // Score : 0.011873990306946688 &lt;/div&gt;`)[0];\n",
       "                popup_638f74adb223667b3442326b4966a9af.setContent(html_6bbbeab79f1375f640cd174f318d555e);\n",
       "            \n",
       "        \n",
       "\n",
       "        marker_ca4fd049e8c20b75b8e156d9587037a6.bindPopup(popup_638f74adb223667b3442326b4966a9af)\n",
       "        ;\n",
       "\n",
       "        \n",
       "    \n",
       "    \n",
       "            var marker_773b0e4881c09f424844f237b148a58b = L.marker(\n",
       "                [13.0055691, 77.581666],\n",
       "                {}\n",
       "            ).addTo(map_d0a5d0e3f13fc654cac50ac8d91d658d);\n",
       "        \n",
       "    \n",
       "        var popup_aa4ca7bf670d4bd2e3aa02cd72953f62 = L.popup({&quot;maxWidth&quot;: &quot;100%&quot;});\n",
       "\n",
       "        \n",
       "            \n",
       "                var html_6959ac3ba52b769f964cf8c8da276074 = $(`&lt;div id=&quot;html_6959ac3ba52b769f964cf8c8da276074&quot; style=&quot;width: 100.0%; height: 100.0%;&quot;&gt; Mahua Art Gallery // Score : 0.0029079159935379646 &lt;/div&gt;`)[0];\n",
       "                popup_aa4ca7bf670d4bd2e3aa02cd72953f62.setContent(html_6959ac3ba52b769f964cf8c8da276074);\n",
       "            \n",
       "        \n",
       "\n",
       "        marker_773b0e4881c09f424844f237b148a58b.bindPopup(popup_aa4ca7bf670d4bd2e3aa02cd72953f62)\n",
       "        ;\n",
       "\n",
       "        \n",
       "    \n",
       "    \n",
       "            var marker_5703cdb8ab2c6668412763dcbaaf3783 = L.marker(\n",
       "                [12.3057017, 76.64711645450585],\n",
       "                {}\n",
       "            ).addTo(map_d0a5d0e3f13fc654cac50ac8d91d658d);\n",
       "        \n",
       "    \n",
       "        var popup_39a929331429c91aa185d86f4ccc3710 = L.popup({&quot;maxWidth&quot;: &quot;100%&quot;});\n",
       "\n",
       "        \n",
       "            \n",
       "                var html_78c1c220a9bb618259ca0504cfa6084f = $(`&lt;div id=&quot;html_78c1c220a9bb618259ca0504cfa6084f&quot; style=&quot;width: 100.0%; height: 100.0%;&quot;&gt; Sri Rama Temple // Score : 0.0029079159935379646 &lt;/div&gt;`)[0];\n",
       "                popup_39a929331429c91aa185d86f4ccc3710.setContent(html_78c1c220a9bb618259ca0504cfa6084f);\n",
       "            \n",
       "        \n",
       "\n",
       "        marker_5703cdb8ab2c6668412763dcbaaf3783.bindPopup(popup_39a929331429c91aa185d86f4ccc3710)\n",
       "        ;\n",
       "\n",
       "        \n",
       "    \n",
       "    \n",
       "            var marker_cff3b8e04b5a50c9e2c1bd1b9b125117 = L.marker(\n",
       "                [12.97829855, 77.58931067149533],\n",
       "                {}\n",
       "            ).addTo(map_d0a5d0e3f13fc654cac50ac8d91d658d);\n",
       "        \n",
       "    \n",
       "        var popup_e82bf78fce612523c8c43e7fffb1c5d9 = L.popup({&quot;maxWidth&quot;: &quot;100%&quot;});\n",
       "\n",
       "        \n",
       "            \n",
       "                var html_41298c9117f8c3dba437607ee6b91836 = $(`&lt;div id=&quot;html_41298c9117f8c3dba437607ee6b91836&quot; style=&quot;width: 100.0%; height: 100.0%;&quot;&gt; Vikasa Soudha // Score : 0.0077544426494345715 &lt;/div&gt;`)[0];\n",
       "                popup_e82bf78fce612523c8c43e7fffb1c5d9.setContent(html_41298c9117f8c3dba437607ee6b91836);\n",
       "            \n",
       "        \n",
       "\n",
       "        marker_cff3b8e04b5a50c9e2c1bd1b9b125117.bindPopup(popup_e82bf78fce612523c8c43e7fffb1c5d9)\n",
       "        ;\n",
       "\n",
       "        \n",
       "    \n",
       "    \n",
       "            var marker_00f2c4defb80d5c7ca2c99636465d631 = L.marker(\n",
       "                [12.147184, 76.7369032],\n",
       "                {}\n",
       "            ).addTo(map_d0a5d0e3f13fc654cac50ac8d91d658d);\n",
       "        \n",
       "    \n",
       "        var popup_fff3b31aaf17c8ed7991f4054bcc131c = L.popup({&quot;maxWidth&quot;: &quot;100%&quot;});\n",
       "\n",
       "        \n",
       "            \n",
       "                var html_cde24bcc5a99a89c18ebdf8578d82d23 = $(`&lt;div id=&quot;html_cde24bcc5a99a89c18ebdf8578d82d23&quot; style=&quot;width: 100.0%; height: 100.0%;&quot;&gt; Mulluru Temple // Score : 0.0036348949919224557 &lt;/div&gt;`)[0];\n",
       "                popup_fff3b31aaf17c8ed7991f4054bcc131c.setContent(html_cde24bcc5a99a89c18ebdf8578d82d23);\n",
       "            \n",
       "        \n",
       "\n",
       "        marker_00f2c4defb80d5c7ca2c99636465d631.bindPopup(popup_fff3b31aaf17c8ed7991f4054bcc131c)\n",
       "        ;\n",
       "\n",
       "        \n",
       "    \n",
       "    \n",
       "            var marker_04517b3bc271f62ad9c0c61f78afce1d = L.marker(\n",
       "                [12.9433162, 77.70004387539987],\n",
       "                {}\n",
       "            ).addTo(map_d0a5d0e3f13fc654cac50ac8d91d658d);\n",
       "        \n",
       "    \n",
       "        var popup_44d5b643fa63d882f9bd9ff4dea3f653 = L.popup({&quot;maxWidth&quot;: &quot;100%&quot;});\n",
       "\n",
       "        \n",
       "            \n",
       "                var html_8de6a888e1d87c4c4ff7a0a8dccc8ca4 = $(`&lt;div id=&quot;html_8de6a888e1d87c4c4ff7a0a8dccc8ca4&quot; style=&quot;width: 100.0%; height: 100.0%;&quot;&gt; Active Arena // Score : 0.002584814216478191 &lt;/div&gt;`)[0];\n",
       "                popup_44d5b643fa63d882f9bd9ff4dea3f653.setContent(html_8de6a888e1d87c4c4ff7a0a8dccc8ca4);\n",
       "            \n",
       "        \n",
       "\n",
       "        marker_04517b3bc271f62ad9c0c61f78afce1d.bindPopup(popup_44d5b643fa63d882f9bd9ff4dea3f653)\n",
       "        ;\n",
       "\n",
       "        \n",
       "    \n",
       "    \n",
       "            var marker_bd7088f72d92b2734691024b8208c02a = L.marker(\n",
       "                [13.09101315, 77.5863932785943],\n",
       "                {}\n",
       "            ).addTo(map_d0a5d0e3f13fc654cac50ac8d91d658d);\n",
       "        \n",
       "    \n",
       "        var popup_713873e3037a71704994bd8cb5dd6d87 = L.popup({&quot;maxWidth&quot;: &quot;100%&quot;});\n",
       "\n",
       "        \n",
       "            \n",
       "                var html_70dcacdf69790fc5c4bb20ea2a359dc2 = $(`&lt;div id=&quot;html_70dcacdf69790fc5c4bb20ea2a359dc2&quot; style=&quot;width: 100.0%; height: 100.0%;&quot;&gt; Allalasandra Lake // Score : 0.002180936995153473 &lt;/div&gt;`)[0];\n",
       "                popup_713873e3037a71704994bd8cb5dd6d87.setContent(html_70dcacdf69790fc5c4bb20ea2a359dc2);\n",
       "            \n",
       "        \n",
       "\n",
       "        marker_bd7088f72d92b2734691024b8208c02a.bindPopup(popup_713873e3037a71704994bd8cb5dd6d87)\n",
       "        ;\n",
       "\n",
       "        \n",
       "    \n",
       "    \n",
       "            var marker_277197a0b0fbfe580e30b6f2da8aa3dc = L.marker(\n",
       "                [13.03565265, 77.57479784652307],\n",
       "                {}\n",
       "            ).addTo(map_d0a5d0e3f13fc654cac50ac8d91d658d);\n",
       "        \n",
       "    \n",
       "        var popup_792dc584974e79b72e5b71309cb9d081 = L.popup({&quot;maxWidth&quot;: &quot;100%&quot;});\n",
       "\n",
       "        \n",
       "            \n",
       "                var html_f34f2704b13f994a429ba0e923e767b3 = $(`&lt;div id=&quot;html_f34f2704b13f994a429ba0e923e767b3&quot; style=&quot;width: 100.0%; height: 100.0%;&quot;&gt; Vaibhav Theatre // Score : 0.004523424878836834 &lt;/div&gt;`)[0];\n",
       "                popup_792dc584974e79b72e5b71309cb9d081.setContent(html_f34f2704b13f994a429ba0e923e767b3);\n",
       "            \n",
       "        \n",
       "\n",
       "        marker_277197a0b0fbfe580e30b6f2da8aa3dc.bindPopup(popup_792dc584974e79b72e5b71309cb9d081)\n",
       "        ;\n",
       "\n",
       "        \n",
       "    \n",
       "    \n",
       "            var marker_8690081402c83546e86b2abf63814e48 = L.marker(\n",
       "                [12.9561526, 77.58547347953893],\n",
       "                {}\n",
       "            ).addTo(map_d0a5d0e3f13fc654cac50ac8d91d658d);\n",
       "        \n",
       "    \n",
       "        var popup_77265d43e0f672d9e42454a0d75833ae = L.popup({&quot;maxWidth&quot;: &quot;100%&quot;});\n",
       "\n",
       "        \n",
       "            \n",
       "                var html_4345a5cdb04f8d24c41a0c63f9dc2057 = $(`&lt;div id=&quot;html_4345a5cdb04f8d24c41a0c63f9dc2057&quot; style=&quot;width: 100.0%; height: 100.0%;&quot;&gt; Urvashi Cinema // Score : 0.34119547657512117 &lt;/div&gt;`)[0];\n",
       "                popup_77265d43e0f672d9e42454a0d75833ae.setContent(html_4345a5cdb04f8d24c41a0c63f9dc2057);\n",
       "            \n",
       "        \n",
       "\n",
       "        marker_8690081402c83546e86b2abf63814e48.bindPopup(popup_77265d43e0f672d9e42454a0d75833ae)\n",
       "        ;\n",
       "\n",
       "        \n",
       "    \n",
       "    \n",
       "            var marker_565a65de419cdccafc5b0ab5d23bf998 = L.marker(\n",
       "                [12.9696673, 77.6416775],\n",
       "                {}\n",
       "            ).addTo(map_d0a5d0e3f13fc654cac50ac8d91d658d);\n",
       "        \n",
       "    \n",
       "        var popup_bbe6f13786c06863e81f6b757f8ceb2e = L.popup({&quot;maxWidth&quot;: &quot;100%&quot;});\n",
       "\n",
       "        \n",
       "            \n",
       "                var html_1168cb3513f4071a384c46778a1583b7 = $(`&lt;div id=&quot;html_1168cb3513f4071a384c46778a1583b7&quot; style=&quot;width: 100.0%; height: 100.0%;&quot;&gt; Mystery Rooms // Score : 0.15848142164781906 &lt;/div&gt;`)[0];\n",
       "                popup_bbe6f13786c06863e81f6b757f8ceb2e.setContent(html_1168cb3513f4071a384c46778a1583b7);\n",
       "            \n",
       "        \n",
       "\n",
       "        marker_565a65de419cdccafc5b0ab5d23bf998.bindPopup(popup_bbe6f13786c06863e81f6b757f8ceb2e)\n",
       "        ;\n",
       "\n",
       "        \n",
       "    \n",
       "    \n",
       "            var marker_37361ad2003de396624e4aa712cd91af = L.marker(\n",
       "                [13.3111867, 77.69165181596705],\n",
       "                {}\n",
       "            ).addTo(map_d0a5d0e3f13fc654cac50ac8d91d658d);\n",
       "        \n",
       "    \n",
       "        var popup_1dfc0b9c8889f1df29f1f98f7a313238 = L.popup({&quot;maxWidth&quot;: &quot;100%&quot;});\n",
       "\n",
       "        \n",
       "            \n",
       "                var html_e5a60230d60fa6b5b67517d415f632d8 = $(`&lt;div id=&quot;html_e5a60230d60fa6b5b67517d415f632d8&quot; style=&quot;width: 100.0%; height: 100.0%;&quot;&gt; Prestige Golfshire Club // Score : 0.046526655896607434 &lt;/div&gt;`)[0];\n",
       "                popup_1dfc0b9c8889f1df29f1f98f7a313238.setContent(html_e5a60230d60fa6b5b67517d415f632d8);\n",
       "            \n",
       "        \n",
       "\n",
       "        marker_37361ad2003de396624e4aa712cd91af.bindPopup(popup_1dfc0b9c8889f1df29f1f98f7a313238)\n",
       "        ;\n",
       "\n",
       "        \n",
       "    \n",
       "    \n",
       "            var marker_0d7b6923fcfb4dc78db74dc82d78cd97 = L.marker(\n",
       "                [16.83073675, 76.9201350762518],\n",
       "                {}\n",
       "            ).addTo(map_d0a5d0e3f13fc654cac50ac8d91d658d);\n",
       "        \n",
       "    \n",
       "        var popup_7a0b8d97e5557f91b2b9f0c73f8d6bc7 = L.popup({&quot;maxWidth&quot;: &quot;100%&quot;});\n",
       "\n",
       "        \n",
       "            \n",
       "                var html_04a18775c7687b753f73941dca834805 = $(`&lt;div id=&quot;html_04a18775c7687b753f73941dca834805&quot; style=&quot;width: 100.0%; height: 100.0%;&quot;&gt; Sri Chandrala Parameshwari Temple // Score : 0.002180936995153473 &lt;/div&gt;`)[0];\n",
       "                popup_7a0b8d97e5557f91b2b9f0c73f8d6bc7.setContent(html_04a18775c7687b753f73941dca834805);\n",
       "            \n",
       "        \n",
       "\n",
       "        marker_0d7b6923fcfb4dc78db74dc82d78cd97.bindPopup(popup_7a0b8d97e5557f91b2b9f0c73f8d6bc7)\n",
       "        ;\n",
       "\n",
       "        \n",
       "    \n",
       "    \n",
       "            var marker_a07072b74a51e2bdf43102ed363ee94d = L.marker(\n",
       "                [12.97475465, 77.57779709332772],\n",
       "                {}\n",
       "            ).addTo(map_d0a5d0e3f13fc654cac50ac8d91d658d);\n",
       "        \n",
       "    \n",
       "        var popup_d3f14211329fda7cc20560a29255e3ed = L.popup({&quot;maxWidth&quot;: &quot;100%&quot;});\n",
       "\n",
       "        \n",
       "            \n",
       "                var html_1fb75c026f5892038f350b07bc40c4fb = $(`&lt;div id=&quot;html_1fb75c026f5892038f350b07bc40c4fb&quot; style=&quot;width: 100.0%; height: 100.0%;&quot;&gt; Sri Mahaganapathi Temple // Score : 0.0029079159935379646 &lt;/div&gt;`)[0];\n",
       "                popup_d3f14211329fda7cc20560a29255e3ed.setContent(html_1fb75c026f5892038f350b07bc40c4fb);\n",
       "            \n",
       "        \n",
       "\n",
       "        marker_a07072b74a51e2bdf43102ed363ee94d.bindPopup(popup_d3f14211329fda7cc20560a29255e3ed)\n",
       "        ;\n",
       "\n",
       "        \n",
       "    \n",
       "    \n",
       "            var marker_29e491db0d9cabb42dcef0fd78c8196a = L.marker(\n",
       "                [12.8844523, 77.55473647482995],\n",
       "                {}\n",
       "            ).addTo(map_d0a5d0e3f13fc654cac50ac8d91d658d);\n",
       "        \n",
       "    \n",
       "        var popup_cf812b8e94acc0a4e862a11afd15501e = L.popup({&quot;maxWidth&quot;: &quot;100%&quot;});\n",
       "\n",
       "        \n",
       "            \n",
       "                var html_05ab91e65e8a5e00bf48489317bc0dfe = $(`&lt;div id=&quot;html_05ab91e65e8a5e00bf48489317bc0dfe&quot; style=&quot;width: 100.0%; height: 100.0%;&quot;&gt; Shankaraa // Score : 0.0032310177705977385 &lt;/div&gt;`)[0];\n",
       "                popup_cf812b8e94acc0a4e862a11afd15501e.setContent(html_05ab91e65e8a5e00bf48489317bc0dfe);\n",
       "            \n",
       "        \n",
       "\n",
       "        marker_29e491db0d9cabb42dcef0fd78c8196a.bindPopup(popup_cf812b8e94acc0a4e862a11afd15501e)\n",
       "        ;\n",
       "\n",
       "        \n",
       "    \n",
       "    \n",
       "            var marker_813cd27af0cd8ffb2284fc272a0f21a9 = L.marker(\n",
       "                [13.0198131, 77.666082],\n",
       "                {}\n",
       "            ).addTo(map_d0a5d0e3f13fc654cac50ac8d91d658d);\n",
       "        \n",
       "    \n",
       "        var popup_4d344b045e54dfadf84e794dc0735cfc = L.popup({&quot;maxWidth&quot;: &quot;100%&quot;});\n",
       "\n",
       "        \n",
       "            \n",
       "                var html_758b236c3dea3bb151bf49432bef01ae = $(`&lt;div id=&quot;html_758b236c3dea3bb151bf49432bef01ae&quot; style=&quot;width: 100.0%; height: 100.0%;&quot;&gt; Ganesha Temple // Score : 0.002180936995153473 &lt;/div&gt;`)[0];\n",
       "                popup_4d344b045e54dfadf84e794dc0735cfc.setContent(html_758b236c3dea3bb151bf49432bef01ae);\n",
       "            \n",
       "        \n",
       "\n",
       "        marker_813cd27af0cd8ffb2284fc272a0f21a9.bindPopup(popup_4d344b045e54dfadf84e794dc0735cfc)\n",
       "        ;\n",
       "\n",
       "        \n",
       "    \n",
       "    \n",
       "            var marker_27f86d1c8a3c2cd18956cb02ca36c343 = L.marker(\n",
       "                [12.9741515, 77.6069681],\n",
       "                {}\n",
       "            ).addTo(map_d0a5d0e3f13fc654cac50ac8d91d658d);\n",
       "        \n",
       "    \n",
       "        var popup_f640eeb9d0e7fdaa44920c7c89a8c7dd = L.popup({&quot;maxWidth&quot;: &quot;100%&quot;});\n",
       "\n",
       "        \n",
       "            \n",
       "                var html_6275cd4e13ae266357bb471d60205a65 = $(`&lt;div id=&quot;html_6275cd4e13ae266357bb471d60205a65&quot; style=&quot;width: 100.0%; height: 100.0%;&quot;&gt; Blossom Book House // Score : 0.02504038772213247 &lt;/div&gt;`)[0];\n",
       "                popup_f640eeb9d0e7fdaa44920c7c89a8c7dd.setContent(html_6275cd4e13ae266357bb471d60205a65);\n",
       "            \n",
       "        \n",
       "\n",
       "        marker_27f86d1c8a3c2cd18956cb02ca36c343.bindPopup(popup_f640eeb9d0e7fdaa44920c7c89a8c7dd)\n",
       "        ;\n",
       "\n",
       "        \n",
       "    \n",
       "    \n",
       "            var marker_a1a75b8c22bcc34b8cb0cc1413a78e95 = L.marker(\n",
       "                [12.3249513, 76.6271025],\n",
       "                {}\n",
       "            ).addTo(map_d0a5d0e3f13fc654cac50ac8d91d658d);\n",
       "        \n",
       "    \n",
       "        var popup_31c879ec8479bc3bb516af1d2c7189d4 = L.popup({&quot;maxWidth&quot;: &quot;100%&quot;});\n",
       "\n",
       "        \n",
       "            \n",
       "                var html_0e604de473c27d4a0409cc9200566e11 = $(`&lt;div id=&quot;html_0e604de473c27d4a0409cc9200566e11&quot; style=&quot;width: 100.0%; height: 100.0%;&quot;&gt; Dhaatu // Score : 0.0016155088852988692 &lt;/div&gt;`)[0];\n",
       "                popup_31c879ec8479bc3bb516af1d2c7189d4.setContent(html_0e604de473c27d4a0409cc9200566e11);\n",
       "            \n",
       "        \n",
       "\n",
       "        marker_a1a75b8c22bcc34b8cb0cc1413a78e95.bindPopup(popup_31c879ec8479bc3bb516af1d2c7189d4)\n",
       "        ;\n",
       "\n",
       "        \n",
       "    \n",
       "    \n",
       "            var marker_d26f978a38f34a62f292b19026cf383d = L.marker(\n",
       "                [12.973234, 77.6021849],\n",
       "                {}\n",
       "            ).addTo(map_d0a5d0e3f13fc654cac50ac8d91d658d);\n",
       "        \n",
       "    \n",
       "        var popup_0aa43069f1d81a868b440aa7f400077c = L.popup({&quot;maxWidth&quot;: &quot;100%&quot;});\n",
       "\n",
       "        \n",
       "            \n",
       "                var html_bd2bf783e67bdf304ec1de1facb070b9 = $(`&lt;div id=&quot;html_bd2bf783e67bdf304ec1de1facb070b9&quot; style=&quot;width: 100.0%; height: 100.0%;&quot;&gt; Bamboopecker // Score : 0.00888529886914378 &lt;/div&gt;`)[0];\n",
       "                popup_0aa43069f1d81a868b440aa7f400077c.setContent(html_bd2bf783e67bdf304ec1de1facb070b9);\n",
       "            \n",
       "        \n",
       "\n",
       "        marker_d26f978a38f34a62f292b19026cf383d.bindPopup(popup_0aa43069f1d81a868b440aa7f400077c)\n",
       "        ;\n",
       "\n",
       "        \n",
       "    \n",
       "    \n",
       "            var marker_2b4de5f8998114800570eb489119febd = L.marker(\n",
       "                [12.9457868, 77.5706743],\n",
       "                {}\n",
       "            ).addTo(map_d0a5d0e3f13fc654cac50ac8d91d658d);\n",
       "        \n",
       "    \n",
       "        var popup_154e88f0e01a0b250f74d74c745f67cf = L.popup({&quot;maxWidth&quot;: &quot;100%&quot;});\n",
       "\n",
       "        \n",
       "            \n",
       "                var html_4130b72614927f1f0fc231aa21b588cb = $(`&lt;div id=&quot;html_4130b72614927f1f0fc231aa21b588cb&quot; style=&quot;width: 100.0%; height: 100.0%;&quot;&gt; Gandhi Bazaar // Score : 0.018093699515347336 &lt;/div&gt;`)[0];\n",
       "                popup_154e88f0e01a0b250f74d74c745f67cf.setContent(html_4130b72614927f1f0fc231aa21b588cb);\n",
       "            \n",
       "        \n",
       "\n",
       "        marker_2b4de5f8998114800570eb489119febd.bindPopup(popup_154e88f0e01a0b250f74d74c745f67cf)\n",
       "        ;\n",
       "\n",
       "        \n",
       "    \n",
       "    \n",
       "            var marker_163f42cb9eca62157d61ae3569fe0fcc = L.marker(\n",
       "                [12.9432577, 77.5162965],\n",
       "                {}\n",
       "            ).addTo(map_d0a5d0e3f13fc654cac50ac8d91d658d);\n",
       "        \n",
       "    \n",
       "        var popup_caa6a78488e816913b07c1612f96c082 = L.popup({&quot;maxWidth&quot;: &quot;100%&quot;});\n",
       "\n",
       "        \n",
       "            \n",
       "                var html_d8565885148a5385a4e5e2ada4afd4e3 = $(`&lt;div id=&quot;html_d8565885148a5385a4e5e2ada4afd4e3&quot; style=&quot;width: 100.0%; height: 100.0%;&quot;&gt; Bangalore Golf Club // Score : 0.03126009693053312 &lt;/div&gt;`)[0];\n",
       "                popup_caa6a78488e816913b07c1612f96c082.setContent(html_d8565885148a5385a4e5e2ada4afd4e3);\n",
       "            \n",
       "        \n",
       "\n",
       "        marker_163f42cb9eca62157d61ae3569fe0fcc.bindPopup(popup_caa6a78488e816913b07c1612f96c082)\n",
       "        ;\n",
       "\n",
       "        \n",
       "    \n",
       "    \n",
       "            var marker_6417c91b23ff62ab9c825cde0bff0a7f = L.marker(\n",
       "                [12.8777742, 77.72680308393987],\n",
       "                {}\n",
       "            ).addTo(map_d0a5d0e3f13fc654cac50ac8d91d658d);\n",
       "        \n",
       "    \n",
       "        var popup_0edcea7f068c9d11344578199b09ea7f = L.popup({&quot;maxWidth&quot;: &quot;100%&quot;});\n",
       "\n",
       "        \n",
       "            \n",
       "                var html_f336e81936e6ca609725c9e2372bccf6 = $(`&lt;div id=&quot;html_f336e81936e6ca609725c9e2372bccf6&quot; style=&quot;width: 100.0%; height: 100.0%;&quot;&gt; Red Riders Sports // Score : 0.021082390953150242 &lt;/div&gt;`)[0];\n",
       "                popup_0edcea7f068c9d11344578199b09ea7f.setContent(html_f336e81936e6ca609725c9e2372bccf6);\n",
       "            \n",
       "        \n",
       "\n",
       "        marker_6417c91b23ff62ab9c825cde0bff0a7f.bindPopup(popup_0edcea7f068c9d11344578199b09ea7f)\n",
       "        ;\n",
       "\n",
       "        \n",
       "    \n",
       "    \n",
       "            var marker_ebdc6895e5a9c4a8577e157667c616bf = L.marker(\n",
       "                [12.9517799, 77.64746548755977],\n",
       "                {}\n",
       "            ).addTo(map_d0a5d0e3f13fc654cac50ac8d91d658d);\n",
       "        \n",
       "    \n",
       "        var popup_7fbcdc2cd2326dd5685b42d1e4b5cd5f = L.popup({&quot;maxWidth&quot;: &quot;100%&quot;});\n",
       "\n",
       "        \n",
       "            \n",
       "                var html_752496b6028224e5b17deef103dbb98f = $(`&lt;div id=&quot;html_752496b6028224e5b17deef103dbb98f&quot; style=&quot;width: 100.0%; height: 100.0%;&quot;&gt; Karnataka Golf Association // Score : 0.020355411954765753 &lt;/div&gt;`)[0];\n",
       "                popup_7fbcdc2cd2326dd5685b42d1e4b5cd5f.setContent(html_752496b6028224e5b17deef103dbb98f);\n",
       "            \n",
       "        \n",
       "\n",
       "        marker_ebdc6895e5a9c4a8577e157667c616bf.bindPopup(popup_7fbcdc2cd2326dd5685b42d1e4b5cd5f)\n",
       "        ;\n",
       "\n",
       "        \n",
       "    \n",
       "    \n",
       "            var marker_7ce4313fc8695d82545ad440794fca54 = L.marker(\n",
       "                [13.1825229, 77.559276],\n",
       "                {}\n",
       "            ).addTo(map_d0a5d0e3f13fc654cac50ac8d91d658d);\n",
       "        \n",
       "    \n",
       "        var popup_ab8b9b48c6b4fac4b3ec09c81df2b65e = L.popup({&quot;maxWidth&quot;: &quot;100%&quot;});\n",
       "\n",
       "        \n",
       "            \n",
       "                var html_93d9823082f6e7d695bd60dee9bbb079 = $(`&lt;div id=&quot;html_93d9823082f6e7d695bd60dee9bbb079&quot; style=&quot;width: 100.0%; height: 100.0%;&quot;&gt; Angsana Oasis Spa &amp; Resort Bangalore // Score : 0.048061389337641355 &lt;/div&gt;`)[0];\n",
       "                popup_ab8b9b48c6b4fac4b3ec09c81df2b65e.setContent(html_93d9823082f6e7d695bd60dee9bbb079);\n",
       "            \n",
       "        \n",
       "\n",
       "        marker_7ce4313fc8695d82545ad440794fca54.bindPopup(popup_ab8b9b48c6b4fac4b3ec09c81df2b65e)\n",
       "        ;\n",
       "\n",
       "        \n",
       "    \n",
       "    \n",
       "            var marker_43c775eab59b1eb745d7cafaa37cff63 = L.marker(\n",
       "                [12.9725224, 77.6398506],\n",
       "                {}\n",
       "            ).addTo(map_d0a5d0e3f13fc654cac50ac8d91d658d);\n",
       "        \n",
       "    \n",
       "        var popup_f958a7a19271d91082316447415f72c8 = L.popup({&quot;maxWidth&quot;: &quot;100%&quot;});\n",
       "\n",
       "        \n",
       "            \n",
       "                var html_765f9a7f0eb61f12ff46904874a9040d = $(`&lt;div id=&quot;html_765f9a7f0eb61f12ff46904874a9040d&quot; style=&quot;width: 100.0%; height: 100.0%;&quot;&gt; The Amazing Escape Bangalore // Score : 0.017447495961227785 &lt;/div&gt;`)[0];\n",
       "                popup_f958a7a19271d91082316447415f72c8.setContent(html_765f9a7f0eb61f12ff46904874a9040d);\n",
       "            \n",
       "        \n",
       "\n",
       "        marker_43c775eab59b1eb745d7cafaa37cff63.bindPopup(popup_f958a7a19271d91082316447415f72c8)\n",
       "        ;\n",
       "\n",
       "        \n",
       "    \n",
       "    \n",
       "            var marker_6a58aad8dcf93aaca348aef433fb4479 = L.marker(\n",
       "                [12.970168, 77.6382269],\n",
       "                {}\n",
       "            ).addTo(map_d0a5d0e3f13fc654cac50ac8d91d658d);\n",
       "        \n",
       "    \n",
       "        var popup_339375d09ae3cc875968d0b877b91460 = L.popup({&quot;maxWidth&quot;: &quot;100%&quot;});\n",
       "\n",
       "        \n",
       "            \n",
       "                var html_94d982dfd035b44b0023f39b014ec9c1 = $(`&lt;div id=&quot;html_94d982dfd035b44b0023f39b014ec9c1&quot; style=&quot;width: 100.0%; height: 100.0%;&quot;&gt; Body Raaga Wellness Spa // Score : 0.01308562197092084 &lt;/div&gt;`)[0];\n",
       "                popup_339375d09ae3cc875968d0b877b91460.setContent(html_94d982dfd035b44b0023f39b014ec9c1);\n",
       "            \n",
       "        \n",
       "\n",
       "        marker_6a58aad8dcf93aaca348aef433fb4479.bindPopup(popup_339375d09ae3cc875968d0b877b91460)\n",
       "        ;\n",
       "\n",
       "        \n",
       "    \n",
       "    \n",
       "            var marker_cfc28fa49c35bfaa4750318f7e59d168 = L.marker(\n",
       "                [12.9750422, 77.5760425],\n",
       "                {}\n",
       "            ).addTo(map_d0a5d0e3f13fc654cac50ac8d91d658d);\n",
       "        \n",
       "    \n",
       "        var popup_b5ed696c00826285ae9ed01f53544c19 = L.popup({&quot;maxWidth&quot;: &quot;100%&quot;});\n",
       "\n",
       "        \n",
       "            \n",
       "                var html_b540799f35a8eeb606861bbaa84e1b36 = $(`&lt;div id=&quot;html_b540799f35a8eeb606861bbaa84e1b36&quot; style=&quot;width: 100.0%; height: 100.0%;&quot;&gt; Badsha Stores // Score : 0.01777059773828756 &lt;/div&gt;`)[0];\n",
       "                popup_b5ed696c00826285ae9ed01f53544c19.setContent(html_b540799f35a8eeb606861bbaa84e1b36);\n",
       "            \n",
       "        \n",
       "\n",
       "        marker_cfc28fa49c35bfaa4750318f7e59d168.bindPopup(popup_b5ed696c00826285ae9ed01f53544c19)\n",
       "        ;\n",
       "\n",
       "        \n",
       "    \n",
       "    \n",
       "            var marker_16101499531750891a8da3b9aaa5a650 = L.marker(\n",
       "                [13.04643815, 77.74925905074574],\n",
       "                {}\n",
       "            ).addTo(map_d0a5d0e3f13fc654cac50ac8d91d658d);\n",
       "        \n",
       "    \n",
       "        var popup_c6d7a238c7f3f46f0b544d01ca890743 = L.popup({&quot;maxWidth&quot;: &quot;100%&quot;});\n",
       "\n",
       "        \n",
       "            \n",
       "                var html_eb4bdb1ce7efdd3e30cbbdd5a1e69eb6 = $(`&lt;div id=&quot;html_eb4bdb1ce7efdd3e30cbbdd5a1e69eb6&quot; style=&quot;width: 100.0%; height: 100.0%;&quot;&gt; Decathlon OMR // Score : 0.010177705977382876 &lt;/div&gt;`)[0];\n",
       "                popup_c6d7a238c7f3f46f0b544d01ca890743.setContent(html_eb4bdb1ce7efdd3e30cbbdd5a1e69eb6);\n",
       "            \n",
       "        \n",
       "\n",
       "        marker_16101499531750891a8da3b9aaa5a650.bindPopup(popup_c6d7a238c7f3f46f0b544d01ca890743)\n",
       "        ;\n",
       "\n",
       "        \n",
       "    \n",
       "    \n",
       "            var marker_8121363680f25b7e17ac2401c6e714b8 = L.marker(\n",
       "                [12.9966807, 77.6954878],\n",
       "                {}\n",
       "            ).addTo(map_d0a5d0e3f13fc654cac50ac8d91d658d);\n",
       "        \n",
       "    \n",
       "        var popup_c5c96b5e749257022d0ead4be3cbfc9b = L.popup({&quot;maxWidth&quot;: &quot;100%&quot;});\n",
       "\n",
       "        \n",
       "            \n",
       "                var html_e334f0d7b5078e4727045b1330657ba0 = $(`&lt;div id=&quot;html_e334f0d7b5078e4727045b1330657ba0&quot; style=&quot;width: 100.0%; height: 100.0%;&quot;&gt; PVR IMAX // Score : 0.023909531502423264 &lt;/div&gt;`)[0];\n",
       "                popup_c5c96b5e749257022d0ead4be3cbfc9b.setContent(html_e334f0d7b5078e4727045b1330657ba0);\n",
       "            \n",
       "        \n",
       "\n",
       "        marker_8121363680f25b7e17ac2401c6e714b8.bindPopup(popup_c5c96b5e749257022d0ead4be3cbfc9b)\n",
       "        ;\n",
       "\n",
       "        \n",
       "    \n",
       "    \n",
       "            var marker_a3df943f0df3cf7dffbdd17f3c4f7841 = L.marker(\n",
       "                [12.9781282, 77.6379023],\n",
       "                {}\n",
       "            ).addTo(map_d0a5d0e3f13fc654cac50ac8d91d658d);\n",
       "        \n",
       "    \n",
       "        var popup_15c5eb275687f0f05f4335ea8572ee78 = L.popup({&quot;maxWidth&quot;: &quot;100%&quot;});\n",
       "\n",
       "        \n",
       "            \n",
       "                var html_cbbe1f707ba1ff775c29106ba1715cc1 = $(`&lt;div id=&quot;html_cbbe1f707ba1ff775c29106ba1715cc1&quot; style=&quot;width: 100.0%; height: 100.0%;&quot;&gt; Equilibrium Climbing Station // Score : 0.00840064620355412 &lt;/div&gt;`)[0];\n",
       "                popup_15c5eb275687f0f05f4335ea8572ee78.setContent(html_cbbe1f707ba1ff775c29106ba1715cc1);\n",
       "            \n",
       "        \n",
       "\n",
       "        marker_a3df943f0df3cf7dffbdd17f3c4f7841.bindPopup(popup_15c5eb275687f0f05f4335ea8572ee78)\n",
       "        ;\n",
       "\n",
       "        \n",
       "    \n",
       "    \n",
       "            var marker_4448cbc8c060ca3e7b1e8d09f1c1a9dd = L.marker(\n",
       "                [12.9123323, 77.5855405],\n",
       "                {}\n",
       "            ).addTo(map_d0a5d0e3f13fc654cac50ac8d91d658d);\n",
       "        \n",
       "    \n",
       "        var popup_e586a8c29e773854dec35d9353871362 = L.popup({&quot;maxWidth&quot;: &quot;100%&quot;});\n",
       "\n",
       "        \n",
       "            \n",
       "                var html_d5910bb17f021d3269a31284e2c11de8 = $(`&lt;div id=&quot;html_d5910bb17f021d3269a31284e2c11de8&quot; style=&quot;width: 100.0%; height: 100.0%;&quot;&gt; Golden Ace Shooting Academy // Score : 0.004846526655896607 &lt;/div&gt;`)[0];\n",
       "                popup_e586a8c29e773854dec35d9353871362.setContent(html_d5910bb17f021d3269a31284e2c11de8);\n",
       "            \n",
       "        \n",
       "\n",
       "        marker_4448cbc8c060ca3e7b1e8d09f1c1a9dd.bindPopup(popup_e586a8c29e773854dec35d9353871362)\n",
       "        ;\n",
       "\n",
       "        \n",
       "    \n",
       "    \n",
       "            var marker_a2c139a889e29c5f73f22056a1ef007d = L.marker(\n",
       "                [13.1156607, 77.67127584149739],\n",
       "                {}\n",
       "            ).addTo(map_d0a5d0e3f13fc654cac50ac8d91d658d);\n",
       "        \n",
       "    \n",
       "        var popup_78f0bd0855fbac60e3414426db4319d6 = L.popup({&quot;maxWidth&quot;: &quot;100%&quot;});\n",
       "\n",
       "        \n",
       "            \n",
       "                var html_b81c1efbd8deaa080ac079c23c3cc4e1 = $(`&lt;div id=&quot;html_b81c1efbd8deaa080ac079c23c3cc4e1&quot; style=&quot;width: 100.0%; height: 100.0%;&quot;&gt; Meco Kartopia // Score : 0.004038772213247173 &lt;/div&gt;`)[0];\n",
       "                popup_78f0bd0855fbac60e3414426db4319d6.setContent(html_b81c1efbd8deaa080ac079c23c3cc4e1);\n",
       "            \n",
       "        \n",
       "\n",
       "        marker_a2c139a889e29c5f73f22056a1ef007d.bindPopup(popup_78f0bd0855fbac60e3414426db4319d6)\n",
       "        ;\n",
       "\n",
       "        \n",
       "    \n",
       "    \n",
       "            var marker_c40887bba8f98f898049a6c1094b0fd8 = L.marker(\n",
       "                [12.9916897, 77.5711243],\n",
       "                {}\n",
       "            ).addTo(map_d0a5d0e3f13fc654cac50ac8d91d658d);\n",
       "        \n",
       "    \n",
       "        var popup_9f7c97719ea91bd9be597bac91b36deb = L.popup({&quot;maxWidth&quot;: &quot;100%&quot;});\n",
       "\n",
       "        \n",
       "            \n",
       "                var html_6c7c3d351cef0463a0ccdf8419a86b40 = $(`&lt;div id=&quot;html_6c7c3d351cef0463a0ccdf8419a86b40&quot; style=&quot;width: 100.0%; height: 100.0%;&quot;&gt; Cocopelee // Score : 0.007269789983844911 &lt;/div&gt;`)[0];\n",
       "                popup_9f7c97719ea91bd9be597bac91b36deb.setContent(html_6c7c3d351cef0463a0ccdf8419a86b40);\n",
       "            \n",
       "        \n",
       "\n",
       "        marker_c40887bba8f98f898049a6c1094b0fd8.bindPopup(popup_9f7c97719ea91bd9be597bac91b36deb)\n",
       "        ;\n",
       "\n",
       "        \n",
       "    \n",
       "    \n",
       "            var marker_803bc02eee42d9231f15419ec05580e7 = L.marker(\n",
       "                [12.9755648, 77.6030218],\n",
       "                {}\n",
       "            ).addTo(map_d0a5d0e3f13fc654cac50ac8d91d658d);\n",
       "        \n",
       "    \n",
       "        var popup_6a83cfd275c4d1e75b68be79fd066750 = L.popup({&quot;maxWidth&quot;: &quot;100%&quot;});\n",
       "\n",
       "        \n",
       "            \n",
       "                var html_4a812edf0ed360f8e402d84a14e3046c = $(`&lt;div id=&quot;html_4a812edf0ed360f8e402d84a14e3046c&quot; style=&quot;width: 100.0%; height: 100.0%;&quot;&gt; The Entertainment Store // Score : 0.005815831987075929 &lt;/div&gt;`)[0];\n",
       "                popup_6a83cfd275c4d1e75b68be79fd066750.setContent(html_4a812edf0ed360f8e402d84a14e3046c);\n",
       "            \n",
       "        \n",
       "\n",
       "        marker_803bc02eee42d9231f15419ec05580e7.bindPopup(popup_6a83cfd275c4d1e75b68be79fd066750)\n",
       "        ;\n",
       "\n",
       "        \n",
       "    \n",
       "    \n",
       "            var marker_8d602673039b7971dee630609800033b = L.marker(\n",
       "                [12.97969665, 77.60679366166659],\n",
       "                {}\n",
       "            ).addTo(map_d0a5d0e3f13fc654cac50ac8d91d658d);\n",
       "        \n",
       "    \n",
       "        var popup_33f6fc5e66efc0d2f67e5ae3db98b233 = L.popup({&quot;maxWidth&quot;: &quot;100%&quot;});\n",
       "\n",
       "        \n",
       "            \n",
       "                var html_63f6e6b59d0a1639e3c89f3800fdceb3 = $(`&lt;div id=&quot;html_63f6e6b59d0a1639e3c89f3800fdceb3&quot; style=&quot;width: 100.0%; height: 100.0%;&quot;&gt; Safina Plaza // Score : 0.009693053311793215 &lt;/div&gt;`)[0];\n",
       "                popup_33f6fc5e66efc0d2f67e5ae3db98b233.setContent(html_63f6e6b59d0a1639e3c89f3800fdceb3);\n",
       "            \n",
       "        \n",
       "\n",
       "        marker_8d602673039b7971dee630609800033b.bindPopup(popup_33f6fc5e66efc0d2f67e5ae3db98b233)\n",
       "        ;\n",
       "\n",
       "        \n",
       "    \n",
       "    \n",
       "            var marker_af95795d07dbf48620940d733868fb95 = L.marker(\n",
       "                [12.9706238, 77.5990824],\n",
       "                {}\n",
       "            ).addTo(map_d0a5d0e3f13fc654cac50ac8d91d658d);\n",
       "        \n",
       "    \n",
       "        var popup_d2f1444a5176ef0b245b3e63eed5cebd = L.popup({&quot;maxWidth&quot;: &quot;100%&quot;});\n",
       "\n",
       "        \n",
       "            \n",
       "                var html_af847aef0db6e1cdb9ee72adef7a4359 = $(`&lt;div id=&quot;html_af847aef0db6e1cdb9ee72adef7a4359&quot; style=&quot;width: 100.0%; height: 100.0%;&quot;&gt; O2 Spa // Score : 0.00840064620355412 &lt;/div&gt;`)[0];\n",
       "                popup_d2f1444a5176ef0b245b3e63eed5cebd.setContent(html_af847aef0db6e1cdb9ee72adef7a4359);\n",
       "            \n",
       "        \n",
       "\n",
       "        marker_af95795d07dbf48620940d733868fb95.bindPopup(popup_d2f1444a5176ef0b245b3e63eed5cebd)\n",
       "        ;\n",
       "\n",
       "        \n",
       "    \n",
       "    \n",
       "            var marker_abca4b072d90c54fea4e376b0698c1b5 = L.marker(\n",
       "                [13.1696095, 77.7376035],\n",
       "                {}\n",
       "            ).addTo(map_d0a5d0e3f13fc654cac50ac8d91d658d);\n",
       "        \n",
       "    \n",
       "        var popup_d5f6af838cd58f9dba6302ebe319077b = L.popup({&quot;maxWidth&quot;: &quot;100%&quot;});\n",
       "\n",
       "        \n",
       "            \n",
       "                var html_ec3491e9131b461557346f7b72d13da5 = $(`&lt;div id=&quot;html_ec3491e9131b461557346f7b72d13da5&quot; style=&quot;width: 100.0%; height: 100.0%;&quot;&gt; Kavade // Score : 0.006462035541195477 &lt;/div&gt;`)[0];\n",
       "                popup_d5f6af838cd58f9dba6302ebe319077b.setContent(html_ec3491e9131b461557346f7b72d13da5);\n",
       "            \n",
       "        \n",
       "\n",
       "        marker_abca4b072d90c54fea4e376b0698c1b5.bindPopup(popup_d5f6af838cd58f9dba6302ebe319077b)\n",
       "        ;\n",
       "\n",
       "        \n",
       "    \n",
       "    \n",
       "            var marker_ef0b8b301e07a7043906f1da515d268e = L.marker(\n",
       "                [13.0408775, 77.5183749],\n",
       "                {}\n",
       "            ).addTo(map_d0a5d0e3f13fc654cac50ac8d91d658d);\n",
       "        \n",
       "    \n",
       "        var popup_09d04f4ace364cc1f5385dc7f56bee78 = L.popup({&quot;maxWidth&quot;: &quot;100%&quot;});\n",
       "\n",
       "        \n",
       "            \n",
       "                var html_59aa517c677a2725fa56c65a35f54f53 = $(`&lt;div id=&quot;html_59aa517c677a2725fa56c65a35f54f53&quot; style=&quot;width: 100.0%; height: 100.0%;&quot;&gt; Rockline Cinemas // Score : 0.008481421647819063 &lt;/div&gt;`)[0];\n",
       "                popup_09d04f4ace364cc1f5385dc7f56bee78.setContent(html_59aa517c677a2725fa56c65a35f54f53);\n",
       "            \n",
       "        \n",
       "\n",
       "        marker_ef0b8b301e07a7043906f1da515d268e.bindPopup(popup_09d04f4ace364cc1f5385dc7f56bee78)\n",
       "        ;\n",
       "\n",
       "        \n",
       "    \n",
       "    \n",
       "            var marker_2c01fced0e064138497775d11a01890a = L.marker(\n",
       "                [13.0491451, 77.593229],\n",
       "                {}\n",
       "            ).addTo(map_d0a5d0e3f13fc654cac50ac8d91d658d);\n",
       "        \n",
       "    \n",
       "        var popup_4d77647bbb0805a59f6b07e8890cffb6 = L.popup({&quot;maxWidth&quot;: &quot;100%&quot;});\n",
       "\n",
       "        \n",
       "            \n",
       "                var html_344b4808f634c86be932165b2118b3a0 = $(`&lt;div id=&quot;html_344b4808f634c86be932165b2118b3a0&quot; style=&quot;width: 100.0%; height: 100.0%;&quot;&gt; Flyover Drinkery // Score : 0.0014539579967689823 &lt;/div&gt;`)[0];\n",
       "                popup_4d77647bbb0805a59f6b07e8890cffb6.setContent(html_344b4808f634c86be932165b2118b3a0);\n",
       "            \n",
       "        \n",
       "\n",
       "        marker_2c01fced0e064138497775d11a01890a.bindPopup(popup_4d77647bbb0805a59f6b07e8890cffb6)\n",
       "        ;\n",
       "\n",
       "        \n",
       "    \n",
       "    \n",
       "            var marker_b3d47196a236009a484b86add35b6c6c = L.marker(\n",
       "                [12.9793207, 77.6400999],\n",
       "                {}\n",
       "            ).addTo(map_d0a5d0e3f13fc654cac50ac8d91d658d);\n",
       "        \n",
       "    \n",
       "        var popup_d6c0d02239a6ba9a56912f0acbf991ed = L.popup({&quot;maxWidth&quot;: &quot;100%&quot;});\n",
       "\n",
       "        \n",
       "            \n",
       "                var html_de4b9b255b34d37a3a5ac4ae4bc2fc4f = $(`&lt;div id=&quot;html_de4b9b255b34d37a3a5ac4ae4bc2fc4f&quot; style=&quot;width: 100.0%; height: 100.0%;&quot;&gt; Bangalore &amp; Beyond // Score : 0.013731825525040387 &lt;/div&gt;`)[0];\n",
       "                popup_d6c0d02239a6ba9a56912f0acbf991ed.setContent(html_de4b9b255b34d37a3a5ac4ae4bc2fc4f);\n",
       "            \n",
       "        \n",
       "\n",
       "        marker_b3d47196a236009a484b86add35b6c6c.bindPopup(popup_d6c0d02239a6ba9a56912f0acbf991ed)\n",
       "        ;\n",
       "\n",
       "        \n",
       "    \n",
       "    \n",
       "            var marker_d245bf99e82207b1590c55aaf749be7c = L.marker(\n",
       "                [12.7139079, 77.5712632],\n",
       "                {}\n",
       "            ).addTo(map_d0a5d0e3f13fc654cac50ac8d91d658d);\n",
       "        \n",
       "    \n",
       "        var popup_638d973b6d0db3c9f016439a375cb442 = L.popup({&quot;maxWidth&quot;: &quot;100%&quot;});\n",
       "\n",
       "        \n",
       "            \n",
       "                var html_038f6fe668f47aa9aadb74f7f7ef6551 = $(`&lt;div id=&quot;html_038f6fe668f47aa9aadb74f7f7ef6551&quot; style=&quot;width: 100.0%; height: 100.0%;&quot;&gt; Rd&#x27;s Nature Retreat // Score : 0.04127625201938611 &lt;/div&gt;`)[0];\n",
       "                popup_638d973b6d0db3c9f016439a375cb442.setContent(html_038f6fe668f47aa9aadb74f7f7ef6551);\n",
       "            \n",
       "        \n",
       "\n",
       "        marker_d245bf99e82207b1590c55aaf749be7c.bindPopup(popup_638d973b6d0db3c9f016439a375cb442)\n",
       "        ;\n",
       "\n",
       "        \n",
       "    \n",
       "    \n",
       "            var marker_a3f6be5a7178be607b93ca1ab1066bd8 = L.marker(\n",
       "                [12.9508248, 77.6236033],\n",
       "                {}\n",
       "            ).addTo(map_d0a5d0e3f13fc654cac50ac8d91d658d);\n",
       "        \n",
       "    \n",
       "        var popup_3d4b6515b11d729d587c763a05d8438a = L.popup({&quot;maxWidth&quot;: &quot;100%&quot;});\n",
       "\n",
       "        \n",
       "            \n",
       "                var html_12e67e3eb08dca41785b763578f2f5cc = $(`&lt;div id=&quot;html_12e67e3eb08dca41785b763578f2f5cc&quot; style=&quot;width: 100.0%; height: 100.0%;&quot;&gt; Bangalore Magic // Score : 0.004846526655896607 &lt;/div&gt;`)[0];\n",
       "                popup_3d4b6515b11d729d587c763a05d8438a.setContent(html_12e67e3eb08dca41785b763578f2f5cc);\n",
       "            \n",
       "        \n",
       "\n",
       "        marker_a3f6be5a7178be607b93ca1ab1066bd8.bindPopup(popup_3d4b6515b11d729d587c763a05d8438a)\n",
       "        ;\n",
       "\n",
       "        \n",
       "    \n",
       "    \n",
       "            var marker_d4eaec0c95b298bc9b0fdda94f125934 = L.marker(\n",
       "                [12.9652544, 77.5956151],\n",
       "                {}\n",
       "            ).addTo(map_d0a5d0e3f13fc654cac50ac8d91d658d);\n",
       "        \n",
       "    \n",
       "        var popup_7d63007e359ef41d158bdfb058bf892a = L.popup({&quot;maxWidth&quot;: &quot;100%&quot;});\n",
       "\n",
       "        \n",
       "            \n",
       "                var html_24418b8acecdbc342424aa02dc508b68 = $(`&lt;div id=&quot;html_24418b8acecdbc342424aa02dc508b68&quot; style=&quot;width: 100.0%; height: 100.0%;&quot;&gt; Bengaluru Lights // Score : 0.004038772213247173 &lt;/div&gt;`)[0];\n",
       "                popup_7d63007e359ef41d158bdfb058bf892a.setContent(html_24418b8acecdbc342424aa02dc508b68);\n",
       "            \n",
       "        \n",
       "\n",
       "        marker_d4eaec0c95b298bc9b0fdda94f125934.bindPopup(popup_7d63007e359ef41d158bdfb058bf892a)\n",
       "        ;\n",
       "\n",
       "        \n",
       "    \n",
       "    \n",
       "            var marker_691234f744833980596bd968ac90e425 = L.marker(\n",
       "                [12.9882933, 77.5561065],\n",
       "                {}\n",
       "            ).addTo(map_d0a5d0e3f13fc654cac50ac8d91d658d);\n",
       "        \n",
       "    \n",
       "        var popup_2a1951f835f56256a71169401dcc7533 = L.popup({&quot;maxWidth&quot;: &quot;100%&quot;});\n",
       "\n",
       "        \n",
       "            \n",
       "                var html_71f3ade559fd0ec9ff43227b382a9c16 = $(`&lt;div id=&quot;html_71f3ade559fd0ec9ff43227b382a9c16&quot; style=&quot;width: 100.0%; height: 100.0%;&quot;&gt; Bangalore Wellness // Score : 0.0016155088852988692 &lt;/div&gt;`)[0];\n",
       "                popup_2a1951f835f56256a71169401dcc7533.setContent(html_71f3ade559fd0ec9ff43227b382a9c16);\n",
       "            \n",
       "        \n",
       "\n",
       "        marker_691234f744833980596bd968ac90e425.bindPopup(popup_2a1951f835f56256a71169401dcc7533)\n",
       "        ;\n",
       "\n",
       "        \n",
       "    \n",
       "    \n",
       "            var marker_5b51c50825f1e0e47ab9965533db59a4 = L.marker(\n",
       "                [12.98211665, 77.63397719793734],\n",
       "                {}\n",
       "            ).addTo(map_d0a5d0e3f13fc654cac50ac8d91d658d);\n",
       "        \n",
       "    \n",
       "        var popup_59f21b577314f429ce578feff335766f = L.popup({&quot;maxWidth&quot;: &quot;100%&quot;});\n",
       "\n",
       "        \n",
       "            \n",
       "                var html_c6c1a64a4c78f11460b036a1fccfc65c = $(`&lt;div id=&quot;html_c6c1a64a4c78f11460b036a1fccfc65c&quot; style=&quot;width: 100.0%; height: 100.0%;&quot;&gt; The Bull Ring Arena // Score : 0.0029079159935379646 &lt;/div&gt;`)[0];\n",
       "                popup_59f21b577314f429ce578feff335766f.setContent(html_c6c1a64a4c78f11460b036a1fccfc65c);\n",
       "            \n",
       "        \n",
       "\n",
       "        marker_5b51c50825f1e0e47ab9965533db59a4.bindPopup(popup_59f21b577314f429ce578feff335766f)\n",
       "        ;\n",
       "\n",
       "        \n",
       "    \n",
       "    \n",
       "            var marker_f78b33efa5420d19396454394ba63782 = L.marker(\n",
       "                [12.970168, 77.6382269],\n",
       "                {}\n",
       "            ).addTo(map_d0a5d0e3f13fc654cac50ac8d91d658d);\n",
       "        \n",
       "    \n",
       "        var popup_e255c40dd006b75b17ccf4696f36ffe3 = L.popup({&quot;maxWidth&quot;: &quot;100%&quot;});\n",
       "\n",
       "        \n",
       "            \n",
       "                var html_76cda4db423c5642559cd33abbe7d28e = $(`&lt;div id=&quot;html_76cda4db423c5642559cd33abbe7d28e&quot; style=&quot;width: 100.0%; height: 100.0%;&quot;&gt; Body Raaga // Score : 0.0029079159935379646 &lt;/div&gt;`)[0];\n",
       "                popup_e255c40dd006b75b17ccf4696f36ffe3.setContent(html_76cda4db423c5642559cd33abbe7d28e);\n",
       "            \n",
       "        \n",
       "\n",
       "        marker_f78b33efa5420d19396454394ba63782.bindPopup(popup_e255c40dd006b75b17ccf4696f36ffe3)\n",
       "        ;\n",
       "\n",
       "        \n",
       "    \n",
       "    \n",
       "            var marker_eaaf8eb89135f2896cbd54c7d6d97164 = L.marker(\n",
       "                [12.974507, 77.5968079106195],\n",
       "                {}\n",
       "            ).addTo(map_d0a5d0e3f13fc654cac50ac8d91d658d);\n",
       "        \n",
       "    \n",
       "        var popup_aea19dd4935345707de93fac3fb6b857 = L.popup({&quot;maxWidth&quot;: &quot;100%&quot;});\n",
       "\n",
       "        \n",
       "            \n",
       "                var html_bce974fcec0d9e65d93d0d9924e98167 = $(`&lt;div id=&quot;html_bce974fcec0d9e65d93d0d9924e98167&quot; style=&quot;width: 100.0%; height: 100.0%;&quot;&gt; Museum of Art and Photography // Score : 0.0008077544426494346 &lt;/div&gt;`)[0];\n",
       "                popup_aea19dd4935345707de93fac3fb6b857.setContent(html_bce974fcec0d9e65d93d0d9924e98167);\n",
       "            \n",
       "        \n",
       "\n",
       "        marker_eaaf8eb89135f2896cbd54c7d6d97164.bindPopup(popup_aea19dd4935345707de93fac3fb6b857)\n",
       "        ;\n",
       "\n",
       "        \n",
       "    \n",
       "    \n",
       "            var marker_642bbc86c377525afdcb0837cd333da7 = L.marker(\n",
       "                [12.9519766, 77.6986262028681],\n",
       "                {}\n",
       "            ).addTo(map_d0a5d0e3f13fc654cac50ac8d91d658d);\n",
       "        \n",
       "    \n",
       "        var popup_7ee14ea8bb0f8d6f61ce4e24e5b8dc66 = L.popup({&quot;maxWidth&quot;: &quot;100%&quot;});\n",
       "\n",
       "        \n",
       "            \n",
       "                var html_990e449cb6fd063d83272f19f231a7e5 = $(`&lt;div id=&quot;html_990e449cb6fd063d83272f19f231a7e5&quot; style=&quot;width: 100.0%; height: 100.0%;&quot;&gt; Innovative Multiplex // Score : 0.00678513731825525 &lt;/div&gt;`)[0];\n",
       "                popup_7ee14ea8bb0f8d6f61ce4e24e5b8dc66.setContent(html_990e449cb6fd063d83272f19f231a7e5);\n",
       "            \n",
       "        \n",
       "\n",
       "        marker_642bbc86c377525afdcb0837cd333da7.bindPopup(popup_7ee14ea8bb0f8d6f61ce4e24e5b8dc66)\n",
       "        ;\n",
       "\n",
       "        \n",
       "    \n",
       "    \n",
       "            var marker_d20d189dc8ba42a2ae9e994d2f745f2f = L.marker(\n",
       "                [12.9713364, 77.61411],\n",
       "                {}\n",
       "            ).addTo(map_d0a5d0e3f13fc654cac50ac8d91d658d);\n",
       "        \n",
       "    \n",
       "        var popup_374029b94e62ff8baf74105d88c5a870 = L.popup({&quot;maxWidth&quot;: &quot;100%&quot;});\n",
       "\n",
       "        \n",
       "            \n",
       "                var html_e6810e0658de46cffe85db8a1a788f96 = $(`&lt;div id=&quot;html_e6810e0658de46cffe85db8a1a788f96&quot; style=&quot;width: 100.0%; height: 100.0%;&quot;&gt; Rezwan Razack Museum of Indian Paper Money // Score : 0.0008077544426494346 &lt;/div&gt;`)[0];\n",
       "                popup_374029b94e62ff8baf74105d88c5a870.setContent(html_e6810e0658de46cffe85db8a1a788f96);\n",
       "            \n",
       "        \n",
       "\n",
       "        marker_d20d189dc8ba42a2ae9e994d2f745f2f.bindPopup(popup_374029b94e62ff8baf74105d88c5a870)\n",
       "        ;\n",
       "\n",
       "        \n",
       "    \n",
       "    \n",
       "            var marker_dec034c1751bd3b42799a31c801f5172 = L.marker(\n",
       "                [12.926081, 77.6254085],\n",
       "                {}\n",
       "            ).addTo(map_d0a5d0e3f13fc654cac50ac8d91d658d);\n",
       "        \n",
       "    \n",
       "        var popup_cdf58341f21c32a12991e85706bf33ac = L.popup({&quot;maxWidth&quot;: &quot;100%&quot;});\n",
       "\n",
       "        \n",
       "            \n",
       "                var html_eb46fc9b82d857664ca784b137a53b04 = $(`&lt;div id=&quot;html_eb46fc9b82d857664ca784b137a53b04&quot; style=&quot;width: 100.0%; height: 100.0%;&quot;&gt; Asian Woman Spa // Score : 0.0019386106623586429 &lt;/div&gt;`)[0];\n",
       "                popup_cdf58341f21c32a12991e85706bf33ac.setContent(html_eb46fc9b82d857664ca784b137a53b04);\n",
       "            \n",
       "        \n",
       "\n",
       "        marker_dec034c1751bd3b42799a31c801f5172.bindPopup(popup_cdf58341f21c32a12991e85706bf33ac)\n",
       "        ;\n",
       "\n",
       "        \n",
       "    \n",
       "    \n",
       "            var marker_44cef944f329f9a9ac439b1f8f2b5d55 = L.marker(\n",
       "                [12.9825626, 77.607495],\n",
       "                {}\n",
       "            ).addTo(map_d0a5d0e3f13fc654cac50ac8d91d658d);\n",
       "        \n",
       "    \n",
       "        var popup_b854bf35f989157cefefa4ce6df700a5 = L.popup({&quot;maxWidth&quot;: &quot;100%&quot;});\n",
       "\n",
       "        \n",
       "            \n",
       "                var html_61addf731cc5b4ca9839223e16ea2455 = $(`&lt;div id=&quot;html_61addf731cc5b4ca9839223e16ea2455&quot; style=&quot;width: 100.0%; height: 100.0%;&quot;&gt; Manyavar // Score : 0.006219709208400646 &lt;/div&gt;`)[0];\n",
       "                popup_b854bf35f989157cefefa4ce6df700a5.setContent(html_61addf731cc5b4ca9839223e16ea2455);\n",
       "            \n",
       "        \n",
       "\n",
       "        marker_44cef944f329f9a9ac439b1f8f2b5d55.bindPopup(popup_b854bf35f989157cefefa4ce6df700a5)\n",
       "        ;\n",
       "\n",
       "        \n",
       "    \n",
       "    \n",
       "            var marker_cb6513b0c6dfb6965c03d6235af2ad5e = L.marker(\n",
       "                [13.0104176, 77.6432121],\n",
       "                {}\n",
       "            ).addTo(map_d0a5d0e3f13fc654cac50ac8d91d658d);\n",
       "        \n",
       "    \n",
       "        var popup_8d949085b92e5abff26765f2fe499a1a = L.popup({&quot;maxWidth&quot;: &quot;100%&quot;});\n",
       "\n",
       "        \n",
       "            \n",
       "                var html_e256c680ae256b6aec2fef71f6e8ac47 = $(`&lt;div id=&quot;html_e256c680ae256b6aec2fef71f6e8ac47&quot; style=&quot;width: 100.0%; height: 100.0%;&quot;&gt; Shaakya Salon &amp; Spa // Score : 0.0008077544426494346 &lt;/div&gt;`)[0];\n",
       "                popup_8d949085b92e5abff26765f2fe499a1a.setContent(html_e256c680ae256b6aec2fef71f6e8ac47);\n",
       "            \n",
       "        \n",
       "\n",
       "        marker_cb6513b0c6dfb6965c03d6235af2ad5e.bindPopup(popup_8d949085b92e5abff26765f2fe499a1a)\n",
       "        ;\n",
       "\n",
       "        \n",
       "    \n",
       "    \n",
       "            var marker_344b2e5d82757f734863b11393659296 = L.marker(\n",
       "                [12.9882162, 77.5558598],\n",
       "                {}\n",
       "            ).addTo(map_d0a5d0e3f13fc654cac50ac8d91d658d);\n",
       "        \n",
       "    \n",
       "        var popup_c3ca2113d71ef9600706a4000c7bcf2a = L.popup({&quot;maxWidth&quot;: &quot;100%&quot;});\n",
       "\n",
       "        \n",
       "            \n",
       "                var html_859f5206383ae5253e985914a929ea0f = $(`&lt;div id=&quot;html_859f5206383ae5253e985914a929ea0f&quot; style=&quot;width: 100.0%; height: 100.0%;&quot;&gt; Sudha Book House // Score : 0.0008077544426494346 &lt;/div&gt;`)[0];\n",
       "                popup_c3ca2113d71ef9600706a4000c7bcf2a.setContent(html_859f5206383ae5253e985914a929ea0f);\n",
       "            \n",
       "        \n",
       "\n",
       "        marker_344b2e5d82757f734863b11393659296.bindPopup(popup_c3ca2113d71ef9600706a4000c7bcf2a)\n",
       "        ;\n",
       "\n",
       "        \n",
       "    \n",
       "    \n",
       "            var marker_1951f562ca8bb75837a2545dcff04ba3 = L.marker(\n",
       "                [12.9641916, 77.6395453],\n",
       "                {}\n",
       "            ).addTo(map_d0a5d0e3f13fc654cac50ac8d91d658d);\n",
       "        \n",
       "    \n",
       "        var popup_efda15d3bdda3a7fba7b82dfa46da50d = L.popup({&quot;maxWidth&quot;: &quot;100%&quot;});\n",
       "\n",
       "        \n",
       "            \n",
       "                var html_2437a4a0337406bbc58d95cb5fa09dff = $(`&lt;div id=&quot;html_2437a4a0337406bbc58d95cb5fa09dff&quot; style=&quot;width: 100.0%; height: 100.0%;&quot;&gt; The Purple Turtles // Score : 0.005088852988691438 &lt;/div&gt;`)[0];\n",
       "                popup_efda15d3bdda3a7fba7b82dfa46da50d.setContent(html_2437a4a0337406bbc58d95cb5fa09dff);\n",
       "            \n",
       "        \n",
       "\n",
       "        marker_1951f562ca8bb75837a2545dcff04ba3.bindPopup(popup_efda15d3bdda3a7fba7b82dfa46da50d)\n",
       "        ;\n",
       "\n",
       "        \n",
       "    \n",
       "    \n",
       "            var marker_3bfdc6ac788e59f6c948859cb08de885 = L.marker(\n",
       "                [12.9781775, 77.6422383],\n",
       "                {}\n",
       "            ).addTo(map_d0a5d0e3f13fc654cac50ac8d91d658d);\n",
       "        \n",
       "    \n",
       "        var popup_561c9a944f6c1754b8d114bffa7a4390 = L.popup({&quot;maxWidth&quot;: &quot;100%&quot;});\n",
       "\n",
       "        \n",
       "            \n",
       "                var html_82cc62d7ed2078da45969a7fb788e953 = $(`&lt;div id=&quot;html_82cc62d7ed2078da45969a7fb788e953&quot; style=&quot;width: 100.0%; height: 100.0%;&quot;&gt; Chumbak // Score : 0.0008077544426494346 &lt;/div&gt;`)[0];\n",
       "                popup_561c9a944f6c1754b8d114bffa7a4390.setContent(html_82cc62d7ed2078da45969a7fb788e953);\n",
       "            \n",
       "        \n",
       "\n",
       "        marker_3bfdc6ac788e59f6c948859cb08de885.bindPopup(popup_561c9a944f6c1754b8d114bffa7a4390)\n",
       "        ;\n",
       "\n",
       "        \n",
       "    \n",
       "    \n",
       "            var marker_f6cc75b7999314b3533b3dfb26152156 = L.marker(\n",
       "                [12.9169098, 77.5826789],\n",
       "                {}\n",
       "            ).addTo(map_d0a5d0e3f13fc654cac50ac8d91d658d);\n",
       "        \n",
       "    \n",
       "        var popup_3c142223685c680c6119ddfe36355e8e = L.popup({&quot;maxWidth&quot;: &quot;100%&quot;});\n",
       "\n",
       "        \n",
       "            \n",
       "                var html_2af6d96dd19a2d349797067c304683d7 = $(`&lt;div id=&quot;html_2af6d96dd19a2d349797067c304683d7&quot; style=&quot;width: 100.0%; height: 100.0%;&quot;&gt; Wicked Ride // Score : 0.03336025848142165 &lt;/div&gt;`)[0];\n",
       "                popup_3c142223685c680c6119ddfe36355e8e.setContent(html_2af6d96dd19a2d349797067c304683d7);\n",
       "            \n",
       "        \n",
       "\n",
       "        marker_f6cc75b7999314b3533b3dfb26152156.bindPopup(popup_3c142223685c680c6119ddfe36355e8e)\n",
       "        ;\n",
       "\n",
       "        \n",
       "    \n",
       "    \n",
       "            var marker_1a3f6d9005ed2a66260e36eecc2f2d60 = L.marker(\n",
       "                [13.0237536, 77.6293847],\n",
       "                {}\n",
       "            ).addTo(map_d0a5d0e3f13fc654cac50ac8d91d658d);\n",
       "        \n",
       "    \n",
       "        var popup_ff8968741d25d90773fc5e9acb12f101 = L.popup({&quot;maxWidth&quot;: &quot;100%&quot;});\n",
       "\n",
       "        \n",
       "            \n",
       "                var html_12e8cfd0897e17483a1679913e77b19c = $(`&lt;div id=&quot;html_12e8cfd0897e17483a1679913e77b19c&quot; style=&quot;width: 100.0%; height: 100.0%;&quot;&gt; Fuller Life Wellness World // Score : 0.0012924071082390954 &lt;/div&gt;`)[0];\n",
       "                popup_ff8968741d25d90773fc5e9acb12f101.setContent(html_12e8cfd0897e17483a1679913e77b19c);\n",
       "            \n",
       "        \n",
       "\n",
       "        marker_1a3f6d9005ed2a66260e36eecc2f2d60.bindPopup(popup_ff8968741d25d90773fc5e9acb12f101)\n",
       "        ;\n",
       "\n",
       "        \n",
       "    \n",
       "    \n",
       "            var marker_76a5fd46b8d925d306c5d0b78f0cbb6a = L.marker(\n",
       "                [12.9725478, 77.6402224],\n",
       "                {}\n",
       "            ).addTo(map_d0a5d0e3f13fc654cac50ac8d91d658d);\n",
       "        \n",
       "    \n",
       "        var popup_0469b951b6d3634df5752eff7e269c1d = L.popup({&quot;maxWidth&quot;: &quot;100%&quot;});\n",
       "\n",
       "        \n",
       "            \n",
       "                var html_315839de326b96369b7d4cfd116eee5f = $(`&lt;div id=&quot;html_315839de326b96369b7d4cfd116eee5f&quot; style=&quot;width: 100.0%; height: 100.0%;&quot;&gt; Pedal in Tandem // Score : 0.0008077544426494346 &lt;/div&gt;`)[0];\n",
       "                popup_0469b951b6d3634df5752eff7e269c1d.setContent(html_315839de326b96369b7d4cfd116eee5f);\n",
       "            \n",
       "        \n",
       "\n",
       "        marker_76a5fd46b8d925d306c5d0b78f0cbb6a.bindPopup(popup_0469b951b6d3634df5752eff7e269c1d)\n",
       "        ;\n",
       "\n",
       "        \n",
       "    \n",
       "    \n",
       "            var marker_c1129e58abf9b16d8b44f870e283ac7b = L.marker(\n",
       "                [12.970143, 77.6477134],\n",
       "                {}\n",
       "            ).addTo(map_d0a5d0e3f13fc654cac50ac8d91d658d);\n",
       "        \n",
       "    \n",
       "        var popup_440acd5f89e03b2718f606145777cadb = L.popup({&quot;maxWidth&quot;: &quot;100%&quot;});\n",
       "\n",
       "        \n",
       "            \n",
       "                var html_f0df9b937e34367ba2f854176c4f1b45 = $(`&lt;div id=&quot;html_f0df9b937e34367ba2f854176c4f1b45&quot; style=&quot;width: 100.0%; height: 100.0%;&quot;&gt; a1000yoga // Score : 0.0012924071082390954 &lt;/div&gt;`)[0];\n",
       "                popup_440acd5f89e03b2718f606145777cadb.setContent(html_f0df9b937e34367ba2f854176c4f1b45);\n",
       "            \n",
       "        \n",
       "\n",
       "        marker_c1129e58abf9b16d8b44f870e283ac7b.bindPopup(popup_440acd5f89e03b2718f606145777cadb)\n",
       "        ;\n",
       "\n",
       "        \n",
       "    \n",
       "    \n",
       "            var marker_88e1faa9e26922971e6dd0a7e0bdd2dc = L.marker(\n",
       "                [12.9290557, 77.5914755],\n",
       "                {}\n",
       "            ).addTo(map_d0a5d0e3f13fc654cac50ac8d91d658d);\n",
       "        \n",
       "    \n",
       "        var popup_c54e11d63571bd1bacdba642c75f356f = L.popup({&quot;maxWidth&quot;: &quot;100%&quot;});\n",
       "\n",
       "        \n",
       "            \n",
       "                var html_28ca7616fbe72903150c25092eab3fd4 = $(`&lt;div id=&quot;html_28ca7616fbe72903150c25092eab3fd4&quot; style=&quot;width: 100.0%; height: 100.0%;&quot;&gt; Vriddhi Jayanagar // Score : 0.0012924071082390954 &lt;/div&gt;`)[0];\n",
       "                popup_c54e11d63571bd1bacdba642c75f356f.setContent(html_28ca7616fbe72903150c25092eab3fd4);\n",
       "            \n",
       "        \n",
       "\n",
       "        marker_88e1faa9e26922971e6dd0a7e0bdd2dc.bindPopup(popup_c54e11d63571bd1bacdba642c75f356f)\n",
       "        ;\n",
       "\n",
       "        \n",
       "    \n",
       "    \n",
       "            var marker_109519d18a2ed03c95e541443b32984d = L.marker(\n",
       "                [12.9290557, 77.5914755],\n",
       "                {}\n",
       "            ).addTo(map_d0a5d0e3f13fc654cac50ac8d91d658d);\n",
       "        \n",
       "    \n",
       "        var popup_3bed88a1546f3f424aa892c06a235d30 = L.popup({&quot;maxWidth&quot;: &quot;100%&quot;});\n",
       "\n",
       "        \n",
       "            \n",
       "                var html_7cb17023a2191d596fc34604b22b9fc0 = $(`&lt;div id=&quot;html_7cb17023a2191d596fc34604b22b9fc0&quot; style=&quot;width: 100.0%; height: 100.0%;&quot;&gt; Vriddhi // Score : 0.0012924071082390954 &lt;/div&gt;`)[0];\n",
       "                popup_3bed88a1546f3f424aa892c06a235d30.setContent(html_7cb17023a2191d596fc34604b22b9fc0);\n",
       "            \n",
       "        \n",
       "\n",
       "        marker_109519d18a2ed03c95e541443b32984d.bindPopup(popup_3bed88a1546f3f424aa892c06a235d30)\n",
       "        ;\n",
       "\n",
       "        \n",
       "    \n",
       "&lt;/script&gt;\n",
       "&lt;/html&gt;\" style=\"position:absolute;width:100%;height:100%;left:0;top:0;border:none !important;\" allowfullscreen webkitallowfullscreen mozallowfullscreen></iframe></div></div>"
      ],
      "text/plain": [
       "<folium.folium.Map at 0x7fd7c1f2d6d0>"
      ]
     },
     "execution_count": 10,
     "metadata": {},
     "output_type": "execute_result"
    }
   ],
   "source": [
    "MAP"
   ]
  },
  {
   "cell_type": "code",
   "execution_count": null,
   "id": "8232c816-8531-49f4-b826-e0b938df7ce6",
   "metadata": {},
   "outputs": [],
   "source": []
  },
  {
   "cell_type": "markdown",
   "id": "398e5085-d4c7-4d70-8739-204e36b1c953",
   "metadata": {},
   "source": [
    "# Genetic Algo tool"
   ]
  },
  {
   "cell_type": "markdown",
   "id": "49440d8f-6a91-4bbe-98a2-704c291b7382",
   "metadata": {},
   "source": [
    "### Creator"
   ]
  },
  {
   "cell_type": "code",
   "execution_count": 11,
   "id": "5f47fd61-4e1b-467c-8879-158e8de92641",
   "metadata": {
    "execution": {
     "iopub.execute_input": "2023-07-07T18:49:02.821390Z",
     "iopub.status.busy": "2023-07-07T18:49:02.821274Z",
     "iopub.status.idle": "2023-07-07T18:49:02.823876Z",
     "shell.execute_reply": "2023-07-07T18:49:02.823488Z",
     "shell.execute_reply.started": "2023-07-07T18:49:02.821377Z"
    }
   },
   "outputs": [],
   "source": [
    "creator.create(\"FitnessMulti\", base.Fitness, weights=(-1.0,1.0))\n",
    "creator.create(\"Individual\", list, fitness=creator.FitnessMulti)"
   ]
  },
  {
   "cell_type": "markdown",
   "id": "b5f2d660-59dd-4d35-8aab-5c58ca951c6e",
   "metadata": {},
   "source": [
    "### Toolbox"
   ]
  },
  {
   "cell_type": "code",
   "execution_count": 12,
   "id": "b4cb514f-7f47-4dc9-a20c-d76a6fb5e8f6",
   "metadata": {
    "execution": {
     "iopub.execute_input": "2023-07-07T18:49:02.824430Z",
     "iopub.status.busy": "2023-07-07T18:49:02.824305Z",
     "iopub.status.idle": "2023-07-07T18:49:02.827313Z",
     "shell.execute_reply": "2023-07-07T18:49:02.826975Z",
     "shell.execute_reply.started": "2023-07-07T18:49:02.824417Z"
    }
   },
   "outputs": [],
   "source": [
    "toolbox = base.Toolbox()"
   ]
  },
  {
   "cell_type": "code",
   "execution_count": 13,
   "id": "5990325c-3aec-4dac-aee8-5f16f1f4e7fb",
   "metadata": {
    "execution": {
     "iopub.execute_input": "2023-07-07T18:49:02.827811Z",
     "iopub.status.busy": "2023-07-07T18:49:02.827695Z",
     "iopub.status.idle": "2023-07-07T18:49:02.830130Z",
     "shell.execute_reply": "2023-07-07T18:49:02.829741Z",
     "shell.execute_reply.started": "2023-07-07T18:49:02.827798Z"
    }
   },
   "outputs": [],
   "source": [
    "# Attribute generator \n",
    "N_place= 7\n",
    "toolbox.register(\"index\", np.random.choice, len(df_loc), N_place, replace=False) # choose 5 spots"
   ]
  },
  {
   "cell_type": "code",
   "execution_count": 14,
   "id": "98c1f951-ca98-4127-84f9-90af179b88e6",
   "metadata": {
    "execution": {
     "iopub.execute_input": "2023-07-07T18:49:02.833190Z",
     "iopub.status.busy": "2023-07-07T18:49:02.832607Z",
     "iopub.status.idle": "2023-07-07T18:49:02.835941Z",
     "shell.execute_reply": "2023-07-07T18:49:02.835450Z",
     "shell.execute_reply.started": "2023-07-07T18:49:02.833172Z"
    }
   },
   "outputs": [],
   "source": [
    "toolbox.register(\"individual\", tools.initIterate, creator.Individual, toolbox.index)\n",
    "toolbox.register(\"population\", tools.initRepeat, list, toolbox.individual)"
   ]
  },
  {
   "cell_type": "code",
   "execution_count": 15,
   "id": "afc0877b-58b4-4454-b5a3-5c2e2c997518",
   "metadata": {
    "execution": {
     "iopub.execute_input": "2023-07-07T18:49:02.836663Z",
     "iopub.status.busy": "2023-07-07T18:49:02.836494Z",
     "iopub.status.idle": "2023-07-07T18:49:02.840085Z",
     "shell.execute_reply": "2023-07-07T18:49:02.839640Z",
     "shell.execute_reply.started": "2023-07-07T18:49:02.836647Z"
    }
   },
   "outputs": [
    {
     "data": {
      "text/plain": [
       "[90, 48, 39, 79, 44, 114, 1]"
      ]
     },
     "execution_count": 15,
     "metadata": {},
     "output_type": "execute_result"
    }
   ],
   "source": [
    "ind = toolbox.individual()\n",
    "ind"
   ]
  },
  {
   "cell_type": "markdown",
   "id": "805a8ab1-098c-4fde-93f7-519bff9e3753",
   "metadata": {},
   "source": [
    "### The Evaluation Function\n",
    "objective function 1. total distance -> minimun  & \n",
    "objective function 2. total score -> maximum"
   ]
  },
  {
   "cell_type": "code",
   "execution_count": 16,
   "id": "5b9166f9-6a27-47fc-9553-dd3634b1e498",
   "metadata": {
    "execution": {
     "iopub.execute_input": "2023-07-07T18:49:02.841094Z",
     "iopub.status.busy": "2023-07-07T18:49:02.840739Z",
     "iopub.status.idle": "2023-07-07T18:49:02.843746Z",
     "shell.execute_reply": "2023-07-07T18:49:02.843298Z",
     "shell.execute_reply.started": "2023-07-07T18:49:02.841077Z"
    }
   },
   "outputs": [],
   "source": [
    "def create_tour(individual):\n",
    "    return [(df_loc.iloc[i].latitude, df_loc.iloc[i].longitude) for i in individual]"
   ]
  },
  {
   "cell_type": "code",
   "execution_count": 17,
   "id": "3e5ece6a-6387-4a7d-8580-f5c56c10fd6f",
   "metadata": {
    "execution": {
     "iopub.execute_input": "2023-07-07T18:49:02.844451Z",
     "iopub.status.busy": "2023-07-07T18:49:02.844305Z",
     "iopub.status.idle": "2023-07-07T18:49:02.849971Z",
     "shell.execute_reply": "2023-07-07T18:49:02.849260Z",
     "shell.execute_reply.started": "2023-07-07T18:49:02.844436Z"
    }
   },
   "outputs": [
    {
     "data": {
      "text/plain": [
       "[(12.3249513, 76.6271025),\n",
       " (12.93566795, 77.5176769193037),\n",
       " (12.9078462, 77.60113103400322),\n",
       " (12.9433162, 77.70004387539987),\n",
       " (12.9069355, 77.61352381609713),\n",
       " (12.9508248, 77.6236033),\n",
       " (12.9489367, 77.58698687897964)]"
      ]
     },
     "execution_count": 17,
     "metadata": {},
     "output_type": "execute_result"
    }
   ],
   "source": [
    "tour = create_tour(ind)\n",
    "tour"
   ]
  },
  {
   "cell_type": "code",
   "execution_count": 18,
   "id": "c26a8783-6f33-4fe0-a943-22ed7a145a57",
   "metadata": {
    "execution": {
     "iopub.execute_input": "2023-07-07T18:49:02.851639Z",
     "iopub.status.busy": "2023-07-07T18:49:02.851155Z",
     "iopub.status.idle": "2023-07-07T18:49:02.858150Z",
     "shell.execute_reply": "2023-07-07T18:49:02.857741Z",
     "shell.execute_reply.started": "2023-07-07T18:49:02.851615Z"
    }
   },
   "outputs": [],
   "source": [
    "## Function for get a total distance of tour case\n",
    "def total_distance(tour):\n",
    "    tour_sum = sum(distance(tour[i], tour[i+1]) for i in range(len(tour)-1))\n",
    "    return tour_sum\n",
    "\n",
    "def distance(spot1, spot2):\n",
    "    # convert decimal degrees to radians \n",
    "    lng1, lat1, lng2, lat2 = map(radians, [spot1[0], spot1[1], spot2[0], spot2[1]])\n",
    "    \n",
    "    RADIUS = 6371 # FAA approved globe radius in km\n",
    "    \n",
    "    dlng = lng2-lng1\n",
    "    dlat = lat2-lat1\n",
    "    a = sin(dlat/2)**2 + cos(lat1) * cos(lat2) * sin(dlng/2)**2\n",
    "    c = 2 * asin(sqrt(a)) \n",
    "    dist = RADIUS * c\n",
    "    return dist"
   ]
  },
  {
   "cell_type": "markdown",
   "id": "b708b49b-dca6-4ed0-8bf6-e1fb67aefe60",
   "metadata": {},
   "source": [
    "### Calculating total Distance"
   ]
  },
  {
   "cell_type": "code",
   "execution_count": 19,
   "id": "30cda82c-d066-4d76-89ea-5fb58e0844b3",
   "metadata": {
    "execution": {
     "iopub.execute_input": "2023-07-07T18:49:02.858765Z",
     "iopub.status.busy": "2023-07-07T18:49:02.858638Z",
     "iopub.status.idle": "2023-07-07T18:49:02.861598Z",
     "shell.execute_reply": "2023-07-07T18:49:02.861261Z",
     "shell.execute_reply.started": "2023-07-07T18:49:02.858752Z"
    }
   },
   "outputs": [
    {
     "data": {
      "text/plain": [
       "135.7836387472092"
      ]
     },
     "execution_count": 19,
     "metadata": {},
     "output_type": "execute_result"
    }
   ],
   "source": [
    "total_distance(tour)"
   ]
  },
  {
   "cell_type": "markdown",
   "id": "8c94eebc-b567-4bc1-bb58-613d033dacda",
   "metadata": {},
   "source": [
    "### Ploting the Tour"
   ]
  },
  {
   "cell_type": "code",
   "execution_count": 20,
   "id": "8ced2673-ca17-404f-9243-781d066d5dac",
   "metadata": {
    "execution": {
     "iopub.execute_input": "2023-07-07T18:49:02.862222Z",
     "iopub.status.busy": "2023-07-07T18:49:02.862096Z",
     "iopub.status.idle": "2023-07-07T18:49:02.866075Z",
     "shell.execute_reply": "2023-07-07T18:49:02.865513Z",
     "shell.execute_reply.started": "2023-07-07T18:49:02.862210Z"
    }
   },
   "outputs": [],
   "source": [
    "def plot_tour(ind):\n",
    "    tour = create_tour(ind)\n",
    "    m = folium.Map(location=[np.mean(df_loc.latitude), np.mean(df_loc.longitude)], zoom_start=8)\n",
    "    path=folium.PolyLine(locations=tour,weight=5)\n",
    "    m.add_children(path)\n",
    "    for i,loc in enumerate(ind):\n",
    "        popup_txt = \"%s // Score : %s \" % (df_loc.iloc[loc].place, df_loc.iloc[loc].Rating)\n",
    "        folium.Marker(tour[i], popup=popup_txt).add_to(m)\n",
    "    return m"
   ]
  },
  {
   "cell_type": "code",
   "execution_count": 21,
   "id": "4111d42e-bc00-46b4-a5b6-d59f70e69e51",
   "metadata": {
    "execution": {
     "iopub.execute_input": "2023-07-07T18:49:02.867298Z",
     "iopub.status.busy": "2023-07-07T18:49:02.867089Z",
     "iopub.status.idle": "2023-07-07T18:49:02.884778Z",
     "shell.execute_reply": "2023-07-07T18:49:02.884194Z",
     "shell.execute_reply.started": "2023-07-07T18:49:02.867280Z"
    }
   },
   "outputs": [
    {
     "name": "stderr",
     "output_type": "stream",
     "text": [
      "/tmp/ipykernel_26978/2200379965.py:5: FutureWarning: Method `add_children` is deprecated. Please use `add_child` instead.\n",
      "  m.add_children(path)\n"
     ]
    },
    {
     "data": {
      "text/html": [
       "<div style=\"width:100%;\"><div style=\"position:relative;width:100%;height:0;padding-bottom:60%;\"><span style=\"color:#565656\">Make this Notebook Trusted to load map: File -> Trust Notebook</span><iframe srcdoc=\"&lt;!DOCTYPE html&gt;\n",
       "&lt;html&gt;\n",
       "&lt;head&gt;\n",
       "    \n",
       "    &lt;meta http-equiv=&quot;content-type&quot; content=&quot;text/html; charset=UTF-8&quot; /&gt;\n",
       "    \n",
       "        &lt;script&gt;\n",
       "            L_NO_TOUCH = false;\n",
       "            L_DISABLE_3D = false;\n",
       "        &lt;/script&gt;\n",
       "    \n",
       "    &lt;style&gt;html, body {width: 100%;height: 100%;margin: 0;padding: 0;}&lt;/style&gt;\n",
       "    &lt;style&gt;#map {position:absolute;top:0;bottom:0;right:0;left:0;}&lt;/style&gt;\n",
       "    &lt;script src=&quot;https://cdn.jsdelivr.net/npm/leaflet@1.9.3/dist/leaflet.js&quot;&gt;&lt;/script&gt;\n",
       "    &lt;script src=&quot;https://code.jquery.com/jquery-1.12.4.min.js&quot;&gt;&lt;/script&gt;\n",
       "    &lt;script src=&quot;https://cdn.jsdelivr.net/npm/bootstrap@5.2.2/dist/js/bootstrap.bundle.min.js&quot;&gt;&lt;/script&gt;\n",
       "    &lt;script src=&quot;https://cdnjs.cloudflare.com/ajax/libs/Leaflet.awesome-markers/2.0.2/leaflet.awesome-markers.js&quot;&gt;&lt;/script&gt;\n",
       "    &lt;link rel=&quot;stylesheet&quot; href=&quot;https://cdn.jsdelivr.net/npm/leaflet@1.9.3/dist/leaflet.css&quot;/&gt;\n",
       "    &lt;link rel=&quot;stylesheet&quot; href=&quot;https://cdn.jsdelivr.net/npm/bootstrap@5.2.2/dist/css/bootstrap.min.css&quot;/&gt;\n",
       "    &lt;link rel=&quot;stylesheet&quot; href=&quot;https://netdna.bootstrapcdn.com/bootstrap/3.0.0/css/bootstrap.min.css&quot;/&gt;\n",
       "    &lt;link rel=&quot;stylesheet&quot; href=&quot;https://cdn.jsdelivr.net/npm/@fortawesome/fontawesome-free@6.2.0/css/all.min.css&quot;/&gt;\n",
       "    &lt;link rel=&quot;stylesheet&quot; href=&quot;https://cdnjs.cloudflare.com/ajax/libs/Leaflet.awesome-markers/2.0.2/leaflet.awesome-markers.css&quot;/&gt;\n",
       "    &lt;link rel=&quot;stylesheet&quot; href=&quot;https://cdn.jsdelivr.net/gh/python-visualization/folium/folium/templates/leaflet.awesome.rotate.min.css&quot;/&gt;\n",
       "    \n",
       "            &lt;meta name=&quot;viewport&quot; content=&quot;width=device-width,\n",
       "                initial-scale=1.0, maximum-scale=1.0, user-scalable=no&quot; /&gt;\n",
       "            &lt;style&gt;\n",
       "                #map_ad9fb076615b8637f096bb775b21665d {\n",
       "                    position: relative;\n",
       "                    width: 100.0%;\n",
       "                    height: 100.0%;\n",
       "                    left: 0.0%;\n",
       "                    top: 0.0%;\n",
       "                }\n",
       "                .leaflet-container { font-size: 1rem; }\n",
       "            &lt;/style&gt;\n",
       "        \n",
       "&lt;/head&gt;\n",
       "&lt;body&gt;\n",
       "    \n",
       "    \n",
       "            &lt;div class=&quot;folium-map&quot; id=&quot;map_ad9fb076615b8637f096bb775b21665d&quot; &gt;&lt;/div&gt;\n",
       "        \n",
       "&lt;/body&gt;\n",
       "&lt;script&gt;\n",
       "    \n",
       "    \n",
       "            var map_ad9fb076615b8637f096bb775b21665d = L.map(\n",
       "                &quot;map_ad9fb076615b8637f096bb775b21665d&quot;,\n",
       "                {\n",
       "                    center: [13.035799007835822, 77.52559955181108],\n",
       "                    crs: L.CRS.EPSG3857,\n",
       "                    zoom: 8,\n",
       "                    zoomControl: true,\n",
       "                    preferCanvas: false,\n",
       "                }\n",
       "            );\n",
       "\n",
       "            \n",
       "\n",
       "        \n",
       "    \n",
       "            var tile_layer_e9d99c8eb4d7dc79482fe34e5ab7afbb = L.tileLayer(\n",
       "                &quot;https://{s}.tile.openstreetmap.org/{z}/{x}/{y}.png&quot;,\n",
       "                {&quot;attribution&quot;: &quot;Data by \\u0026copy; \\u003ca target=\\&quot;_blank\\&quot; href=\\&quot;http://openstreetmap.org\\&quot;\\u003eOpenStreetMap\\u003c/a\\u003e, under \\u003ca target=\\&quot;_blank\\&quot; href=\\&quot;http://www.openstreetmap.org/copyright\\&quot;\\u003eODbL\\u003c/a\\u003e.&quot;, &quot;detectRetina&quot;: false, &quot;maxNativeZoom&quot;: 18, &quot;maxZoom&quot;: 18, &quot;minZoom&quot;: 0, &quot;noWrap&quot;: false, &quot;opacity&quot;: 1, &quot;subdomains&quot;: &quot;abc&quot;, &quot;tms&quot;: false}\n",
       "            ).addTo(map_ad9fb076615b8637f096bb775b21665d);\n",
       "        \n",
       "    \n",
       "            var poly_line_a73ecd869c11411407a621a49d497ee4 = L.polyline(\n",
       "                [[12.3249513, 76.6271025], [12.93566795, 77.5176769193037], [12.9078462, 77.60113103400322], [12.9433162, 77.70004387539987], [12.9069355, 77.61352381609713], [12.9508248, 77.6236033], [12.9489367, 77.58698687897964]],\n",
       "                {&quot;bubblingMouseEvents&quot;: true, &quot;color&quot;: &quot;#3388ff&quot;, &quot;dashArray&quot;: null, &quot;dashOffset&quot;: null, &quot;fill&quot;: false, &quot;fillColor&quot;: &quot;#3388ff&quot;, &quot;fillOpacity&quot;: 0.2, &quot;fillRule&quot;: &quot;evenodd&quot;, &quot;lineCap&quot;: &quot;round&quot;, &quot;lineJoin&quot;: &quot;round&quot;, &quot;noClip&quot;: false, &quot;opacity&quot;: 1.0, &quot;smoothFactor&quot;: 1.0, &quot;stroke&quot;: true, &quot;weight&quot;: 5}\n",
       "            ).addTo(map_ad9fb076615b8637f096bb775b21665d);\n",
       "        \n",
       "    \n",
       "            var marker_6d7e6fe9f209cfe2e5caaef599b5359a = L.marker(\n",
       "                [12.3249513, 76.6271025],\n",
       "                {}\n",
       "            ).addTo(map_ad9fb076615b8637f096bb775b21665d);\n",
       "        \n",
       "    \n",
       "        var popup_6c5f5a6a799f35f4c0ee4b435fce83f6 = L.popup({&quot;maxWidth&quot;: &quot;100%&quot;});\n",
       "\n",
       "        \n",
       "            \n",
       "                var html_74f52d4fa875e95b38432b658d01ce32 = $(`&lt;div id=&quot;html_74f52d4fa875e95b38432b658d01ce32&quot; style=&quot;width: 100.0%; height: 100.0%;&quot;&gt; Dhaatu // Score : 0.0016155088852988692 &lt;/div&gt;`)[0];\n",
       "                popup_6c5f5a6a799f35f4c0ee4b435fce83f6.setContent(html_74f52d4fa875e95b38432b658d01ce32);\n",
       "            \n",
       "        \n",
       "\n",
       "        marker_6d7e6fe9f209cfe2e5caaef599b5359a.bindPopup(popup_6c5f5a6a799f35f4c0ee4b435fce83f6)\n",
       "        ;\n",
       "\n",
       "        \n",
       "    \n",
       "    \n",
       "            var marker_d61df9f721f803ad59a153de4c8956c1 = L.marker(\n",
       "                [12.93566795, 77.5176769193037],\n",
       "                {}\n",
       "            ).addTo(map_ad9fb076615b8637f096bb775b21665d);\n",
       "        \n",
       "    \n",
       "        var popup_d7dd7398f9736ee6ac320742cd87f304 = L.popup({&quot;maxWidth&quot;: &quot;100%&quot;});\n",
       "\n",
       "        \n",
       "            \n",
       "                var html_784aadd3c4719d77a79b3037611f7baa = $(`&lt;div id=&quot;html_784aadd3c4719d77a79b3037611f7baa&quot; style=&quot;width: 100.0%; height: 100.0%;&quot;&gt; Gopalan Arcade Mall // Score : 0.023263327948303717 &lt;/div&gt;`)[0];\n",
       "                popup_d7dd7398f9736ee6ac320742cd87f304.setContent(html_784aadd3c4719d77a79b3037611f7baa);\n",
       "            \n",
       "        \n",
       "\n",
       "        marker_d61df9f721f803ad59a153de4c8956c1.bindPopup(popup_d7dd7398f9736ee6ac320742cd87f304)\n",
       "        ;\n",
       "\n",
       "        \n",
       "    \n",
       "    \n",
       "            var marker_f6ab0c30eff666befdfb8951f0e0bbb4 = L.marker(\n",
       "                [12.9078462, 77.60113103400322],\n",
       "                {}\n",
       "            ).addTo(map_ad9fb076615b8637f096bb775b21665d);\n",
       "        \n",
       "    \n",
       "        var popup_75e654e566e97770119a13f0cf16c326 = L.popup({&quot;maxWidth&quot;: &quot;100%&quot;});\n",
       "\n",
       "        \n",
       "            \n",
       "                var html_86103dea00e8944c7ced14c3c8520b47 = $(`&lt;div id=&quot;html_86103dea00e8944c7ced14c3c8520b47&quot; style=&quot;width: 100.0%; height: 100.0%;&quot;&gt; Vega City Mall // Score : 0.0420032310177706 &lt;/div&gt;`)[0];\n",
       "                popup_75e654e566e97770119a13f0cf16c326.setContent(html_86103dea00e8944c7ced14c3c8520b47);\n",
       "            \n",
       "        \n",
       "\n",
       "        marker_f6ab0c30eff666befdfb8951f0e0bbb4.bindPopup(popup_75e654e566e97770119a13f0cf16c326)\n",
       "        ;\n",
       "\n",
       "        \n",
       "    \n",
       "    \n",
       "            var marker_7ccf833070f358f7c3c09304862461be = L.marker(\n",
       "                [12.9433162, 77.70004387539987],\n",
       "                {}\n",
       "            ).addTo(map_ad9fb076615b8637f096bb775b21665d);\n",
       "        \n",
       "    \n",
       "        var popup_e40c06e29d620caf0dc950deaedf14cc = L.popup({&quot;maxWidth&quot;: &quot;100%&quot;});\n",
       "\n",
       "        \n",
       "            \n",
       "                var html_f2237e2053d34e70e4c6d67781f0e250 = $(`&lt;div id=&quot;html_f2237e2053d34e70e4c6d67781f0e250&quot; style=&quot;width: 100.0%; height: 100.0%;&quot;&gt; Active Arena // Score : 0.002584814216478191 &lt;/div&gt;`)[0];\n",
       "                popup_e40c06e29d620caf0dc950deaedf14cc.setContent(html_f2237e2053d34e70e4c6d67781f0e250);\n",
       "            \n",
       "        \n",
       "\n",
       "        marker_7ccf833070f358f7c3c09304862461be.bindPopup(popup_e40c06e29d620caf0dc950deaedf14cc)\n",
       "        ;\n",
       "\n",
       "        \n",
       "    \n",
       "    \n",
       "            var marker_3e326e3791e03a20388a23eabfd215a4 = L.marker(\n",
       "                [12.9069355, 77.61352381609713],\n",
       "                {}\n",
       "            ).addTo(map_ad9fb076615b8637f096bb775b21665d);\n",
       "        \n",
       "    \n",
       "        var popup_535d58d77a60e0aac6fc837d83d24dc8 = L.popup({&quot;maxWidth&quot;: &quot;100%&quot;});\n",
       "\n",
       "        \n",
       "            \n",
       "                var html_68fb10be82fdd46176a34b0a362d07b4 = $(`&lt;div id=&quot;html_68fb10be82fdd46176a34b0a362d07b4&quot; style=&quot;width: 100.0%; height: 100.0%;&quot;&gt; Madiwala Lake // Score : 0.03731825525040388 &lt;/div&gt;`)[0];\n",
       "                popup_535d58d77a60e0aac6fc837d83d24dc8.setContent(html_68fb10be82fdd46176a34b0a362d07b4);\n",
       "            \n",
       "        \n",
       "\n",
       "        marker_3e326e3791e03a20388a23eabfd215a4.bindPopup(popup_535d58d77a60e0aac6fc837d83d24dc8)\n",
       "        ;\n",
       "\n",
       "        \n",
       "    \n",
       "    \n",
       "            var marker_648beac58d2f85d248806fe0aba8e612 = L.marker(\n",
       "                [12.9508248, 77.6236033],\n",
       "                {}\n",
       "            ).addTo(map_ad9fb076615b8637f096bb775b21665d);\n",
       "        \n",
       "    \n",
       "        var popup_ff4366bb11c4ecd146b1194327d3f88e = L.popup({&quot;maxWidth&quot;: &quot;100%&quot;});\n",
       "\n",
       "        \n",
       "            \n",
       "                var html_e1dda8c0ac1ade98fa713d1c4ec76475 = $(`&lt;div id=&quot;html_e1dda8c0ac1ade98fa713d1c4ec76475&quot; style=&quot;width: 100.0%; height: 100.0%;&quot;&gt; Bangalore Magic // Score : 0.004846526655896607 &lt;/div&gt;`)[0];\n",
       "                popup_ff4366bb11c4ecd146b1194327d3f88e.setContent(html_e1dda8c0ac1ade98fa713d1c4ec76475);\n",
       "            \n",
       "        \n",
       "\n",
       "        marker_648beac58d2f85d248806fe0aba8e612.bindPopup(popup_ff4366bb11c4ecd146b1194327d3f88e)\n",
       "        ;\n",
       "\n",
       "        \n",
       "    \n",
       "    \n",
       "            var marker_024e33ca9d92a24252cdb97ddf2f4995 = L.marker(\n",
       "                [12.9489367, 77.58698687897964],\n",
       "                {}\n",
       "            ).addTo(map_ad9fb076615b8637f096bb775b21665d);\n",
       "        \n",
       "    \n",
       "        var popup_8752606e4e80136dd99dc8b9ae89ab03 = L.popup({&quot;maxWidth&quot;: &quot;100%&quot;});\n",
       "\n",
       "        \n",
       "            \n",
       "                var html_1078d56f78983cc35dc28a2c766d8448 = $(`&lt;div id=&quot;html_1078d56f78983cc35dc28a2c766d8448&quot; style=&quot;width: 100.0%; height: 100.0%;&quot;&gt; Lalbagh Botanical Garden // Score : 4.0 &lt;/div&gt;`)[0];\n",
       "                popup_8752606e4e80136dd99dc8b9ae89ab03.setContent(html_1078d56f78983cc35dc28a2c766d8448);\n",
       "            \n",
       "        \n",
       "\n",
       "        marker_024e33ca9d92a24252cdb97ddf2f4995.bindPopup(popup_8752606e4e80136dd99dc8b9ae89ab03)\n",
       "        ;\n",
       "\n",
       "        \n",
       "    \n",
       "&lt;/script&gt;\n",
       "&lt;/html&gt;\" style=\"position:absolute;width:100%;height:100%;left:0;top:0;border:none !important;\" allowfullscreen webkitallowfullscreen mozallowfullscreen></iframe></div></div>"
      ],
      "text/plain": [
       "<folium.folium.Map at 0x7fd7c1dc3460>"
      ]
     },
     "execution_count": 21,
     "metadata": {},
     "output_type": "execute_result"
    }
   ],
   "source": [
    "plot_tour(ind)"
   ]
  },
  {
   "cell_type": "markdown",
   "id": "897b5634-719d-4cea-ba7a-20279324ada7",
   "metadata": {},
   "source": [
    "### Scoring The Output "
   ]
  },
  {
   "cell_type": "code",
   "execution_count": 22,
   "id": "2bedb209-25c2-4c9d-8ee1-c458afe884cd",
   "metadata": {
    "execution": {
     "iopub.execute_input": "2023-07-07T18:49:02.885575Z",
     "iopub.status.busy": "2023-07-07T18:49:02.885427Z",
     "iopub.status.idle": "2023-07-07T18:49:02.888359Z",
     "shell.execute_reply": "2023-07-07T18:49:02.887945Z",
     "shell.execute_reply.started": "2023-07-07T18:49:02.885562Z"
    }
   },
   "outputs": [],
   "source": [
    "def total_score(individual):\n",
    "    return sum([df_loc.iloc[i]['Rating'] for i in individual]) "
   ]
  },
  {
   "cell_type": "code",
   "execution_count": 23,
   "id": "846ed1dc-4b9b-4b47-bae8-4b9fffd6bff2",
   "metadata": {
    "execution": {
     "iopub.execute_input": "2023-07-07T18:49:02.889232Z",
     "iopub.status.busy": "2023-07-07T18:49:02.889074Z",
     "iopub.status.idle": "2023-07-07T18:49:02.893098Z",
     "shell.execute_reply": "2023-07-07T18:49:02.892776Z",
     "shell.execute_reply.started": "2023-07-07T18:49:02.889214Z"
    }
   },
   "outputs": [
    {
     "data": {
      "text/plain": [
       "4.111631663974152"
      ]
     },
     "execution_count": 23,
     "metadata": {},
     "output_type": "execute_result"
    }
   ],
   "source": [
    "total_score(ind)"
   ]
  },
  {
   "cell_type": "code",
   "execution_count": null,
   "id": "fb0a46f3-e1da-444b-b673-42fdcabef064",
   "metadata": {},
   "outputs": [],
   "source": []
  },
  {
   "cell_type": "code",
   "execution_count": 24,
   "id": "aeb6926b-c529-4969-aa8f-e93575f0822c",
   "metadata": {
    "execution": {
     "iopub.execute_input": "2023-07-07T18:49:02.893612Z",
     "iopub.status.busy": "2023-07-07T18:49:02.893501Z",
     "iopub.status.idle": "2023-07-07T18:49:02.895950Z",
     "shell.execute_reply": "2023-07-07T18:49:02.895628Z",
     "shell.execute_reply.started": "2023-07-07T18:49:02.893600Z"
    }
   },
   "outputs": [],
   "source": [
    "def eval_func(individual):\n",
    "    # 1 total distance -> minimun\n",
    "    t_dist = total_distance(create_tour(individual))\n",
    "    # 2 total score -> maximum\n",
    "    t_score = total_score(individual)\n",
    "    # 3 penalty\n",
    "    penalty = len(individual) - len(set(individual))\n",
    "    t_dist += penalty*1000000\n",
    "    t_score -= penalty*1000000\n",
    "    return t_dist, t_score"
   ]
  },
  {
   "cell_type": "code",
   "execution_count": 25,
   "id": "181de80b-6d7c-4eec-a10a-2608913330d1",
   "metadata": {
    "execution": {
     "iopub.execute_input": "2023-07-07T18:49:02.896517Z",
     "iopub.status.busy": "2023-07-07T18:49:02.896400Z",
     "iopub.status.idle": "2023-07-07T18:49:02.901201Z",
     "shell.execute_reply": "2023-07-07T18:49:02.900608Z",
     "shell.execute_reply.started": "2023-07-07T18:49:02.896506Z"
    }
   },
   "outputs": [
    {
     "data": {
      "text/plain": [
       "(135.7836387472092, 4.111631663974152)"
      ]
     },
     "execution_count": 25,
     "metadata": {},
     "output_type": "execute_result"
    }
   ],
   "source": [
    "eval_func(ind)"
   ]
  },
  {
   "cell_type": "markdown",
   "id": "5310e19f-b6ce-4a45-a7d3-3b1b6d98b471",
   "metadata": {},
   "source": [
    "### Genetic OIperators"
   ]
  },
  {
   "cell_type": "code",
   "execution_count": 26,
   "id": "aaa9c459-f0c5-435a-9610-48e4b9a1aa7e",
   "metadata": {
    "execution": {
     "iopub.execute_input": "2023-07-07T18:49:02.902077Z",
     "iopub.status.busy": "2023-07-07T18:49:02.901848Z",
     "iopub.status.idle": "2023-07-07T18:49:02.905371Z",
     "shell.execute_reply": "2023-07-07T18:49:02.904867Z",
     "shell.execute_reply.started": "2023-07-07T18:49:02.902053Z"
    }
   },
   "outputs": [],
   "source": [
    "toolbox.register(\"evaluate\", eval_func)"
   ]
  },
  {
   "cell_type": "code",
   "execution_count": 27,
   "id": "690ca9f7-8b35-49ad-8df9-8e85a5e74b44",
   "metadata": {
    "execution": {
     "iopub.execute_input": "2023-07-07T18:49:02.906089Z",
     "iopub.status.busy": "2023-07-07T18:49:02.905945Z",
     "iopub.status.idle": "2023-07-07T18:49:02.908585Z",
     "shell.execute_reply": "2023-07-07T18:49:02.908279Z",
     "shell.execute_reply.started": "2023-07-07T18:49:02.906075Z"
    }
   },
   "outputs": [],
   "source": [
    "toolbox.register(\"select\", tools.selNSGA2)\n",
    "toolbox.register(\"mate\", tools.cxTwoPoint)\n",
    "# tools.mutShuffleIndexes : Shuffle the attributes of the input individual and return the mutant.\n",
    "toolbox.register(\"mutate\", tools.mutShuffleIndexes, indpb=0.8) "
   ]
  },
  {
   "cell_type": "code",
   "execution_count": 28,
   "id": "082431db-852c-48de-bb8b-549be183cc68",
   "metadata": {
    "execution": {
     "iopub.execute_input": "2023-07-07T18:49:02.909057Z",
     "iopub.status.busy": "2023-07-07T18:49:02.908947Z",
     "iopub.status.idle": "2023-07-07T18:49:02.911177Z",
     "shell.execute_reply": "2023-07-07T18:49:02.910829Z",
     "shell.execute_reply.started": "2023-07-07T18:49:02.909046Z"
    }
   },
   "outputs": [],
   "source": [
    "POP_SIZE = 200\n",
    "MAX_GEN = 100\n",
    "MUT_PROB = 0.2\n",
    "CX_PROB = 0.8"
   ]
  },
  {
   "cell_type": "code",
   "execution_count": 29,
   "id": "3be72474-83c3-4959-b9af-9caf0e7c8a17",
   "metadata": {
    "execution": {
     "iopub.execute_input": "2023-07-07T18:49:02.911649Z",
     "iopub.status.busy": "2023-07-07T18:49:02.911544Z",
     "iopub.status.idle": "2023-07-07T18:49:02.929363Z",
     "shell.execute_reply": "2023-07-07T18:49:02.928884Z",
     "shell.execute_reply.started": "2023-07-07T18:49:02.911638Z"
    }
   },
   "outputs": [
    {
     "data": {
      "text/plain": [
       "[[16, 55, 13, 78, 118, 87, 115],\n",
       " [42, 45, 90, 64, 102, 109, 87],\n",
       " [108, 79, 119, 106, 62, 97, 91],\n",
       " [20, 29, 122, 67, 41, 6, 31],\n",
       " [82, 59, 3, 95, 28, 130, 24],\n",
       " [54, 120, 21, 90, 76, 16, 133],\n",
       " [125, 61, 73, 78, 17, 9, 0],\n",
       " [18, 43, 59, 99, 10, 110, 112],\n",
       " [127, 29, 64, 131, 38, 60, 56],\n",
       " [28, 50, 90, 51, 69, 97, 116],\n",
       " [1, 85, 72, 86, 40, 124, 19],\n",
       " [125, 127, 87, 85, 58, 66, 12],\n",
       " [96, 5, 27, 110, 129, 80, 86],\n",
       " [24, 44, 72, 46, 36, 38, 55],\n",
       " [56, 16, 69, 0, 128, 88, 109],\n",
       " [29, 107, 58, 6, 1, 11, 77],\n",
       " [121, 131, 32, 30, 96, 28, 104],\n",
       " [61, 67, 13, 12, 25, 97, 130],\n",
       " [12, 101, 8, 72, 36, 66, 81],\n",
       " [45, 65, 79, 43, 116, 75, 94],\n",
       " [2, 64, 117, 9, 101, 77, 109],\n",
       " [19, 127, 31, 112, 10, 30, 38],\n",
       " [12, 26, 22, 16, 30, 65, 25],\n",
       " [114, 37, 36, 119, 40, 131, 89],\n",
       " [32, 127, 48, 69, 55, 129, 98],\n",
       " [114, 77, 55, 92, 30, 97, 7],\n",
       " [61, 115, 76, 64, 91, 125, 45],\n",
       " [74, 94, 133, 118, 66, 88, 71],\n",
       " [78, 101, 92, 15, 116, 75, 124],\n",
       " [63, 82, 13, 91, 25, 120, 14],\n",
       " [15, 130, 52, 120, 70, 123, 67],\n",
       " [43, 8, 2, 34, 82, 127, 73],\n",
       " [78, 62, 114, 124, 73, 27, 126],\n",
       " [30, 73, 115, 90, 32, 109, 97],\n",
       " [80, 101, 110, 24, 40, 104, 90],\n",
       " [63, 45, 83, 130, 7, 53, 43],\n",
       " [102, 133, 61, 24, 121, 7, 12],\n",
       " [41, 58, 105, 93, 67, 28, 63],\n",
       " [87, 100, 99, 62, 102, 133, 5],\n",
       " [27, 22, 113, 124, 9, 1, 35],\n",
       " [128, 86, 131, 107, 20, 1, 111],\n",
       " [89, 103, 85, 78, 60, 61, 117],\n",
       " [82, 83, 87, 31, 78, 37, 28],\n",
       " [80, 77, 74, 95, 103, 66, 100],\n",
       " [120, 94, 24, 133, 88, 32, 65],\n",
       " [131, 126, 2, 98, 50, 17, 26],\n",
       " [95, 85, 56, 57, 33, 38, 15],\n",
       " [102, 125, 7, 34, 58, 45, 96],\n",
       " [49, 70, 21, 79, 122, 24, 104],\n",
       " [79, 81, 14, 78, 67, 99, 19],\n",
       " [107, 28, 56, 78, 17, 62, 117],\n",
       " [20, 57, 18, 36, 43, 59, 38],\n",
       " [42, 65, 59, 1, 56, 126, 26],\n",
       " [91, 7, 56, 120, 41, 14, 109],\n",
       " [127, 121, 41, 49, 123, 44, 42],\n",
       " [63, 129, 49, 79, 64, 40, 12],\n",
       " [26, 4, 128, 13, 76, 78, 20],\n",
       " [62, 85, 53, 61, 67, 24, 81],\n",
       " [42, 92, 132, 87, 126, 9, 121],\n",
       " [32, 85, 45, 16, 35, 18, 124],\n",
       " [67, 53, 125, 90, 22, 30, 113],\n",
       " [7, 103, 51, 113, 25, 42, 123],\n",
       " [126, 9, 90, 125, 60, 115, 82],\n",
       " [115, 31, 1, 28, 16, 119, 83],\n",
       " [88, 130, 75, 35, 1, 7, 64],\n",
       " [112, 12, 88, 9, 126, 105, 101],\n",
       " [123, 65, 44, 131, 113, 115, 116],\n",
       " [40, 8, 106, 28, 101, 1, 133],\n",
       " [107, 88, 18, 98, 43, 6, 132],\n",
       " [63, 102, 33, 74, 96, 52, 20],\n",
       " [24, 67, 1, 125, 105, 61, 44],\n",
       " [102, 36, 57, 111, 26, 2, 109],\n",
       " [103, 98, 22, 93, 112, 128, 29],\n",
       " [85, 41, 128, 18, 62, 90, 56],\n",
       " [99, 74, 118, 5, 11, 23, 131],\n",
       " [16, 72, 30, 75, 44, 90, 4],\n",
       " [25, 62, 31, 71, 19, 121, 16],\n",
       " [89, 22, 110, 123, 42, 72, 93],\n",
       " [22, 113, 103, 27, 81, 57, 91],\n",
       " [3, 21, 10, 56, 121, 73, 31],\n",
       " [130, 7, 40, 1, 101, 4, 50],\n",
       " [91, 99, 3, 28, 76, 16, 62],\n",
       " [46, 60, 42, 132, 109, 49, 57],\n",
       " [126, 118, 72, 69, 99, 26, 6],\n",
       " [119, 18, 10, 48, 19, 58, 77],\n",
       " [10, 49, 12, 73, 64, 78, 39],\n",
       " [81, 123, 14, 58, 70, 96, 77],\n",
       " [91, 84, 114, 47, 46, 107, 57],\n",
       " [94, 51, 101, 40, 50, 115, 22],\n",
       " [1, 14, 123, 43, 46, 124, 79],\n",
       " [73, 133, 108, 7, 132, 9, 10],\n",
       " [63, 61, 112, 108, 74, 73, 51],\n",
       " [83, 53, 93, 98, 74, 77, 123],\n",
       " [110, 26, 86, 46, 125, 128, 99],\n",
       " [75, 59, 80, 70, 116, 15, 20],\n",
       " [17, 86, 20, 58, 36, 88, 53],\n",
       " [2, 37, 120, 51, 101, 84, 118],\n",
       " [115, 131, 125, 18, 117, 31, 40],\n",
       " [45, 130, 15, 124, 29, 131, 35],\n",
       " [104, 115, 7, 112, 44, 56, 76],\n",
       " [131, 127, 128, 100, 5, 25, 64],\n",
       " [93, 19, 54, 92, 96, 25, 6],\n",
       " [8, 4, 29, 83, 39, 118, 107],\n",
       " [94, 58, 130, 53, 13, 79, 31],\n",
       " [124, 65, 44, 31, 0, 59, 82],\n",
       " [56, 71, 18, 41, 93, 80, 11],\n",
       " [52, 131, 99, 85, 124, 77, 128],\n",
       " [47, 0, 2, 19, 99, 84, 111],\n",
       " [27, 91, 7, 48, 102, 94, 42],\n",
       " [126, 22, 114, 46, 31, 80, 20],\n",
       " [81, 65, 35, 82, 22, 61, 104],\n",
       " [83, 95, 111, 34, 126, 88, 106],\n",
       " [75, 107, 18, 45, 116, 8, 60],\n",
       " [127, 109, 89, 102, 130, 30, 36],\n",
       " [105, 99, 91, 5, 52, 16, 61],\n",
       " [81, 25, 118, 104, 87, 71, 24],\n",
       " [55, 34, 57, 43, 121, 110, 59],\n",
       " [22, 17, 27, 28, 66, 109, 77],\n",
       " [82, 78, 114, 121, 71, 14, 127],\n",
       " [16, 32, 38, 105, 70, 131, 55],\n",
       " [34, 71, 31, 1, 28, 41, 49],\n",
       " [61, 78, 4, 30, 85, 111, 108],\n",
       " [27, 100, 33, 10, 1, 96, 6],\n",
       " [80, 133, 68, 105, 48, 30, 5],\n",
       " [48, 105, 83, 46, 57, 104, 39],\n",
       " [26, 103, 41, 77, 88, 98, 14],\n",
       " [129, 21, 41, 123, 4, 96, 128],\n",
       " [4, 97, 109, 21, 27, 36, 72],\n",
       " [71, 43, 72, 89, 105, 77, 60],\n",
       " [98, 79, 111, 48, 115, 29, 50],\n",
       " [25, 16, 51, 104, 78, 28, 9],\n",
       " [68, 75, 35, 10, 51, 4, 39],\n",
       " [11, 126, 22, 101, 124, 85, 62],\n",
       " [76, 48, 115, 98, 63, 44, 50],\n",
       " [63, 97, 34, 29, 88, 22, 103],\n",
       " [121, 36, 133, 53, 110, 65, 91],\n",
       " [125, 105, 59, 58, 62, 3, 87],\n",
       " [14, 5, 111, 3, 78, 96, 15],\n",
       " [30, 15, 5, 82, 128, 78, 34],\n",
       " [65, 121, 7, 115, 78, 46, 129],\n",
       " [78, 6, 25, 98, 37, 80, 115],\n",
       " [80, 75, 69, 24, 111, 13, 6],\n",
       " [5, 40, 68, 45, 29, 82, 84],\n",
       " [130, 79, 105, 53, 73, 98, 28],\n",
       " [23, 86, 33, 97, 50, 58, 78],\n",
       " [133, 88, 94, 13, 21, 93, 82],\n",
       " [86, 88, 19, 61, 106, 5, 13],\n",
       " [98, 99, 32, 9, 43, 19, 1],\n",
       " [129, 16, 72, 56, 103, 12, 25],\n",
       " [13, 7, 31, 39, 117, 120, 99],\n",
       " [24, 17, 41, 112, 123, 40, 130],\n",
       " [29, 43, 50, 52, 33, 121, 20],\n",
       " [9, 122, 91, 37, 28, 27, 81],\n",
       " [51, 115, 105, 40, 114, 120, 48],\n",
       " [3, 88, 60, 126, 15, 53, 37],\n",
       " [63, 7, 84, 41, 76, 21, 91],\n",
       " [80, 63, 69, 125, 99, 113, 3],\n",
       " [26, 52, 11, 37, 113, 131, 109],\n",
       " [39, 124, 56, 54, 75, 61, 35],\n",
       " [68, 107, 121, 8, 31, 130, 5],\n",
       " [13, 123, 66, 1, 43, 82, 119],\n",
       " [30, 96, 79, 93, 58, 23, 53],\n",
       " [53, 107, 106, 32, 2, 89, 131],\n",
       " [9, 130, 55, 39, 64, 110, 38],\n",
       " [56, 90, 11, 58, 37, 133, 89],\n",
       " [29, 32, 133, 68, 70, 122, 105],\n",
       " [20, 71, 34, 120, 12, 103, 114],\n",
       " [66, 5, 75, 80, 97, 117, 49],\n",
       " [70, 106, 38, 28, 86, 42, 22],\n",
       " [117, 12, 106, 54, 68, 108, 113],\n",
       " [89, 76, 70, 32, 4, 58, 10],\n",
       " [35, 20, 44, 108, 1, 73, 119],\n",
       " [95, 20, 94, 113, 8, 9, 111],\n",
       " [14, 0, 76, 60, 63, 27, 132],\n",
       " [45, 83, 28, 129, 61, 79, 27],\n",
       " [42, 57, 38, 130, 52, 88, 14],\n",
       " [99, 111, 35, 103, 112, 21, 13],\n",
       " [88, 57, 41, 102, 71, 93, 117],\n",
       " [55, 115, 77, 89, 117, 46, 113],\n",
       " [132, 37, 40, 122, 39, 28, 84],\n",
       " [11, 65, 131, 111, 46, 95, 102],\n",
       " [103, 43, 84, 23, 52, 56, 13],\n",
       " [77, 56, 14, 48, 128, 76, 94],\n",
       " [36, 63, 30, 126, 58, 18, 108],\n",
       " [30, 110, 59, 7, 116, 21, 23],\n",
       " [116, 16, 126, 9, 127, 20, 26],\n",
       " [64, 46, 63, 96, 29, 66, 126],\n",
       " [61, 122, 45, 130, 73, 98, 15],\n",
       " [16, 44, 14, 55, 57, 89, 95],\n",
       " [46, 22, 5, 64, 105, 49, 113],\n",
       " [86, 126, 21, 59, 52, 1, 103],\n",
       " [82, 91, 92, 98, 29, 12, 81],\n",
       " [65, 23, 103, 88, 127, 107, 117],\n",
       " [32, 114, 27, 12, 3, 123, 88],\n",
       " [73, 14, 32, 22, 51, 33, 106],\n",
       " [123, 117, 107, 16, 132, 111, 18],\n",
       " [87, 49, 86, 54, 80, 31, 10],\n",
       " [51, 77, 85, 99, 22, 120, 21],\n",
       " [98, 70, 39, 36, 33, 127, 80],\n",
       " [46, 92, 103, 61, 64, 128, 73]]"
      ]
     },
     "execution_count": 29,
     "metadata": {},
     "output_type": "execute_result"
    }
   ],
   "source": [
    "pop = toolbox.population(n=POP_SIZE)\n",
    "pop"
   ]
  },
  {
   "cell_type": "code",
   "execution_count": 30,
   "id": "fcf956cb-c479-4e2a-8146-d6a23dd98cd3",
   "metadata": {
    "execution": {
     "iopub.execute_input": "2023-07-07T18:49:02.930239Z",
     "iopub.status.busy": "2023-07-07T18:49:02.930046Z",
     "iopub.status.idle": "2023-07-07T18:49:02.933497Z",
     "shell.execute_reply": "2023-07-07T18:49:02.932914Z",
     "shell.execute_reply.started": "2023-07-07T18:49:02.930217Z"
    }
   },
   "outputs": [],
   "source": [
    "hof = tools.ParetoFront()"
   ]
  },
  {
   "cell_type": "code",
   "execution_count": 31,
   "id": "83384045-cf93-40db-8b6c-f7c3f0f70c69",
   "metadata": {
    "execution": {
     "iopub.execute_input": "2023-07-07T18:49:02.934718Z",
     "iopub.status.busy": "2023-07-07T18:49:02.934483Z",
     "iopub.status.idle": "2023-07-07T18:49:02.938012Z",
     "shell.execute_reply": "2023-07-07T18:49:02.937577Z",
     "shell.execute_reply.started": "2023-07-07T18:49:02.934701Z"
    }
   },
   "outputs": [],
   "source": [
    "stats = tools.Statistics(lambda ind: ind.fitness.values)\n",
    "stats.register(\"avg\", np.mean, axis=0) \n",
    "stats.register(\"min\", np.min, axis=0)\n",
    "stats.register(\"max\", np.max, axis=0)"
   ]
  },
  {
   "cell_type": "code",
   "execution_count": 32,
   "id": "70e6e778-67ad-4051-be42-62e5e52b867e",
   "metadata": {
    "execution": {
     "iopub.execute_input": "2023-07-07T18:49:02.938578Z",
     "iopub.status.busy": "2023-07-07T18:49:02.938442Z",
     "iopub.status.idle": "2023-07-07T18:49:25.606298Z",
     "shell.execute_reply": "2023-07-07T18:49:25.605719Z",
     "shell.execute_reply.started": "2023-07-07T18:49:02.938564Z"
    }
   },
   "outputs": [
    {
     "name": "stdout",
     "output_type": "stream",
     "text": [
      "gen\tnevals\tavg                        \tmin                      \tmax                        \n",
      "0  \t200   \t[153.2116924    1.19685985]\t[16.68056094  0.04846527]\t[843.55118052   6.65436187]\n",
      "1  \t200   \t[106.10765662   2.00830977]\t[15.38737793  0.04846527]\t[843.55118052   6.65436187]\n",
      "2  \t200   \t[97.76285533  2.74922536]  \t[10.9405396   0.05961228]\t[843.55118052   6.65436187]\n",
      "3  \t200   \t[72.95315606  3.52607027]  \t[10.9405396   0.05961228]\t[843.71301546   7.67189015]\n",
      "4  \t200   \t[55.77988412  3.87848586]  \t[10.08237291  0.03699515]\t[623.2856199    9.69434572]\n",
      "5  \t200   \t[73.10841391  4.41916761]  \t[6.68242906 0.03699515]  \t[623.2856199    9.69434572]\n",
      "6  \t200   \t[86.13335334  5.21716882]  \t[6.68242906 0.05815832]  \t[623.2856199    9.77358643]\n",
      "7  \t200   \t[126.59495149   5.99535864]\t[6.65667548 0.11171244]  \t[623.2856199    9.77358643]\n",
      "8  \t200   \t[167.83481248   6.57695396]\t[6.65667548 0.19563813]  \t[761.59926922  10.85234249]\n",
      "9  \t200   \t[150.9030634   6.9039794]  \t[6.59901675 0.23457189]  \t[623.2856199   11.74159935]\n",
      "10 \t200   \t[166.71222977   7.25600969]\t[4.93327841 0.23457189]  \t[623.2856199   11.74159935]\n",
      "11 \t200   \t[160.93957067   7.67942569]\t[4.68984467 0.27819063]  \t[626.0185822   11.74159935]\n",
      "12 \t200   \t[177.56362987   8.11780452]\t[4.68984467 0.13699515]  \t[626.0185822   11.77261712]\n",
      "13 \t200   \t[180.24355282   8.69140307]\t[4.68984467 0.77600969]  \t[623.55668284  12.45759289]\n",
      "14 \t200   \t[164.56051809   8.87202746]\t[4.22205731 0.77600969]  \t[610.90433344  13.26066236]\n",
      "15 \t200   \t[188.07110085   9.29807431]\t[4.22205731 0.77600969]  \t[610.90433344  13.26066236]\n",
      "16 \t200   \t[187.14612872   9.43304362]\t[3.8410807  0.77600969]  \t[613.69503372  13.72810985]\n",
      "17 \t200   \t[189.5895015    9.68001333]\t[3.8410807  2.63465267]  \t[613.69503372  13.72810985]\n",
      "18 \t200   \t[171.25453027   9.7638643 ]\t[3.8410807  2.90783522]  \t[613.69503372  13.72810985]\n",
      "19 \t200   \t[178.8571399   10.16974879]\t[3.68088344 2.78117932]  \t[613.69503372  13.72810985]\n",
      "20 \t200   \t[178.90015666  10.55337964]\t[3.5154847  2.78117932]  \t[613.69503372  13.72810985]\n",
      "21 \t200   \t[163.19184839  10.48501535]\t[2.8030082  2.78117932]  \t[610.90433344  13.72810985]\n",
      "22 \t200   \t[142.71998631  10.46450363]\t[2.8030082  2.78117932]  \t[606.48865685  13.86550889]\n",
      "23 \t200   \t[130.28912907  10.48920557]\t[2.57020933 2.78117932]  \t[606.48865685  13.86550889]\n",
      "24 \t200   \t[117.50695944  10.38200242]\t[2.4532092  2.78117932]  \t[602.60448585  14.50508885]\n",
      "25 \t200   \t[129.65578054  10.75353998]\t[2.4532092  2.90783522]  \t[603.67561712  14.51292407]\n",
      "26 \t200   \t[128.31031685  10.84258643]\t[2.4532092  3.51122779]  \t[603.67561712  14.51292407]\n",
      "27 \t200   \t[142.07018003  10.98806179]\t[2.24454723 3.51122779]  \t[602.60448585  14.51292407]\n",
      "28 \t200   \t[121.09069894  10.92474435]\t[2.24454723 3.51122779]  \t[601.7880554   15.31696284]\n",
      "29 \t200   \t[128.09147915  11.10984612]\t[2.24454723 3.02092084]  \t[601.7880554   15.31696284]\n",
      "30 \t200   \t[118.91291926  11.03889863]\t[2.24454723 3.02092084]  \t[601.7880554   15.31696284]\n",
      "31 \t200   \t[127.54723812  11.28260703]\t[2.24454723 3.02092084]  \t[602.50597012  15.31696284]\n",
      "32 \t200   \t[136.46802123  11.48788409]\t[2.24454723 3.02092084]  \t[602.50597012  15.31696284]\n",
      "33 \t200   \t[113.30553893  11.37801535]\t[2.13364765 3.02092084]  \t[600.06082244  15.31696284]\n",
      "34 \t200   \t[108.20633252  11.4009273 ]\t[2.13364765 3.02092084]  \t[600.06082244  15.31696284]\n",
      "35 \t200   \t[118.90850577  11.47069467]\t[2.13364765 3.51122779]  \t[599.99313646  15.31696284]\n",
      "36 \t200   \t[120.25083349  11.48923788]\t[1.93128549 3.51122779]  \t[586.7753559   15.31696284]\n",
      "37 \t200   \t[114.19822625  11.40571688]\t[1.93128549 3.51122779]  \t[575.12050521  15.31696284]\n",
      "38 \t200   \t[79.98589023 10.90918013]  \t[1.87240186 3.51122779]  \t[575.12050521  15.31696284]\n",
      "39 \t200   \t[81.80878318 10.9091668 ]  \t[1.87240186 2.82512116]  \t[575.12050521  15.31696284]\n",
      "40 \t200   \t[74.98488881 10.85557553]  \t[1.72188812 3.51122779]  \t[312.57499731  15.31696284]\n",
      "41 \t200   \t[76.63604302 10.99162076]  \t[1.72188812 3.95710824]  \t[312.57499731  15.31696284]\n",
      "42 \t200   \t[74.1341774  11.08457674]  \t[1.58544641 4.73465267]  \t[312.56618186  15.31696284]\n",
      "43 \t200   \t[81.50357953 11.26879079]  \t[1.58544641 4.73465267]  \t[312.56618186  15.31696284]\n",
      "44 \t200   \t[84.16266631 11.26997254]  \t[1.58544641 4.86647819]  \t[312.56618186  15.31696284]\n",
      "45 \t200   \t[80.89600845 11.19267851]  \t[1.58544641 4.86647819]  \t[312.56618186  15.31696284]\n",
      "46 \t200   \t[83.62082061 11.22230654]  \t[1.58544641 4.86647819]  \t[312.56618186  15.31696284]\n",
      "47 \t200   \t[81.6835978  11.21434491]  \t[1.58544641 4.86647819]  \t[302.81271911  15.31696284]\n",
      "48 \t200   \t[77.1744068 11.1010727]    \t[1.58544641 4.86647819]  \t[302.81271911  15.31696284]\n",
      "49 \t200   \t[76.59076503 11.00679604]  \t[1.49598479 4.86647819]  \t[302.81271911  15.31696284]\n",
      "50 \t200   \t[73.44475522 10.9833546 ]  \t[1.49598479 4.86647819]  \t[302.81271911  15.31696284]\n",
      "51 \t200   \t[76.19665155 10.96781785]  \t[1.49598479 4.53675283]  \t[302.81271911  15.31696284]\n",
      "52 \t200   \t[78.87836844 11.06122698]  \t[1.36654708 4.53675283]  \t[302.81271911  15.31696284]\n",
      "53 \t200   \t[68.70500847 10.89907027]  \t[1.36654708 4.53675283]  \t[302.81271911  15.31696284]\n",
      "54 \t200   \t[73.37636182 11.05838045]  \t[1.36654708 4.53675283]  \t[302.81271911  15.31696284]\n",
      "55 \t200   \t[77.65313504 11.11798627]  \t[1.36654708 4.53675283]  \t[302.81271911  15.31696284]\n",
      "56 \t200   \t[80.97520963 11.48154604]  \t[1.36654708 5.16930533]  \t[302.81271911  15.31696284]\n",
      "57 \t200   \t[86.21462198 11.56569911]  \t[1.36654708 5.16930533]  \t[302.81271911  15.31696284]\n",
      "58 \t200   \t[84.41913262 11.48333966]  \t[1.36654708 5.16930533]  \t[302.81271911  15.31696284]\n",
      "59 \t200   \t[87.61483999 11.56976535]  \t[1.36654708 5.16930533]  \t[302.81271911  15.31696284]\n",
      "60 \t200   \t[87.69761515 11.57310258]  \t[1.36654708 5.16930533]  \t[302.81271911  15.31696284]\n",
      "61 \t200   \t[97.4567486  11.71999798]  \t[1.26172368 5.53336026]  \t[302.81271911  15.31696284]\n",
      "62 \t200   \t[97.13568406 11.77044709]  \t[1.26172368 5.53336026]  \t[301.29950153  15.31696284]\n",
      "63 \t200   \t[84.34203873 11.617937  ]  \t[1.26172368 5.53336026]  \t[301.29950153  15.31696284]\n",
      "64 \t200   \t[90.01054439 11.60607674]  \t[1.26172368 5.53336026]  \t[301.29950153  15.31696284]\n",
      "65 \t200   \t[111.18880013  11.96718861]\t[1.26172368 5.53336026]  \t[312.61948199  15.31696284]\n",
      "66 \t200   \t[140.21091025  12.35660662]\t[1.26172368 5.53336026]  \t[301.29950153  15.31696284]\n",
      "67 \t200   \t[154.68233361  12.55488489]\t[1.26172368 5.53336026]  \t[301.29950153  15.31696284]\n",
      "68 \t200   \t[180.16217468  12.83440428]\t[1.26172368 5.53336026]  \t[301.29950153  15.31696284]\n",
      "69 \t200   \t[170.71472807  12.47832068]\t[1.26172368 5.53336026]  \t[301.29950153  15.31696284]\n",
      "70 \t200   \t[185.44291105  12.65812439]\t[1.26172368 5.53336026]  \t[301.29950153  15.31696284]\n",
      "71 \t200   \t[226.8387026   13.35225565]\t[1.26172368 5.53336026]  \t[301.29950153  15.31696284]\n",
      "72 \t200   \t[226.72997978  13.28175444]\t[1.26172368 5.53336026]  \t[301.29950153  15.31696284]\n",
      "73 \t200   \t[223.64634038  13.12510057]\t[1.26172368 5.53336026]  \t[301.29950153  15.31696284]\n",
      "74 \t200   \t[220.64440671  13.0560004 ]\t[1.26172368 5.53336026]  \t[301.29950153  15.31696284]\n",
      "75 \t200   \t[219.13267337  13.02601333]\t[1.26172368 5.53336026]  \t[301.29950153  15.31696284]\n",
      "76 \t200   \t[215.03621802  12.95327504]\t[1.26172368 5.53336026]  \t[301.29950153  15.31696284]\n",
      "77 \t200   \t[210.59305641  12.86093376]\t[1.26172368 5.53336026]  \t[301.29950153  15.31696284]\n",
      "78 \t200   \t[206.21282811  12.78581381]\t[1.26172368 5.53336026]  \t[301.29950153  15.31696284]\n",
      "79 \t200   \t[194.27628092  12.52156906]\t[1.26172368 5.53336026]  \t[301.29950153  15.31696284]\n",
      "80 \t200   \t[188.74821886  12.47740468]\t[1.26172368 5.53336026]  \t[301.29950153  15.31696284]\n",
      "81 \t200   \t[176.90925173  12.25494386]\t[1.26172368 5.53336026]  \t[301.29950153  15.31696284]\n",
      "82 \t200   \t[162.01080638  11.94672698]\t[1.26172368 5.53336026]  \t[301.29950153  15.31696284]\n",
      "83 \t200   \t[136.83341684  11.45585905]\t[1.26172368 5.53336026]  \t[301.29950153  15.31696284]\n",
      "84 \t200   \t[107.21505826  10.8853227 ]\t[1.26172368 5.53336026]  \t[301.29950153  15.31696284]\n",
      "85 \t200   \t[71.59770628 10.19833966]  \t[1.26172368 5.53336026]  \t[301.29950153  15.31696284]\n",
      "86 \t200   \t[46.48744171 10.01250727]  \t[1.26172368 5.53336026]  \t[301.29950153  15.31696284]\n",
      "87 \t200   \t[46.48744171 10.01250727]  \t[1.26172368 5.53336026]  \t[301.29950153  15.31696284]\n",
      "88 \t200   \t[46.48744171 10.01250727]  \t[1.26172368 5.53336026]  \t[301.29950153  15.31696284]\n",
      "89 \t200   \t[47.93570971 10.03998102]  \t[1.26172368 5.53336026]  \t[301.29950153  15.31696284]\n",
      "90 \t200   \t[40.67811922  9.9106248 ]  \t[1.26172368 5.53336026]  \t[301.29950153  15.31696284]\n",
      "91 \t200   \t[40.60968792  9.88644548]  \t[1.26172368 5.53336026]  \t[301.29950153  15.31696284]\n",
      "92 \t200   \t[40.60968792  9.88644548]  \t[1.26172368 5.53336026]  \t[301.29950153  15.31696284]\n",
      "93 \t200   \t[40.60968792  9.88644548]  \t[1.26172368 5.53336026]  \t[301.29950153  15.31696284]\n",
      "94 \t200   \t[42.10380328  9.90522213]  \t[1.26172368 5.53336026]  \t[301.29950153  15.31696284]\n",
      "95 \t200   \t[42.09631179  9.8804374 ]  \t[1.26172368 5.53336026]  \t[301.29950153  15.31696284]\n",
      "96 \t200   \t[44.97614506  9.91570719]  \t[1.26172368 5.53336026]  \t[301.29950153  15.31696284]\n",
      "97 \t200   \t[46.41049786  9.91800808]  \t[1.26172368 5.53336026]  \t[301.29950153  15.31696284]\n",
      "98 \t200   \t[47.85049223  9.92809855]  \t[1.26172368 5.53336026]  \t[301.29950153  15.31696284]\n",
      "99 \t200   \t[47.86235032 10.01857593]  \t[1.21147696 6.12705977]  \t[301.29950153  15.31696284]\n",
      "100\t200   \t[47.86687974 10.01403473]  \t[1.21147696 6.12705977]  \t[301.29950153  15.31696284]\n",
      "CPU times: user 22.6 s, sys: 18.5 ms, total: 22.7 s\n",
      "Wall time: 22.7 s\n"
     ]
    }
   ],
   "source": [
    "%%time \n",
    "result, log = algorithms.eaMuPlusLambda(pop, \n",
    "                                     toolbox, \n",
    "                                     mu=POP_SIZE, # The number of individuals to select for the next generation.\n",
    "                                     lambda_= POP_SIZE, # The number of children to produce at each generation.\n",
    "                                     cxpb= CX_PROB,\n",
    "                                     mutpb= MUT_PROB, \n",
    "                                     stats= stats, \n",
    "                                     ngen= MAX_GEN,\n",
    "                                     verbose= True,\n",
    "                                       halloffame=hof)"
   ]
  },
  {
   "cell_type": "code",
   "execution_count": 33,
   "id": "aec79628-c6ff-4a36-bcae-94906a1785b4",
   "metadata": {
    "execution": {
     "iopub.execute_input": "2023-07-07T18:49:25.606960Z",
     "iopub.status.busy": "2023-07-07T18:49:25.606830Z",
     "iopub.status.idle": "2023-07-07T18:49:25.609901Z",
     "shell.execute_reply": "2023-07-07T18:49:25.609594Z",
     "shell.execute_reply.started": "2023-07-07T18:49:25.606947Z"
    }
   },
   "outputs": [
    {
     "data": {
      "text/plain": [
       "[5, 119, 2, 4, 35, 20, 7]"
      ]
     },
     "execution_count": 33,
     "metadata": {},
     "output_type": "execute_result"
    }
   ],
   "source": [
    "hof.items[0]"
   ]
  },
  {
   "cell_type": "code",
   "execution_count": 34,
   "id": "e1e01c0c-96c4-4483-996d-f2bb57752f2f",
   "metadata": {
    "execution": {
     "iopub.execute_input": "2023-07-07T18:49:25.610402Z",
     "iopub.status.busy": "2023-07-07T18:49:25.610293Z",
     "iopub.status.idle": "2023-07-07T18:49:25.626063Z",
     "shell.execute_reply": "2023-07-07T18:49:25.625655Z",
     "shell.execute_reply.started": "2023-07-07T18:49:25.610390Z"
    }
   },
   "outputs": [],
   "source": [
    "fronts = tools.emo.sortLogNondominated(result, len(result))"
   ]
  },
  {
   "cell_type": "code",
   "execution_count": 35,
   "id": "b1e8f100-c61d-4f24-a449-fb27b2bf512f",
   "metadata": {
    "execution": {
     "iopub.execute_input": "2023-07-07T18:49:25.626658Z",
     "iopub.status.busy": "2023-07-07T18:49:25.626541Z",
     "iopub.status.idle": "2023-07-07T18:49:25.629683Z",
     "shell.execute_reply": "2023-07-07T18:49:25.629258Z",
     "shell.execute_reply.started": "2023-07-07T18:49:25.626646Z"
    }
   },
   "outputs": [
    {
     "data": {
      "text/plain": [
       "[5, 119, 2, 4, 35, 20, 7]"
      ]
     },
     "execution_count": 35,
     "metadata": {},
     "output_type": "execute_result"
    }
   ],
   "source": [
    "fronts[0][0]"
   ]
  },
  {
   "cell_type": "code",
   "execution_count": 36,
   "id": "7303d7fb-a27c-4d00-ac80-109d00a265e0",
   "metadata": {
    "execution": {
     "iopub.execute_input": "2023-07-07T18:49:25.630488Z",
     "iopub.status.busy": "2023-07-07T18:49:25.630341Z",
     "iopub.status.idle": "2023-07-07T18:49:25.639204Z",
     "shell.execute_reply": "2023-07-07T18:49:25.638628Z",
     "shell.execute_reply.started": "2023-07-07T18:49:25.630472Z"
    }
   },
   "outputs": [
    {
     "data": {
      "text/html": [
       "<div>\n",
       "<style scoped>\n",
       "    .dataframe tbody tr th:only-of-type {\n",
       "        vertical-align: middle;\n",
       "    }\n",
       "\n",
       "    .dataframe tbody tr th {\n",
       "        vertical-align: top;\n",
       "    }\n",
       "\n",
       "    .dataframe thead th {\n",
       "        text-align: right;\n",
       "    }\n",
       "</style>\n",
       "<table border=\"1\" class=\"dataframe\">\n",
       "  <thead>\n",
       "    <tr style=\"text-align: right;\">\n",
       "      <th></th>\n",
       "      <th>place</th>\n",
       "      <th>Rating</th>\n",
       "      <th>Popularity</th>\n",
       "      <th>latitude</th>\n",
       "      <th>longitude</th>\n",
       "      <th>State</th>\n",
       "    </tr>\n",
       "  </thead>\n",
       "  <tbody>\n",
       "    <tr>\n",
       "      <th>5</th>\n",
       "      <td>Visvesvaraya Industrial and Technological Museum</td>\n",
       "      <td>1.283845</td>\n",
       "      <td>1766.0</td>\n",
       "      <td>12.975284</td>\n",
       "      <td>77.596284</td>\n",
       "      <td>Karnataka</td>\n",
       "    </tr>\n",
       "    <tr>\n",
       "      <th>119</th>\n",
       "      <td>Museum of Art and Photography</td>\n",
       "      <td>0.000808</td>\n",
       "      <td>1.0</td>\n",
       "      <td>12.974507</td>\n",
       "      <td>77.596808</td>\n",
       "      <td>Karnataka</td>\n",
       "    </tr>\n",
       "    <tr>\n",
       "      <th>2</th>\n",
       "      <td>UB City</td>\n",
       "      <td>2.036995</td>\n",
       "      <td>2802.0</td>\n",
       "      <td>12.972334</td>\n",
       "      <td>77.596114</td>\n",
       "      <td>Karnataka</td>\n",
       "    </tr>\n",
       "    <tr>\n",
       "      <th>4</th>\n",
       "      <td>Cubbon Park</td>\n",
       "      <td>1.613570</td>\n",
       "      <td>2497.0</td>\n",
       "      <td>12.974244</td>\n",
       "      <td>77.592195</td>\n",
       "      <td>Karnataka</td>\n",
       "    </tr>\n",
       "    <tr>\n",
       "      <th>35</th>\n",
       "      <td>Karnataka High Court</td>\n",
       "      <td>0.080129</td>\n",
       "      <td>124.0</td>\n",
       "      <td>12.977885</td>\n",
       "      <td>77.592673</td>\n",
       "      <td>Karnataka</td>\n",
       "    </tr>\n",
       "    <tr>\n",
       "      <th>20</th>\n",
       "      <td>Indira Gandhi Musical Fountain</td>\n",
       "      <td>0.149919</td>\n",
       "      <td>232.0</td>\n",
       "      <td>12.985200</td>\n",
       "      <td>77.591859</td>\n",
       "      <td>Karnataka</td>\n",
       "    </tr>\n",
       "    <tr>\n",
       "      <th>7</th>\n",
       "      <td>Bangalore Palace</td>\n",
       "      <td>0.961793</td>\n",
       "      <td>1701.0</td>\n",
       "      <td>12.998595</td>\n",
       "      <td>77.592009</td>\n",
       "      <td>Karnataka</td>\n",
       "    </tr>\n",
       "  </tbody>\n",
       "</table>\n",
       "</div>"
      ],
      "text/plain": [
       "                                                 place    Rating  Popularity   \n",
       "5     Visvesvaraya Industrial and Technological Museum  1.283845      1766.0  \\\n",
       "119                      Museum of Art and Photography  0.000808         1.0   \n",
       "2                                              UB City  2.036995      2802.0   \n",
       "4                                          Cubbon Park  1.613570      2497.0   \n",
       "35                                Karnataka High Court  0.080129       124.0   \n",
       "20                      Indira Gandhi Musical Fountain  0.149919       232.0   \n",
       "7                                     Bangalore Palace  0.961793      1701.0   \n",
       "\n",
       "      latitude  longitude      State  \n",
       "5    12.975284  77.596284  Karnataka  \n",
       "119  12.974507  77.596808  Karnataka  \n",
       "2    12.972334  77.596114  Karnataka  \n",
       "4    12.974244  77.592195  Karnataka  \n",
       "35   12.977885  77.592673  Karnataka  \n",
       "20   12.985200  77.591859  Karnataka  \n",
       "7    12.998595  77.592009  Karnataka  "
      ]
     },
     "execution_count": 36,
     "metadata": {},
     "output_type": "execute_result"
    }
   ],
   "source": [
    "df_loc.iloc[hof.items[0]]"
   ]
  },
  {
   "cell_type": "code",
   "execution_count": 37,
   "id": "70e483b6-9e19-4702-a2a2-1dfe4c7e9e46",
   "metadata": {
    "execution": {
     "iopub.execute_input": "2023-07-07T18:49:25.639908Z",
     "iopub.status.busy": "2023-07-07T18:49:25.639758Z",
     "iopub.status.idle": "2023-07-07T18:49:25.646412Z",
     "shell.execute_reply": "2023-07-07T18:49:25.646054Z",
     "shell.execute_reply.started": "2023-07-07T18:49:25.639894Z"
    }
   },
   "outputs": [
    {
     "data": {
      "text/html": [
       "<div>\n",
       "<style scoped>\n",
       "    .dataframe tbody tr th:only-of-type {\n",
       "        vertical-align: middle;\n",
       "    }\n",
       "\n",
       "    .dataframe tbody tr th {\n",
       "        vertical-align: top;\n",
       "    }\n",
       "\n",
       "    .dataframe thead th {\n",
       "        text-align: right;\n",
       "    }\n",
       "</style>\n",
       "<table border=\"1\" class=\"dataframe\">\n",
       "  <thead>\n",
       "    <tr style=\"text-align: right;\">\n",
       "      <th></th>\n",
       "      <th>place</th>\n",
       "      <th>Rating</th>\n",
       "      <th>Popularity</th>\n",
       "      <th>latitude</th>\n",
       "      <th>longitude</th>\n",
       "      <th>State</th>\n",
       "    </tr>\n",
       "  </thead>\n",
       "  <tbody>\n",
       "    <tr>\n",
       "      <th>5</th>\n",
       "      <td>Visvesvaraya Industrial and Technological Museum</td>\n",
       "      <td>1.283845</td>\n",
       "      <td>1766.0</td>\n",
       "      <td>12.975284</td>\n",
       "      <td>77.596284</td>\n",
       "      <td>Karnataka</td>\n",
       "    </tr>\n",
       "    <tr>\n",
       "      <th>119</th>\n",
       "      <td>Museum of Art and Photography</td>\n",
       "      <td>0.000808</td>\n",
       "      <td>1.0</td>\n",
       "      <td>12.974507</td>\n",
       "      <td>77.596808</td>\n",
       "      <td>Karnataka</td>\n",
       "    </tr>\n",
       "    <tr>\n",
       "      <th>2</th>\n",
       "      <td>UB City</td>\n",
       "      <td>2.036995</td>\n",
       "      <td>2802.0</td>\n",
       "      <td>12.972334</td>\n",
       "      <td>77.596114</td>\n",
       "      <td>Karnataka</td>\n",
       "    </tr>\n",
       "    <tr>\n",
       "      <th>4</th>\n",
       "      <td>Cubbon Park</td>\n",
       "      <td>1.613570</td>\n",
       "      <td>2497.0</td>\n",
       "      <td>12.974244</td>\n",
       "      <td>77.592195</td>\n",
       "      <td>Karnataka</td>\n",
       "    </tr>\n",
       "    <tr>\n",
       "      <th>35</th>\n",
       "      <td>Karnataka High Court</td>\n",
       "      <td>0.080129</td>\n",
       "      <td>124.0</td>\n",
       "      <td>12.977885</td>\n",
       "      <td>77.592673</td>\n",
       "      <td>Karnataka</td>\n",
       "    </tr>\n",
       "    <tr>\n",
       "      <th>20</th>\n",
       "      <td>Indira Gandhi Musical Fountain</td>\n",
       "      <td>0.149919</td>\n",
       "      <td>232.0</td>\n",
       "      <td>12.985200</td>\n",
       "      <td>77.591859</td>\n",
       "      <td>Karnataka</td>\n",
       "    </tr>\n",
       "    <tr>\n",
       "      <th>7</th>\n",
       "      <td>Bangalore Palace</td>\n",
       "      <td>0.961793</td>\n",
       "      <td>1701.0</td>\n",
       "      <td>12.998595</td>\n",
       "      <td>77.592009</td>\n",
       "      <td>Karnataka</td>\n",
       "    </tr>\n",
       "  </tbody>\n",
       "</table>\n",
       "</div>"
      ],
      "text/plain": [
       "                                                 place    Rating  Popularity   \n",
       "5     Visvesvaraya Industrial and Technological Museum  1.283845      1766.0  \\\n",
       "119                      Museum of Art and Photography  0.000808         1.0   \n",
       "2                                              UB City  2.036995      2802.0   \n",
       "4                                          Cubbon Park  1.613570      2497.0   \n",
       "35                                Karnataka High Court  0.080129       124.0   \n",
       "20                      Indira Gandhi Musical Fountain  0.149919       232.0   \n",
       "7                                     Bangalore Palace  0.961793      1701.0   \n",
       "\n",
       "      latitude  longitude      State  \n",
       "5    12.975284  77.596284  Karnataka  \n",
       "119  12.974507  77.596808  Karnataka  \n",
       "2    12.972334  77.596114  Karnataka  \n",
       "4    12.974244  77.592195  Karnataka  \n",
       "35   12.977885  77.592673  Karnataka  \n",
       "20   12.985200  77.591859  Karnataka  \n",
       "7    12.998595  77.592009  Karnataka  "
      ]
     },
     "execution_count": 37,
     "metadata": {},
     "output_type": "execute_result"
    }
   ],
   "source": [
    "df_loc.iloc[fronts[0][0]]"
   ]
  },
  {
   "cell_type": "code",
   "execution_count": 38,
   "id": "46ea6b0d-6372-46de-a025-eb038db41002",
   "metadata": {
    "execution": {
     "iopub.execute_input": "2023-07-07T18:49:25.647126Z",
     "iopub.status.busy": "2023-07-07T18:49:25.646988Z",
     "iopub.status.idle": "2023-07-07T18:49:25.654432Z",
     "shell.execute_reply": "2023-07-07T18:49:25.654091Z",
     "shell.execute_reply.started": "2023-07-07T18:49:25.647109Z"
    }
   },
   "outputs": [
    {
     "data": {
      "text/html": [
       "<div>\n",
       "<style scoped>\n",
       "    .dataframe tbody tr th:only-of-type {\n",
       "        vertical-align: middle;\n",
       "    }\n",
       "\n",
       "    .dataframe tbody tr th {\n",
       "        vertical-align: top;\n",
       "    }\n",
       "\n",
       "    .dataframe thead th {\n",
       "        text-align: right;\n",
       "    }\n",
       "</style>\n",
       "<table border=\"1\" class=\"dataframe\">\n",
       "  <thead>\n",
       "    <tr style=\"text-align: right;\">\n",
       "      <th></th>\n",
       "      <th>place</th>\n",
       "      <th>Rating</th>\n",
       "      <th>Popularity</th>\n",
       "      <th>latitude</th>\n",
       "      <th>longitude</th>\n",
       "      <th>State</th>\n",
       "    </tr>\n",
       "  </thead>\n",
       "  <tbody>\n",
       "    <tr>\n",
       "      <th>5</th>\n",
       "      <td>Visvesvaraya Industrial and Technological Museum</td>\n",
       "      <td>1.283845</td>\n",
       "      <td>1766.0</td>\n",
       "      <td>12.975284</td>\n",
       "      <td>77.596284</td>\n",
       "      <td>Karnataka</td>\n",
       "    </tr>\n",
       "    <tr>\n",
       "      <th>119</th>\n",
       "      <td>Museum of Art and Photography</td>\n",
       "      <td>0.000808</td>\n",
       "      <td>1.0</td>\n",
       "      <td>12.974507</td>\n",
       "      <td>77.596808</td>\n",
       "      <td>Karnataka</td>\n",
       "    </tr>\n",
       "    <tr>\n",
       "      <th>2</th>\n",
       "      <td>UB City</td>\n",
       "      <td>2.036995</td>\n",
       "      <td>2802.0</td>\n",
       "      <td>12.972334</td>\n",
       "      <td>77.596114</td>\n",
       "      <td>Karnataka</td>\n",
       "    </tr>\n",
       "    <tr>\n",
       "      <th>115</th>\n",
       "      <td>Bengaluru Lights</td>\n",
       "      <td>0.004039</td>\n",
       "      <td>5.0</td>\n",
       "      <td>12.965254</td>\n",
       "      <td>77.595615</td>\n",
       "      <td>Karnataka</td>\n",
       "    </tr>\n",
       "    <tr>\n",
       "      <th>35</th>\n",
       "      <td>Karnataka High Court</td>\n",
       "      <td>0.080129</td>\n",
       "      <td>124.0</td>\n",
       "      <td>12.977885</td>\n",
       "      <td>77.592673</td>\n",
       "      <td>Karnataka</td>\n",
       "    </tr>\n",
       "    <tr>\n",
       "      <th>4</th>\n",
       "      <td>Cubbon Park</td>\n",
       "      <td>1.613570</td>\n",
       "      <td>2497.0</td>\n",
       "      <td>12.974244</td>\n",
       "      <td>77.592195</td>\n",
       "      <td>Karnataka</td>\n",
       "    </tr>\n",
       "    <tr>\n",
       "      <th>1</th>\n",
       "      <td>Lalbagh Botanical Garden</td>\n",
       "      <td>4.000000</td>\n",
       "      <td>6190.0</td>\n",
       "      <td>12.948937</td>\n",
       "      <td>77.586987</td>\n",
       "      <td>Karnataka</td>\n",
       "    </tr>\n",
       "  </tbody>\n",
       "</table>\n",
       "</div>"
      ],
      "text/plain": [
       "                                                 place    Rating  Popularity   \n",
       "5     Visvesvaraya Industrial and Technological Museum  1.283845      1766.0  \\\n",
       "119                      Museum of Art and Photography  0.000808         1.0   \n",
       "2                                              UB City  2.036995      2802.0   \n",
       "115                                   Bengaluru Lights  0.004039         5.0   \n",
       "35                                Karnataka High Court  0.080129       124.0   \n",
       "4                                          Cubbon Park  1.613570      2497.0   \n",
       "1                             Lalbagh Botanical Garden  4.000000      6190.0   \n",
       "\n",
       "      latitude  longitude      State  \n",
       "5    12.975284  77.596284  Karnataka  \n",
       "119  12.974507  77.596808  Karnataka  \n",
       "2    12.972334  77.596114  Karnataka  \n",
       "115  12.965254  77.595615  Karnataka  \n",
       "35   12.977885  77.592673  Karnataka  \n",
       "4    12.974244  77.592195  Karnataka  \n",
       "1    12.948937  77.586987  Karnataka  "
      ]
     },
     "execution_count": 38,
     "metadata": {},
     "output_type": "execute_result"
    }
   ],
   "source": [
    "df_loc.iloc[fronts[0][99]]"
   ]
  },
  {
   "cell_type": "code",
   "execution_count": 39,
   "id": "77164997-ac29-4c35-9284-1095c3f4f1cf",
   "metadata": {
    "execution": {
     "iopub.execute_input": "2023-07-07T18:49:25.655006Z",
     "iopub.status.busy": "2023-07-07T18:49:25.654889Z",
     "iopub.status.idle": "2023-07-07T18:49:25.661438Z",
     "shell.execute_reply": "2023-07-07T18:49:25.661134Z",
     "shell.execute_reply.started": "2023-07-07T18:49:25.654994Z"
    }
   },
   "outputs": [
    {
     "data": {
      "text/html": [
       "<div>\n",
       "<style scoped>\n",
       "    .dataframe tbody tr th:only-of-type {\n",
       "        vertical-align: middle;\n",
       "    }\n",
       "\n",
       "    .dataframe tbody tr th {\n",
       "        vertical-align: top;\n",
       "    }\n",
       "\n",
       "    .dataframe thead th {\n",
       "        text-align: right;\n",
       "    }\n",
       "</style>\n",
       "<table border=\"1\" class=\"dataframe\">\n",
       "  <thead>\n",
       "    <tr style=\"text-align: right;\">\n",
       "      <th></th>\n",
       "      <th>place</th>\n",
       "      <th>Rating</th>\n",
       "      <th>Popularity</th>\n",
       "      <th>latitude</th>\n",
       "      <th>longitude</th>\n",
       "      <th>State</th>\n",
       "    </tr>\n",
       "  </thead>\n",
       "  <tbody>\n",
       "    <tr>\n",
       "      <th>5</th>\n",
       "      <td>Visvesvaraya Industrial and Technological Museum</td>\n",
       "      <td>1.283845</td>\n",
       "      <td>1766.0</td>\n",
       "      <td>12.975284</td>\n",
       "      <td>77.596284</td>\n",
       "      <td>Karnataka</td>\n",
       "    </tr>\n",
       "    <tr>\n",
       "      <th>119</th>\n",
       "      <td>Museum of Art and Photography</td>\n",
       "      <td>0.000808</td>\n",
       "      <td>1.0</td>\n",
       "      <td>12.974507</td>\n",
       "      <td>77.596808</td>\n",
       "      <td>Karnataka</td>\n",
       "    </tr>\n",
       "    <tr>\n",
       "      <th>2</th>\n",
       "      <td>UB City</td>\n",
       "      <td>2.036995</td>\n",
       "      <td>2802.0</td>\n",
       "      <td>12.972334</td>\n",
       "      <td>77.596114</td>\n",
       "      <td>Karnataka</td>\n",
       "    </tr>\n",
       "    <tr>\n",
       "      <th>4</th>\n",
       "      <td>Cubbon Park</td>\n",
       "      <td>1.613570</td>\n",
       "      <td>2497.0</td>\n",
       "      <td>12.974244</td>\n",
       "      <td>77.592195</td>\n",
       "      <td>Karnataka</td>\n",
       "    </tr>\n",
       "    <tr>\n",
       "      <th>35</th>\n",
       "      <td>Karnataka High Court</td>\n",
       "      <td>0.080129</td>\n",
       "      <td>124.0</td>\n",
       "      <td>12.977885</td>\n",
       "      <td>77.592673</td>\n",
       "      <td>Karnataka</td>\n",
       "    </tr>\n",
       "    <tr>\n",
       "      <th>20</th>\n",
       "      <td>Indira Gandhi Musical Fountain</td>\n",
       "      <td>0.149919</td>\n",
       "      <td>232.0</td>\n",
       "      <td>12.985200</td>\n",
       "      <td>77.591859</td>\n",
       "      <td>Karnataka</td>\n",
       "    </tr>\n",
       "    <tr>\n",
       "      <th>7</th>\n",
       "      <td>Bangalore Palace</td>\n",
       "      <td>0.961793</td>\n",
       "      <td>1701.0</td>\n",
       "      <td>12.998595</td>\n",
       "      <td>77.592009</td>\n",
       "      <td>Karnataka</td>\n",
       "    </tr>\n",
       "  </tbody>\n",
       "</table>\n",
       "</div>"
      ],
      "text/plain": [
       "                                                 place    Rating  Popularity   \n",
       "5     Visvesvaraya Industrial and Technological Museum  1.283845      1766.0  \\\n",
       "119                      Museum of Art and Photography  0.000808         1.0   \n",
       "2                                              UB City  2.036995      2802.0   \n",
       "4                                          Cubbon Park  1.613570      2497.0   \n",
       "35                                Karnataka High Court  0.080129       124.0   \n",
       "20                      Indira Gandhi Musical Fountain  0.149919       232.0   \n",
       "7                                     Bangalore Palace  0.961793      1701.0   \n",
       "\n",
       "      latitude  longitude      State  \n",
       "5    12.975284  77.596284  Karnataka  \n",
       "119  12.974507  77.596808  Karnataka  \n",
       "2    12.972334  77.596114  Karnataka  \n",
       "4    12.974244  77.592195  Karnataka  \n",
       "35   12.977885  77.592673  Karnataka  \n",
       "20   12.985200  77.591859  Karnataka  \n",
       "7    12.998595  77.592009  Karnataka  "
      ]
     },
     "execution_count": 39,
     "metadata": {},
     "output_type": "execute_result"
    }
   ],
   "source": [
    "df_loc.iloc[hof[0]]"
   ]
  },
  {
   "cell_type": "code",
   "execution_count": 40,
   "id": "b6db5efb-49c0-48bd-b8c2-f43041b9d032",
   "metadata": {
    "execution": {
     "iopub.execute_input": "2023-07-07T18:49:25.661937Z",
     "iopub.status.busy": "2023-07-07T18:49:25.661830Z",
     "iopub.status.idle": "2023-07-07T18:49:25.675811Z",
     "shell.execute_reply": "2023-07-07T18:49:25.675466Z",
     "shell.execute_reply.started": "2023-07-07T18:49:25.661925Z"
    }
   },
   "outputs": [
    {
     "name": "stdout",
     "output_type": "stream",
     "text": [
      "(1.7164002554494562, 9.019386106623587)\n"
     ]
    },
    {
     "name": "stderr",
     "output_type": "stream",
     "text": [
      "/tmp/ipykernel_26978/2200379965.py:5: FutureWarning: Method `add_children` is deprecated. Please use `add_child` instead.\n",
      "  m.add_children(path)\n"
     ]
    },
    {
     "data": {
      "text/html": [
       "<div style=\"width:100%;\"><div style=\"position:relative;width:100%;height:0;padding-bottom:60%;\"><span style=\"color:#565656\">Make this Notebook Trusted to load map: File -> Trust Notebook</span><iframe srcdoc=\"&lt;!DOCTYPE html&gt;\n",
       "&lt;html&gt;\n",
       "&lt;head&gt;\n",
       "    \n",
       "    &lt;meta http-equiv=&quot;content-type&quot; content=&quot;text/html; charset=UTF-8&quot; /&gt;\n",
       "    \n",
       "        &lt;script&gt;\n",
       "            L_NO_TOUCH = false;\n",
       "            L_DISABLE_3D = false;\n",
       "        &lt;/script&gt;\n",
       "    \n",
       "    &lt;style&gt;html, body {width: 100%;height: 100%;margin: 0;padding: 0;}&lt;/style&gt;\n",
       "    &lt;style&gt;#map {position:absolute;top:0;bottom:0;right:0;left:0;}&lt;/style&gt;\n",
       "    &lt;script src=&quot;https://cdn.jsdelivr.net/npm/leaflet@1.9.3/dist/leaflet.js&quot;&gt;&lt;/script&gt;\n",
       "    &lt;script src=&quot;https://code.jquery.com/jquery-1.12.4.min.js&quot;&gt;&lt;/script&gt;\n",
       "    &lt;script src=&quot;https://cdn.jsdelivr.net/npm/bootstrap@5.2.2/dist/js/bootstrap.bundle.min.js&quot;&gt;&lt;/script&gt;\n",
       "    &lt;script src=&quot;https://cdnjs.cloudflare.com/ajax/libs/Leaflet.awesome-markers/2.0.2/leaflet.awesome-markers.js&quot;&gt;&lt;/script&gt;\n",
       "    &lt;link rel=&quot;stylesheet&quot; href=&quot;https://cdn.jsdelivr.net/npm/leaflet@1.9.3/dist/leaflet.css&quot;/&gt;\n",
       "    &lt;link rel=&quot;stylesheet&quot; href=&quot;https://cdn.jsdelivr.net/npm/bootstrap@5.2.2/dist/css/bootstrap.min.css&quot;/&gt;\n",
       "    &lt;link rel=&quot;stylesheet&quot; href=&quot;https://netdna.bootstrapcdn.com/bootstrap/3.0.0/css/bootstrap.min.css&quot;/&gt;\n",
       "    &lt;link rel=&quot;stylesheet&quot; href=&quot;https://cdn.jsdelivr.net/npm/@fortawesome/fontawesome-free@6.2.0/css/all.min.css&quot;/&gt;\n",
       "    &lt;link rel=&quot;stylesheet&quot; href=&quot;https://cdnjs.cloudflare.com/ajax/libs/Leaflet.awesome-markers/2.0.2/leaflet.awesome-markers.css&quot;/&gt;\n",
       "    &lt;link rel=&quot;stylesheet&quot; href=&quot;https://cdn.jsdelivr.net/gh/python-visualization/folium/folium/templates/leaflet.awesome.rotate.min.css&quot;/&gt;\n",
       "    \n",
       "            &lt;meta name=&quot;viewport&quot; content=&quot;width=device-width,\n",
       "                initial-scale=1.0, maximum-scale=1.0, user-scalable=no&quot; /&gt;\n",
       "            &lt;style&gt;\n",
       "                #map_32e73fd1d4603cd33a275721c1d0eb48 {\n",
       "                    position: relative;\n",
       "                    width: 100.0%;\n",
       "                    height: 100.0%;\n",
       "                    left: 0.0%;\n",
       "                    top: 0.0%;\n",
       "                }\n",
       "                .leaflet-container { font-size: 1rem; }\n",
       "            &lt;/style&gt;\n",
       "        \n",
       "&lt;/head&gt;\n",
       "&lt;body&gt;\n",
       "    \n",
       "    \n",
       "            &lt;div class=&quot;folium-map&quot; id=&quot;map_32e73fd1d4603cd33a275721c1d0eb48&quot; &gt;&lt;/div&gt;\n",
       "        \n",
       "&lt;/body&gt;\n",
       "&lt;script&gt;\n",
       "    \n",
       "    \n",
       "            var map_32e73fd1d4603cd33a275721c1d0eb48 = L.map(\n",
       "                &quot;map_32e73fd1d4603cd33a275721c1d0eb48&quot;,\n",
       "                {\n",
       "                    center: [13.035799007835822, 77.52559955181108],\n",
       "                    crs: L.CRS.EPSG3857,\n",
       "                    zoom: 8,\n",
       "                    zoomControl: true,\n",
       "                    preferCanvas: false,\n",
       "                }\n",
       "            );\n",
       "\n",
       "            \n",
       "\n",
       "        \n",
       "    \n",
       "            var tile_layer_b20c7b09a2a2ff78bcddd1b4ca5c3a41 = L.tileLayer(\n",
       "                &quot;https://{s}.tile.openstreetmap.org/{z}/{x}/{y}.png&quot;,\n",
       "                {&quot;attribution&quot;: &quot;Data by \\u0026copy; \\u003ca target=\\&quot;_blank\\&quot; href=\\&quot;http://openstreetmap.org\\&quot;\\u003eOpenStreetMap\\u003c/a\\u003e, under \\u003ca target=\\&quot;_blank\\&quot; href=\\&quot;http://www.openstreetmap.org/copyright\\&quot;\\u003eODbL\\u003c/a\\u003e.&quot;, &quot;detectRetina&quot;: false, &quot;maxNativeZoom&quot;: 18, &quot;maxZoom&quot;: 18, &quot;minZoom&quot;: 0, &quot;noWrap&quot;: false, &quot;opacity&quot;: 1, &quot;subdomains&quot;: &quot;abc&quot;, &quot;tms&quot;: false}\n",
       "            ).addTo(map_32e73fd1d4603cd33a275721c1d0eb48);\n",
       "        \n",
       "    \n",
       "            var poly_line_8c47f5b1c9948b644f4d60c0ba24f633 = L.polyline(\n",
       "                [[12.97528365, 77.59628434047809], [12.974507, 77.5968079106195], [12.9723336, 77.59611365584038], [12.9652544, 77.5956151], [12.9778852, 77.59267308050954], [12.97424405, 77.59219502919655], [12.9489367, 77.58698687897964]],\n",
       "                {&quot;bubblingMouseEvents&quot;: true, &quot;color&quot;: &quot;#3388ff&quot;, &quot;dashArray&quot;: null, &quot;dashOffset&quot;: null, &quot;fill&quot;: false, &quot;fillColor&quot;: &quot;#3388ff&quot;, &quot;fillOpacity&quot;: 0.2, &quot;fillRule&quot;: &quot;evenodd&quot;, &quot;lineCap&quot;: &quot;round&quot;, &quot;lineJoin&quot;: &quot;round&quot;, &quot;noClip&quot;: false, &quot;opacity&quot;: 1.0, &quot;smoothFactor&quot;: 1.0, &quot;stroke&quot;: true, &quot;weight&quot;: 5}\n",
       "            ).addTo(map_32e73fd1d4603cd33a275721c1d0eb48);\n",
       "        \n",
       "    \n",
       "            var marker_d07ea6515fa98092edb88b5b85d526db = L.marker(\n",
       "                [12.97528365, 77.59628434047809],\n",
       "                {}\n",
       "            ).addTo(map_32e73fd1d4603cd33a275721c1d0eb48);\n",
       "        \n",
       "    \n",
       "        var popup_7b46143220437b2b177133ff31f670d2 = L.popup({&quot;maxWidth&quot;: &quot;100%&quot;});\n",
       "\n",
       "        \n",
       "            \n",
       "                var html_5882b67b7545ecaba3fbae468795baa8 = $(`&lt;div id=&quot;html_5882b67b7545ecaba3fbae468795baa8&quot; style=&quot;width: 100.0%; height: 100.0%;&quot;&gt; Visvesvaraya Industrial and Technological Museum // Score : 1.2838449111470112 &lt;/div&gt;`)[0];\n",
       "                popup_7b46143220437b2b177133ff31f670d2.setContent(html_5882b67b7545ecaba3fbae468795baa8);\n",
       "            \n",
       "        \n",
       "\n",
       "        marker_d07ea6515fa98092edb88b5b85d526db.bindPopup(popup_7b46143220437b2b177133ff31f670d2)\n",
       "        ;\n",
       "\n",
       "        \n",
       "    \n",
       "    \n",
       "            var marker_4d4647462129838b86cb90a663ad47c8 = L.marker(\n",
       "                [12.974507, 77.5968079106195],\n",
       "                {}\n",
       "            ).addTo(map_32e73fd1d4603cd33a275721c1d0eb48);\n",
       "        \n",
       "    \n",
       "        var popup_2050de3e04bf703082ce06eecbed31e3 = L.popup({&quot;maxWidth&quot;: &quot;100%&quot;});\n",
       "\n",
       "        \n",
       "            \n",
       "                var html_401de8d84620c66efef6b7bc10b88f1f = $(`&lt;div id=&quot;html_401de8d84620c66efef6b7bc10b88f1f&quot; style=&quot;width: 100.0%; height: 100.0%;&quot;&gt; Museum of Art and Photography // Score : 0.0008077544426494346 &lt;/div&gt;`)[0];\n",
       "                popup_2050de3e04bf703082ce06eecbed31e3.setContent(html_401de8d84620c66efef6b7bc10b88f1f);\n",
       "            \n",
       "        \n",
       "\n",
       "        marker_4d4647462129838b86cb90a663ad47c8.bindPopup(popup_2050de3e04bf703082ce06eecbed31e3)\n",
       "        ;\n",
       "\n",
       "        \n",
       "    \n",
       "    \n",
       "            var marker_9ce4ffa79b1df3a9f7135aed86f3b616 = L.marker(\n",
       "                [12.9723336, 77.59611365584038],\n",
       "                {}\n",
       "            ).addTo(map_32e73fd1d4603cd33a275721c1d0eb48);\n",
       "        \n",
       "    \n",
       "        var popup_6a06a3f12620dfb6c2c17e0ca1122562 = L.popup({&quot;maxWidth&quot;: &quot;100%&quot;});\n",
       "\n",
       "        \n",
       "            \n",
       "                var html_3bfb668a0ebca67a249729f274f55d52 = $(`&lt;div id=&quot;html_3bfb668a0ebca67a249729f274f55d52&quot; style=&quot;width: 100.0%; height: 100.0%;&quot;&gt; UB City // Score : 2.0369951534733444 &lt;/div&gt;`)[0];\n",
       "                popup_6a06a3f12620dfb6c2c17e0ca1122562.setContent(html_3bfb668a0ebca67a249729f274f55d52);\n",
       "            \n",
       "        \n",
       "\n",
       "        marker_9ce4ffa79b1df3a9f7135aed86f3b616.bindPopup(popup_6a06a3f12620dfb6c2c17e0ca1122562)\n",
       "        ;\n",
       "\n",
       "        \n",
       "    \n",
       "    \n",
       "            var marker_94e8666365ac1322b4162700a9d5fbb7 = L.marker(\n",
       "                [12.9652544, 77.5956151],\n",
       "                {}\n",
       "            ).addTo(map_32e73fd1d4603cd33a275721c1d0eb48);\n",
       "        \n",
       "    \n",
       "        var popup_1c76020e462b7e3dcca2cc0fff0c29df = L.popup({&quot;maxWidth&quot;: &quot;100%&quot;});\n",
       "\n",
       "        \n",
       "            \n",
       "                var html_245b106a292395b8ddb9e9c770b8434d = $(`&lt;div id=&quot;html_245b106a292395b8ddb9e9c770b8434d&quot; style=&quot;width: 100.0%; height: 100.0%;&quot;&gt; Bengaluru Lights // Score : 0.004038772213247173 &lt;/div&gt;`)[0];\n",
       "                popup_1c76020e462b7e3dcca2cc0fff0c29df.setContent(html_245b106a292395b8ddb9e9c770b8434d);\n",
       "            \n",
       "        \n",
       "\n",
       "        marker_94e8666365ac1322b4162700a9d5fbb7.bindPopup(popup_1c76020e462b7e3dcca2cc0fff0c29df)\n",
       "        ;\n",
       "\n",
       "        \n",
       "    \n",
       "    \n",
       "            var marker_53140ceb99e1190a4e7d58a1e3bea79f = L.marker(\n",
       "                [12.9778852, 77.59267308050954],\n",
       "                {}\n",
       "            ).addTo(map_32e73fd1d4603cd33a275721c1d0eb48);\n",
       "        \n",
       "    \n",
       "        var popup_db2eb0dfa4009f95704537d8c7789eac = L.popup({&quot;maxWidth&quot;: &quot;100%&quot;});\n",
       "\n",
       "        \n",
       "            \n",
       "                var html_b1125b9314e4b6821faee6e92f4783a6 = $(`&lt;div id=&quot;html_b1125b9314e4b6821faee6e92f4783a6&quot; style=&quot;width: 100.0%; height: 100.0%;&quot;&gt; Karnataka High Court // Score : 0.0801292407108239 &lt;/div&gt;`)[0];\n",
       "                popup_db2eb0dfa4009f95704537d8c7789eac.setContent(html_b1125b9314e4b6821faee6e92f4783a6);\n",
       "            \n",
       "        \n",
       "\n",
       "        marker_53140ceb99e1190a4e7d58a1e3bea79f.bindPopup(popup_db2eb0dfa4009f95704537d8c7789eac)\n",
       "        ;\n",
       "\n",
       "        \n",
       "    \n",
       "    \n",
       "            var marker_3a9b9339951469db383271226c5ae260 = L.marker(\n",
       "                [12.97424405, 77.59219502919655],\n",
       "                {}\n",
       "            ).addTo(map_32e73fd1d4603cd33a275721c1d0eb48);\n",
       "        \n",
       "    \n",
       "        var popup_06737a847b6ab0513be04e2b53d98b0a = L.popup({&quot;maxWidth&quot;: &quot;100%&quot;});\n",
       "\n",
       "        \n",
       "            \n",
       "                var html_e1912fdb20544fa1f6321a4ad1bf599f = $(`&lt;div id=&quot;html_e1912fdb20544fa1f6321a4ad1bf599f&quot; style=&quot;width: 100.0%; height: 100.0%;&quot;&gt; Cubbon Park // Score : 1.6135702746365106 &lt;/div&gt;`)[0];\n",
       "                popup_06737a847b6ab0513be04e2b53d98b0a.setContent(html_e1912fdb20544fa1f6321a4ad1bf599f);\n",
       "            \n",
       "        \n",
       "\n",
       "        marker_3a9b9339951469db383271226c5ae260.bindPopup(popup_06737a847b6ab0513be04e2b53d98b0a)\n",
       "        ;\n",
       "\n",
       "        \n",
       "    \n",
       "    \n",
       "            var marker_a69951583a14d64701825459c947d2f7 = L.marker(\n",
       "                [12.9489367, 77.58698687897964],\n",
       "                {}\n",
       "            ).addTo(map_32e73fd1d4603cd33a275721c1d0eb48);\n",
       "        \n",
       "    \n",
       "        var popup_f77d3b199a853b91ed2cb8e4c3266945 = L.popup({&quot;maxWidth&quot;: &quot;100%&quot;});\n",
       "\n",
       "        \n",
       "            \n",
       "                var html_e70eaa37008ad0967e5432f3e307cc42 = $(`&lt;div id=&quot;html_e70eaa37008ad0967e5432f3e307cc42&quot; style=&quot;width: 100.0%; height: 100.0%;&quot;&gt; Lalbagh Botanical Garden // Score : 4.0 &lt;/div&gt;`)[0];\n",
       "                popup_f77d3b199a853b91ed2cb8e4c3266945.setContent(html_e70eaa37008ad0967e5432f3e307cc42);\n",
       "            \n",
       "        \n",
       "\n",
       "        marker_a69951583a14d64701825459c947d2f7.bindPopup(popup_f77d3b199a853b91ed2cb8e4c3266945)\n",
       "        ;\n",
       "\n",
       "        \n",
       "    \n",
       "&lt;/script&gt;\n",
       "&lt;/html&gt;\" style=\"position:absolute;width:100%;height:100%;left:0;top:0;border:none !important;\" allowfullscreen webkitallowfullscreen mozallowfullscreen></iframe></div></div>"
      ],
      "text/plain": [
       "<folium.folium.Map at 0x7fd7c0501d60>"
      ]
     },
     "execution_count": 40,
     "metadata": {},
     "output_type": "execute_result"
    }
   ],
   "source": [
    "# Higher score but Longer distance\n",
    "print(eval_func(fronts[0][99])) \n",
    "plot_tour(fronts[0][99])"
   ]
  },
  {
   "cell_type": "code",
   "execution_count": null,
   "id": "2e7fa786-6888-4247-9e36-f6f1f5a73620",
   "metadata": {},
   "outputs": [],
   "source": []
  },
  {
   "cell_type": "code",
   "execution_count": 41,
   "id": "76ec26e5-672e-4159-8533-906b83869a46",
   "metadata": {
    "execution": {
     "iopub.execute_input": "2023-07-07T18:49:25.678070Z",
     "iopub.status.busy": "2023-07-07T18:49:25.677924Z",
     "iopub.status.idle": "2023-07-07T18:49:25.693610Z",
     "shell.execute_reply": "2023-07-07T18:49:25.693161Z",
     "shell.execute_reply.started": "2023-07-07T18:49:25.678058Z"
    }
   },
   "outputs": [
    {
     "name": "stdout",
     "output_type": "stream",
     "text": [
      "(1.2114769647144255, 6.127059773828757)\n"
     ]
    },
    {
     "name": "stderr",
     "output_type": "stream",
     "text": [
      "/tmp/ipykernel_26978/2200379965.py:5: FutureWarning: Method `add_children` is deprecated. Please use `add_child` instead.\n",
      "  m.add_children(path)\n"
     ]
    },
    {
     "data": {
      "text/html": [
       "<div style=\"width:100%;\"><div style=\"position:relative;width:100%;height:0;padding-bottom:60%;\"><span style=\"color:#565656\">Make this Notebook Trusted to load map: File -> Trust Notebook</span><iframe srcdoc=\"&lt;!DOCTYPE html&gt;\n",
       "&lt;html&gt;\n",
       "&lt;head&gt;\n",
       "    \n",
       "    &lt;meta http-equiv=&quot;content-type&quot; content=&quot;text/html; charset=UTF-8&quot; /&gt;\n",
       "    \n",
       "        &lt;script&gt;\n",
       "            L_NO_TOUCH = false;\n",
       "            L_DISABLE_3D = false;\n",
       "        &lt;/script&gt;\n",
       "    \n",
       "    &lt;style&gt;html, body {width: 100%;height: 100%;margin: 0;padding: 0;}&lt;/style&gt;\n",
       "    &lt;style&gt;#map {position:absolute;top:0;bottom:0;right:0;left:0;}&lt;/style&gt;\n",
       "    &lt;script src=&quot;https://cdn.jsdelivr.net/npm/leaflet@1.9.3/dist/leaflet.js&quot;&gt;&lt;/script&gt;\n",
       "    &lt;script src=&quot;https://code.jquery.com/jquery-1.12.4.min.js&quot;&gt;&lt;/script&gt;\n",
       "    &lt;script src=&quot;https://cdn.jsdelivr.net/npm/bootstrap@5.2.2/dist/js/bootstrap.bundle.min.js&quot;&gt;&lt;/script&gt;\n",
       "    &lt;script src=&quot;https://cdnjs.cloudflare.com/ajax/libs/Leaflet.awesome-markers/2.0.2/leaflet.awesome-markers.js&quot;&gt;&lt;/script&gt;\n",
       "    &lt;link rel=&quot;stylesheet&quot; href=&quot;https://cdn.jsdelivr.net/npm/leaflet@1.9.3/dist/leaflet.css&quot;/&gt;\n",
       "    &lt;link rel=&quot;stylesheet&quot; href=&quot;https://cdn.jsdelivr.net/npm/bootstrap@5.2.2/dist/css/bootstrap.min.css&quot;/&gt;\n",
       "    &lt;link rel=&quot;stylesheet&quot; href=&quot;https://netdna.bootstrapcdn.com/bootstrap/3.0.0/css/bootstrap.min.css&quot;/&gt;\n",
       "    &lt;link rel=&quot;stylesheet&quot; href=&quot;https://cdn.jsdelivr.net/npm/@fortawesome/fontawesome-free@6.2.0/css/all.min.css&quot;/&gt;\n",
       "    &lt;link rel=&quot;stylesheet&quot; href=&quot;https://cdnjs.cloudflare.com/ajax/libs/Leaflet.awesome-markers/2.0.2/leaflet.awesome-markers.css&quot;/&gt;\n",
       "    &lt;link rel=&quot;stylesheet&quot; href=&quot;https://cdn.jsdelivr.net/gh/python-visualization/folium/folium/templates/leaflet.awesome.rotate.min.css&quot;/&gt;\n",
       "    \n",
       "            &lt;meta name=&quot;viewport&quot; content=&quot;width=device-width,\n",
       "                initial-scale=1.0, maximum-scale=1.0, user-scalable=no&quot; /&gt;\n",
       "            &lt;style&gt;\n",
       "                #map_cc8ba886f96de78878505261e686e2e6 {\n",
       "                    position: relative;\n",
       "                    width: 100.0%;\n",
       "                    height: 100.0%;\n",
       "                    left: 0.0%;\n",
       "                    top: 0.0%;\n",
       "                }\n",
       "                .leaflet-container { font-size: 1rem; }\n",
       "            &lt;/style&gt;\n",
       "        \n",
       "&lt;/head&gt;\n",
       "&lt;body&gt;\n",
       "    \n",
       "    \n",
       "            &lt;div class=&quot;folium-map&quot; id=&quot;map_cc8ba886f96de78878505261e686e2e6&quot; &gt;&lt;/div&gt;\n",
       "        \n",
       "&lt;/body&gt;\n",
       "&lt;script&gt;\n",
       "    \n",
       "    \n",
       "            var map_cc8ba886f96de78878505261e686e2e6 = L.map(\n",
       "                &quot;map_cc8ba886f96de78878505261e686e2e6&quot;,\n",
       "                {\n",
       "                    center: [13.035799007835822, 77.52559955181108],\n",
       "                    crs: L.CRS.EPSG3857,\n",
       "                    zoom: 8,\n",
       "                    zoomControl: true,\n",
       "                    preferCanvas: false,\n",
       "                }\n",
       "            );\n",
       "\n",
       "            \n",
       "\n",
       "        \n",
       "    \n",
       "            var tile_layer_5b5bcd24d216ff81bfb8c0aa74dd3d1d = L.tileLayer(\n",
       "                &quot;https://{s}.tile.openstreetmap.org/{z}/{x}/{y}.png&quot;,\n",
       "                {&quot;attribution&quot;: &quot;Data by \\u0026copy; \\u003ca target=\\&quot;_blank\\&quot; href=\\&quot;http://openstreetmap.org\\&quot;\\u003eOpenStreetMap\\u003c/a\\u003e, under \\u003ca target=\\&quot;_blank\\&quot; href=\\&quot;http://www.openstreetmap.org/copyright\\&quot;\\u003eODbL\\u003c/a\\u003e.&quot;, &quot;detectRetina&quot;: false, &quot;maxNativeZoom&quot;: 18, &quot;maxZoom&quot;: 18, &quot;minZoom&quot;: 0, &quot;noWrap&quot;: false, &quot;opacity&quot;: 1, &quot;subdomains&quot;: &quot;abc&quot;, &quot;tms&quot;: false}\n",
       "            ).addTo(map_cc8ba886f96de78878505261e686e2e6);\n",
       "        \n",
       "    \n",
       "            var poly_line_f997776615369143e8bf44a9ebd6f530 = L.polyline(\n",
       "                [[12.97528365, 77.59628434047809], [12.974507, 77.5968079106195], [12.9723336, 77.59611365584038], [12.97424405, 77.59219502919655], [12.9778852, 77.59267308050954], [12.98519975, 77.5918593563158], [12.9985954, 77.59200860232801]],\n",
       "                {&quot;bubblingMouseEvents&quot;: true, &quot;color&quot;: &quot;#3388ff&quot;, &quot;dashArray&quot;: null, &quot;dashOffset&quot;: null, &quot;fill&quot;: false, &quot;fillColor&quot;: &quot;#3388ff&quot;, &quot;fillOpacity&quot;: 0.2, &quot;fillRule&quot;: &quot;evenodd&quot;, &quot;lineCap&quot;: &quot;round&quot;, &quot;lineJoin&quot;: &quot;round&quot;, &quot;noClip&quot;: false, &quot;opacity&quot;: 1.0, &quot;smoothFactor&quot;: 1.0, &quot;stroke&quot;: true, &quot;weight&quot;: 5}\n",
       "            ).addTo(map_cc8ba886f96de78878505261e686e2e6);\n",
       "        \n",
       "    \n",
       "            var marker_80d3cd29305d643061158a91b8d4ccf3 = L.marker(\n",
       "                [12.97528365, 77.59628434047809],\n",
       "                {}\n",
       "            ).addTo(map_cc8ba886f96de78878505261e686e2e6);\n",
       "        \n",
       "    \n",
       "        var popup_b399c29d12bd09363b82d2c3cfd263e6 = L.popup({&quot;maxWidth&quot;: &quot;100%&quot;});\n",
       "\n",
       "        \n",
       "            \n",
       "                var html_ea45fb8db91cba55e1303389563e87b0 = $(`&lt;div id=&quot;html_ea45fb8db91cba55e1303389563e87b0&quot; style=&quot;width: 100.0%; height: 100.0%;&quot;&gt; Visvesvaraya Industrial and Technological Museum // Score : 1.2838449111470112 &lt;/div&gt;`)[0];\n",
       "                popup_b399c29d12bd09363b82d2c3cfd263e6.setContent(html_ea45fb8db91cba55e1303389563e87b0);\n",
       "            \n",
       "        \n",
       "\n",
       "        marker_80d3cd29305d643061158a91b8d4ccf3.bindPopup(popup_b399c29d12bd09363b82d2c3cfd263e6)\n",
       "        ;\n",
       "\n",
       "        \n",
       "    \n",
       "    \n",
       "            var marker_0717cbc35b0bcf01128db0e1faa05cd1 = L.marker(\n",
       "                [12.974507, 77.5968079106195],\n",
       "                {}\n",
       "            ).addTo(map_cc8ba886f96de78878505261e686e2e6);\n",
       "        \n",
       "    \n",
       "        var popup_207bcfefd3adbc6b8ffab4a043374a10 = L.popup({&quot;maxWidth&quot;: &quot;100%&quot;});\n",
       "\n",
       "        \n",
       "            \n",
       "                var html_e51af0e9f2fb8fb496ec7dcfdd1b8c4c = $(`&lt;div id=&quot;html_e51af0e9f2fb8fb496ec7dcfdd1b8c4c&quot; style=&quot;width: 100.0%; height: 100.0%;&quot;&gt; Museum of Art and Photography // Score : 0.0008077544426494346 &lt;/div&gt;`)[0];\n",
       "                popup_207bcfefd3adbc6b8ffab4a043374a10.setContent(html_e51af0e9f2fb8fb496ec7dcfdd1b8c4c);\n",
       "            \n",
       "        \n",
       "\n",
       "        marker_0717cbc35b0bcf01128db0e1faa05cd1.bindPopup(popup_207bcfefd3adbc6b8ffab4a043374a10)\n",
       "        ;\n",
       "\n",
       "        \n",
       "    \n",
       "    \n",
       "            var marker_8abff837a354b4a2c2b99e1242384ed6 = L.marker(\n",
       "                [12.9723336, 77.59611365584038],\n",
       "                {}\n",
       "            ).addTo(map_cc8ba886f96de78878505261e686e2e6);\n",
       "        \n",
       "    \n",
       "        var popup_b9b6f77086067ca4cca829d56d4d2fe4 = L.popup({&quot;maxWidth&quot;: &quot;100%&quot;});\n",
       "\n",
       "        \n",
       "            \n",
       "                var html_9f66cd404b62afeb5ea0c6f636f21d44 = $(`&lt;div id=&quot;html_9f66cd404b62afeb5ea0c6f636f21d44&quot; style=&quot;width: 100.0%; height: 100.0%;&quot;&gt; UB City // Score : 2.0369951534733444 &lt;/div&gt;`)[0];\n",
       "                popup_b9b6f77086067ca4cca829d56d4d2fe4.setContent(html_9f66cd404b62afeb5ea0c6f636f21d44);\n",
       "            \n",
       "        \n",
       "\n",
       "        marker_8abff837a354b4a2c2b99e1242384ed6.bindPopup(popup_b9b6f77086067ca4cca829d56d4d2fe4)\n",
       "        ;\n",
       "\n",
       "        \n",
       "    \n",
       "    \n",
       "            var marker_4fdf0859b448a78900f613445aa1f9b1 = L.marker(\n",
       "                [12.97424405, 77.59219502919655],\n",
       "                {}\n",
       "            ).addTo(map_cc8ba886f96de78878505261e686e2e6);\n",
       "        \n",
       "    \n",
       "        var popup_aa4502b80d00c1750fe0b5872bd46a05 = L.popup({&quot;maxWidth&quot;: &quot;100%&quot;});\n",
       "\n",
       "        \n",
       "            \n",
       "                var html_7c94f152aa7fb330df62675c22c57cad = $(`&lt;div id=&quot;html_7c94f152aa7fb330df62675c22c57cad&quot; style=&quot;width: 100.0%; height: 100.0%;&quot;&gt; Cubbon Park // Score : 1.6135702746365106 &lt;/div&gt;`)[0];\n",
       "                popup_aa4502b80d00c1750fe0b5872bd46a05.setContent(html_7c94f152aa7fb330df62675c22c57cad);\n",
       "            \n",
       "        \n",
       "\n",
       "        marker_4fdf0859b448a78900f613445aa1f9b1.bindPopup(popup_aa4502b80d00c1750fe0b5872bd46a05)\n",
       "        ;\n",
       "\n",
       "        \n",
       "    \n",
       "    \n",
       "            var marker_61ce9dffba7bfbd647c8843a60c75708 = L.marker(\n",
       "                [12.9778852, 77.59267308050954],\n",
       "                {}\n",
       "            ).addTo(map_cc8ba886f96de78878505261e686e2e6);\n",
       "        \n",
       "    \n",
       "        var popup_76443938e018927848d92c885c2b24fe = L.popup({&quot;maxWidth&quot;: &quot;100%&quot;});\n",
       "\n",
       "        \n",
       "            \n",
       "                var html_be4915e257340682fbb8c5e3b61c1300 = $(`&lt;div id=&quot;html_be4915e257340682fbb8c5e3b61c1300&quot; style=&quot;width: 100.0%; height: 100.0%;&quot;&gt; Karnataka High Court // Score : 0.0801292407108239 &lt;/div&gt;`)[0];\n",
       "                popup_76443938e018927848d92c885c2b24fe.setContent(html_be4915e257340682fbb8c5e3b61c1300);\n",
       "            \n",
       "        \n",
       "\n",
       "        marker_61ce9dffba7bfbd647c8843a60c75708.bindPopup(popup_76443938e018927848d92c885c2b24fe)\n",
       "        ;\n",
       "\n",
       "        \n",
       "    \n",
       "    \n",
       "            var marker_dd0b7f523ff4b1e04dca32c38d941077 = L.marker(\n",
       "                [12.98519975, 77.5918593563158],\n",
       "                {}\n",
       "            ).addTo(map_cc8ba886f96de78878505261e686e2e6);\n",
       "        \n",
       "    \n",
       "        var popup_2c3652dd76eebd1e401d021dae12aadd = L.popup({&quot;maxWidth&quot;: &quot;100%&quot;});\n",
       "\n",
       "        \n",
       "            \n",
       "                var html_743932dc15606038cba9283559d6f59b = $(`&lt;div id=&quot;html_743932dc15606038cba9283559d6f59b&quot; style=&quot;width: 100.0%; height: 100.0%;&quot;&gt; Indira Gandhi Musical Fountain // Score : 0.14991922455573506 &lt;/div&gt;`)[0];\n",
       "                popup_2c3652dd76eebd1e401d021dae12aadd.setContent(html_743932dc15606038cba9283559d6f59b);\n",
       "            \n",
       "        \n",
       "\n",
       "        marker_dd0b7f523ff4b1e04dca32c38d941077.bindPopup(popup_2c3652dd76eebd1e401d021dae12aadd)\n",
       "        ;\n",
       "\n",
       "        \n",
       "    \n",
       "    \n",
       "            var marker_5f25d5076525d05f5c72a2dced72421d = L.marker(\n",
       "                [12.9985954, 77.59200860232801],\n",
       "                {}\n",
       "            ).addTo(map_cc8ba886f96de78878505261e686e2e6);\n",
       "        \n",
       "    \n",
       "        var popup_63ca319885f937c520f4d92986c24382 = L.popup({&quot;maxWidth&quot;: &quot;100%&quot;});\n",
       "\n",
       "        \n",
       "            \n",
       "                var html_afc708e89c9679c95bd5afbe56e118c0 = $(`&lt;div id=&quot;html_afc708e89c9679c95bd5afbe56e118c0&quot; style=&quot;width: 100.0%; height: 100.0%;&quot;&gt; Bangalore Palace // Score : 0.9617932148626818 &lt;/div&gt;`)[0];\n",
       "                popup_63ca319885f937c520f4d92986c24382.setContent(html_afc708e89c9679c95bd5afbe56e118c0);\n",
       "            \n",
       "        \n",
       "\n",
       "        marker_5f25d5076525d05f5c72a2dced72421d.bindPopup(popup_63ca319885f937c520f4d92986c24382)\n",
       "        ;\n",
       "\n",
       "        \n",
       "    \n",
       "&lt;/script&gt;\n",
       "&lt;/html&gt;\" style=\"position:absolute;width:100%;height:100%;left:0;top:0;border:none !important;\" allowfullscreen webkitallowfullscreen mozallowfullscreen></iframe></div></div>"
      ],
      "text/plain": [
       "<folium.folium.Map at 0x7fd7c20506d0>"
      ]
     },
     "execution_count": 41,
     "metadata": {},
     "output_type": "execute_result"
    }
   ],
   "source": [
    "# Shorter distance but Lower score\n",
    "print(eval_func(fronts[0][0]))  \n",
    "plot_tour(fronts[0][0])"
   ]
  },
  {
   "cell_type": "code",
   "execution_count": 42,
   "id": "ba54ee69-27ba-4a60-9874-d3a44c5bfd43",
   "metadata": {
    "execution": {
     "iopub.execute_input": "2023-07-07T18:49:25.694251Z",
     "iopub.status.busy": "2023-07-07T18:49:25.694124Z",
     "iopub.status.idle": "2023-07-07T18:49:25.696749Z",
     "shell.execute_reply": "2023-07-07T18:49:25.696310Z",
     "shell.execute_reply.started": "2023-07-07T18:49:25.694238Z"
    }
   },
   "outputs": [],
   "source": [
    "best_individual = tools.selBest(pop, k=4)[0]"
   ]
  },
  {
   "cell_type": "code",
   "execution_count": 43,
   "id": "1ddba877-2d24-4636-ba82-4c38d5c5778f",
   "metadata": {
    "execution": {
     "iopub.execute_input": "2023-07-07T18:49:25.697447Z",
     "iopub.status.busy": "2023-07-07T18:49:25.697299Z",
     "iopub.status.idle": "2023-07-07T18:49:25.701642Z",
     "shell.execute_reply": "2023-07-07T18:49:25.701268Z",
     "shell.execute_reply.started": "2023-07-07T18:49:25.697432Z"
    }
   },
   "outputs": [
    {
     "data": {
      "text/plain": [
       "[5, 119, 2, 4, 35, 20, 7]"
      ]
     },
     "execution_count": 43,
     "metadata": {},
     "output_type": "execute_result"
    }
   ],
   "source": [
    "best_individual"
   ]
  },
  {
   "cell_type": "code",
   "execution_count": 44,
   "id": "04daef00-a8de-421b-b3ef-5fdb097f2f68",
   "metadata": {
    "execution": {
     "iopub.execute_input": "2023-07-07T18:49:25.702383Z",
     "iopub.status.busy": "2023-07-07T18:49:25.702258Z",
     "iopub.status.idle": "2023-07-07T18:49:25.709505Z",
     "shell.execute_reply": "2023-07-07T18:49:25.709057Z",
     "shell.execute_reply.started": "2023-07-07T18:49:25.702370Z"
    }
   },
   "outputs": [
    {
     "data": {
      "text/html": [
       "<div>\n",
       "<style scoped>\n",
       "    .dataframe tbody tr th:only-of-type {\n",
       "        vertical-align: middle;\n",
       "    }\n",
       "\n",
       "    .dataframe tbody tr th {\n",
       "        vertical-align: top;\n",
       "    }\n",
       "\n",
       "    .dataframe thead th {\n",
       "        text-align: right;\n",
       "    }\n",
       "</style>\n",
       "<table border=\"1\" class=\"dataframe\">\n",
       "  <thead>\n",
       "    <tr style=\"text-align: right;\">\n",
       "      <th></th>\n",
       "      <th>place</th>\n",
       "      <th>Rating</th>\n",
       "      <th>Popularity</th>\n",
       "      <th>latitude</th>\n",
       "      <th>longitude</th>\n",
       "      <th>State</th>\n",
       "    </tr>\n",
       "  </thead>\n",
       "  <tbody>\n",
       "    <tr>\n",
       "      <th>5</th>\n",
       "      <td>Visvesvaraya Industrial and Technological Museum</td>\n",
       "      <td>1.283845</td>\n",
       "      <td>1766.0</td>\n",
       "      <td>12.975284</td>\n",
       "      <td>77.596284</td>\n",
       "      <td>Karnataka</td>\n",
       "    </tr>\n",
       "    <tr>\n",
       "      <th>119</th>\n",
       "      <td>Museum of Art and Photography</td>\n",
       "      <td>0.000808</td>\n",
       "      <td>1.0</td>\n",
       "      <td>12.974507</td>\n",
       "      <td>77.596808</td>\n",
       "      <td>Karnataka</td>\n",
       "    </tr>\n",
       "    <tr>\n",
       "      <th>2</th>\n",
       "      <td>UB City</td>\n",
       "      <td>2.036995</td>\n",
       "      <td>2802.0</td>\n",
       "      <td>12.972334</td>\n",
       "      <td>77.596114</td>\n",
       "      <td>Karnataka</td>\n",
       "    </tr>\n",
       "    <tr>\n",
       "      <th>4</th>\n",
       "      <td>Cubbon Park</td>\n",
       "      <td>1.613570</td>\n",
       "      <td>2497.0</td>\n",
       "      <td>12.974244</td>\n",
       "      <td>77.592195</td>\n",
       "      <td>Karnataka</td>\n",
       "    </tr>\n",
       "    <tr>\n",
       "      <th>35</th>\n",
       "      <td>Karnataka High Court</td>\n",
       "      <td>0.080129</td>\n",
       "      <td>124.0</td>\n",
       "      <td>12.977885</td>\n",
       "      <td>77.592673</td>\n",
       "      <td>Karnataka</td>\n",
       "    </tr>\n",
       "    <tr>\n",
       "      <th>20</th>\n",
       "      <td>Indira Gandhi Musical Fountain</td>\n",
       "      <td>0.149919</td>\n",
       "      <td>232.0</td>\n",
       "      <td>12.985200</td>\n",
       "      <td>77.591859</td>\n",
       "      <td>Karnataka</td>\n",
       "    </tr>\n",
       "    <tr>\n",
       "      <th>7</th>\n",
       "      <td>Bangalore Palace</td>\n",
       "      <td>0.961793</td>\n",
       "      <td>1701.0</td>\n",
       "      <td>12.998595</td>\n",
       "      <td>77.592009</td>\n",
       "      <td>Karnataka</td>\n",
       "    </tr>\n",
       "  </tbody>\n",
       "</table>\n",
       "</div>"
      ],
      "text/plain": [
       "                                                 place    Rating  Popularity   \n",
       "5     Visvesvaraya Industrial and Technological Museum  1.283845      1766.0  \\\n",
       "119                      Museum of Art and Photography  0.000808         1.0   \n",
       "2                                              UB City  2.036995      2802.0   \n",
       "4                                          Cubbon Park  1.613570      2497.0   \n",
       "35                                Karnataka High Court  0.080129       124.0   \n",
       "20                      Indira Gandhi Musical Fountain  0.149919       232.0   \n",
       "7                                     Bangalore Palace  0.961793      1701.0   \n",
       "\n",
       "      latitude  longitude      State  \n",
       "5    12.975284  77.596284  Karnataka  \n",
       "119  12.974507  77.596808  Karnataka  \n",
       "2    12.972334  77.596114  Karnataka  \n",
       "4    12.974244  77.592195  Karnataka  \n",
       "35   12.977885  77.592673  Karnataka  \n",
       "20   12.985200  77.591859  Karnataka  \n",
       "7    12.998595  77.592009  Karnataka  "
      ]
     },
     "execution_count": 44,
     "metadata": {},
     "output_type": "execute_result"
    }
   ],
   "source": [
    "df_loc.iloc[best_individual]"
   ]
  },
  {
   "cell_type": "code",
   "execution_count": null,
   "id": "b28a1b0d-b536-471c-a995-8cf2adc44edc",
   "metadata": {},
   "outputs": [],
   "source": []
  },
  {
   "cell_type": "code",
   "execution_count": null,
   "id": "af54336d-9e8b-4bbe-a1d9-a0f045b7ad72",
   "metadata": {},
   "outputs": [],
   "source": []
  }
 ],
 "metadata": {
  "kernelspec": {
   "display_name": "Python 3 (ipykernel)",
   "language": "python",
   "name": "python3"
  },
  "language_info": {
   "codemirror_mode": {
    "name": "ipython",
    "version": 3
   },
   "file_extension": ".py",
   "mimetype": "text/x-python",
   "name": "python",
   "nbconvert_exporter": "python",
   "pygments_lexer": "ipython3",
   "version": "3.9.17"
  }
 },
 "nbformat": 4,
 "nbformat_minor": 5
}
